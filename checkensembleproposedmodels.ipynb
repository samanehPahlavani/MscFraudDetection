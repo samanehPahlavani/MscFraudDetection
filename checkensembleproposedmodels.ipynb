{
  "cells": [
    {
      "cell_type": "markdown",
      "metadata": {
        "id": "view-in-github",
        "colab_type": "text"
      },
      "source": [
        "<a href=\"https://colab.research.google.com/github/samanehPahlavani/MscFraudDetection/blob/main/checkensembleproposedmodels.ipynb\" target=\"_parent\"><img src=\"https://colab.research.google.com/assets/colab-badge.svg\" alt=\"Open In Colab\"/></a>"
      ]
    },
    {
      "cell_type": "markdown",
      "metadata": {
        "id": "BLvgIhDnCd4I"
      },
      "source": [
        "# Connect Google Drive For Dataset"
      ]
    },
    {
      "cell_type": "code",
      "execution_count": null,
      "metadata": {
        "colab": {
          "base_uri": "https://localhost:8080/"
        },
        "id": "LCkW6pZbNWtJ",
        "outputId": "51419795-f587-48d5-f20e-a29f5d2e3402"
      },
      "outputs": [
        {
          "output_type": "stream",
          "name": "stdout",
          "text": [
            "Mounted at /content/drive\n"
          ]
        }
      ],
      "source": [
        "from google.colab import drive\n",
        "drive.mount('/content/drive')"
      ]
    },
    {
      "cell_type": "markdown",
      "metadata": {
        "id": "0l4o7Ec9CMhQ"
      },
      "source": [
        "# Librarries"
      ]
    },
    {
      "cell_type": "code",
      "execution_count": null,
      "metadata": {
        "id": "g38JUFNsNffx"
      },
      "outputs": [],
      "source": [
        "####Libraries Import\n",
        "import numpy as np\n",
        "import pandas as pd\n",
        "import matplotlib.pyplot as plt\n",
        "import seaborn as sns\n",
        "import warnings\n",
        "warnings.filterwarnings('ignore')\n",
        "import os\n",
        "\n",
        "%matplotlib inline\n",
        "import sklearn\n",
        "\n",
        "from sklearn.preprocessing import MinMaxScaler\n",
        "from sklearn.preprocessing import StandardScaler\n",
        "from sklearn.model_selection import train_test_split\n",
        "from imblearn.over_sampling import SMOTE\n",
        "from imblearn.under_sampling import RandomUnderSampler\n",
        "from imblearn.over_sampling import RandomOverSampler\n"
      ]
    },
    {
      "cell_type": "code",
      "execution_count": null,
      "metadata": {
        "id": "EebzlEOoPIQn"
      },
      "outputs": [],
      "source": [
        "import tensorflow as tf\n",
        "from tensorflow.keras.models import Sequential\n",
        "from tensorflow.keras.layers import Conv1D, MaxPooling1D, Flatten, Dense, Dropout\n",
        "from sklearn.model_selection import train_test_split\n",
        "from sklearn.preprocessing import StandardScaler\n",
        "from sklearn.preprocessing import LabelEncoder\n",
        "from sklearn.model_selection import train_test_split\n",
        "from sklearn.metrics import accuracy_score, precision_score, recall_score, f1_score, confusion_matrix\n",
        "from sklearn.model_selection import StratifiedKFold"
      ]
    },
    {
      "cell_type": "code",
      "execution_count": null,
      "metadata": {
        "id": "7cvVXdoHMgCq"
      },
      "outputs": [],
      "source": [
        "from sklearn.linear_model import LogisticRegression # for Logistic Regression Algorithm\n",
        "from sklearn.svm import SVC\n",
        "from sklearn.ensemble import RandomForestClassifier"
      ]
    },
    {
      "cell_type": "code",
      "execution_count": null,
      "metadata": {
        "id": "GY3_rgI6YLiJ"
      },
      "outputs": [],
      "source": [
        "from sklearn.tree import DecisionTreeClassifier\n",
        "from xgboost import XGBClassifier\n",
        "from sklearn.svm import SVR"
      ]
    },
    {
      "cell_type": "code",
      "execution_count": null,
      "metadata": {
        "id": "JBCJ9U8eMjtp"
      },
      "outputs": [],
      "source": [
        "from sklearn import metrics # for checking the model accuracy"
      ]
    },
    {
      "cell_type": "code",
      "execution_count": null,
      "metadata": {
        "id": "k2wy9jCTOLbb"
      },
      "outputs": [],
      "source": [
        "from sklearn.model_selection import cross_val_score"
      ]
    },
    {
      "cell_type": "code",
      "execution_count": null,
      "metadata": {
        "colab": {
          "base_uri": "https://localhost:8080/",
          "height": 349
        },
        "id": "g56ZnvPVUER-",
        "outputId": "acbfbf1a-3d20-4599-8c45-7ae59fe50345"
      },
      "outputs": [
        {
          "output_type": "stream",
          "name": "stdout",
          "text": [
            "Collecting pandas_ml\n",
            "  Downloading pandas_ml-0.6.1-py3-none-any.whl (100 kB)\n",
            "\u001b[?25l     \u001b[90m━━━━━━━━━━━━━━━━━━━━━━━━━━━━━━━━━━━━━━━━\u001b[0m \u001b[32m0.0/100.3 kB\u001b[0m \u001b[31m?\u001b[0m eta \u001b[36m-:--:--\u001b[0m\r\u001b[2K     \u001b[90m━━━━━━━━━━━━━━━━━━━━━━━━━━━━━━━━━━━━━━━━\u001b[0m \u001b[32m100.3/100.3 kB\u001b[0m \u001b[31m3.0 MB/s\u001b[0m eta \u001b[36m0:00:00\u001b[0m\n",
            "\u001b[?25hRequirement already satisfied: pandas>=0.19.0 in /usr/local/lib/python3.10/dist-packages (from pandas_ml) (2.0.3)\n",
            "Collecting enum34 (from pandas_ml)\n",
            "  Downloading enum34-1.1.10-py3-none-any.whl (11 kB)\n",
            "Requirement already satisfied: python-dateutil>=2.8.2 in /usr/local/lib/python3.10/dist-packages (from pandas>=0.19.0->pandas_ml) (2.8.2)\n",
            "Requirement already satisfied: pytz>=2020.1 in /usr/local/lib/python3.10/dist-packages (from pandas>=0.19.0->pandas_ml) (2023.4)\n",
            "Requirement already satisfied: tzdata>=2022.1 in /usr/local/lib/python3.10/dist-packages (from pandas>=0.19.0->pandas_ml) (2024.1)\n",
            "Requirement already satisfied: numpy>=1.21.0 in /usr/local/lib/python3.10/dist-packages (from pandas>=0.19.0->pandas_ml) (1.25.2)\n",
            "Requirement already satisfied: six>=1.5 in /usr/local/lib/python3.10/dist-packages (from python-dateutil>=2.8.2->pandas>=0.19.0->pandas_ml) (1.16.0)\n",
            "Installing collected packages: enum34, pandas_ml\n",
            "Successfully installed enum34-1.1.10 pandas_ml-0.6.1\n"
          ]
        },
        {
          "output_type": "display_data",
          "data": {
            "application/vnd.colab-display-data+json": {
              "pip_warning": {
                "packages": [
                  "enum"
                ]
              },
              "id": "0efd509a6f264e5fb2964f0736269251"
            }
          },
          "metadata": {}
        }
      ],
      "source": [
        "!pip install pandas_ml"
      ]
    },
    {
      "cell_type": "code",
      "execution_count": null,
      "metadata": {
        "id": "jWDU5PrOZQaG"
      },
      "outputs": [],
      "source": [
        "# Import the necessary libraries\n",
        "from sklearn.neural_network import MLPClassifier\n",
        "from sklearn.naive_bayes import GaussianNB\n"
      ]
    },
    {
      "cell_type": "code",
      "execution_count": null,
      "metadata": {
        "id": "Bl-Szdp-ZMAR"
      },
      "outputs": [],
      "source": [
        "from sklearn.ensemble import BaggingClassifier, StackingClassifier, VotingClassifier\n",
        "from sklearn.ensemble import ExtraTreesClassifier\n",
        "from sklearn.metrics import accuracy_score, precision_score, recall_score, f1_score, cohen_kappa_score, roc_curve, auc\n",
        "from sklearn.model_selection import train_test_split\n",
        "from sklearn.linear_model import LogisticRegression\n",
        "from sklearn.datasets import make_classification\n",
        "from xgboost import XGBClassifier\n",
        "import time\n",
        "import matplotlib.pyplot as plt\n"
      ]
    },
    {
      "cell_type": "markdown",
      "metadata": {
        "id": "lKZvvF8DCTjK"
      },
      "source": [
        "# Functions Def"
      ]
    },
    {
      "cell_type": "code",
      "execution_count": null,
      "metadata": {
        "id": "Yc0vpXMON1HI"
      },
      "outputs": [],
      "source": [
        "def LoadData(data):\n",
        "  warnings.filterwarnings('ignore')\n",
        "  pd.options.display.max_columns = None\n",
        "  pd.options.display.max_rows = None\n",
        "  df = pd.read_csv(os.path.join(\"/content/drive/MyDrive/EtherFirstDataSet/\", data+\".csv\"))\n",
        "  return df\n",
        "#Load datas\n",
        "def preprocessing():\n",
        "\n",
        "  df1 = LoadData(str(1))\n",
        "  df2 = LoadData(str(2))\n",
        "\n",
        "  df1_fillna = df1.copy()\n",
        "  df2_fillna = df2.copy()\n",
        "\n",
        "  #Drop Most None Related Value Features\n",
        "  df1_fillna.drop([\"ERC20_uniq_rec_token_name\",\"ERC20_uniq_sent_token_name\",\"ERC20_avg_val_sent\",\"ERC20_max_val_sent\",\"ERC20_min_val_sent\",\"ERC20_avg_val_rec\",\"ERC20_max_val_rec\",\"ERC20_min_val_rec\",\"ERC20_uniq_rec_contract_addr\",\"ERC20_uniq_sent_addr_1\",\"ERC20_uniq_sent_addr\",\"ERC20_total_Ether_sent_contract\",\"ERC20_total_ether_sent\",\"ERC20_total_Ether_received\",\"ERC20_most_rec_token_type\",\"ERC20_most_sent_token_type\"], axis=1, inplace=True)\n",
        "  df1_fillna.drop([\"ERC20_uniq_rec_addr\",\"Total_ERC20_tnxs\",\"Time_Diff_between_first_and_last_Mins\",\"total_ether_sent_contracts\"], axis=1, inplace=True)\n",
        "  df2_fillna.drop([\"minTimeBetweenSentTnx\",\"maxTimeBetweenSentTnx\",\"minTimeBetweenRecTnx\",\"maxTimeBetweenRecTnx\",\"lifetime\",\"activityDays\",\"dailyMax\",\"ratioRecSent\",\"ratioSentTotal\",\"ratioRecTotal\",\"giniSent\",\"giniRec\",\"txFreq\",\"stdBalanceEth\"], axis=1, inplace=True)\n",
        "\n",
        "  #Rename Columns\n",
        "  selected_columns = [\"address\",\"flag\",\"avgTimeBetweenRecTnx\",\"avgTimeBetweenSentTnx\",\"sentTransactions\" ,\"receivedTransactions\", \"createdContracts\" ,\"Average_of_numUniqRecAddress\" ,\"Average_of_numUniqSentAddress\"\n",
        "  ,\"minValReceived\"\n",
        "  ,\"maxValReceived\"\n",
        "  ,\"avgValReceived\"\n",
        "  , \"minValSent\"\n",
        "  , \"maxValSent\"\n",
        "  ,\"avgValSent\"\n",
        "  ,\"totalTransactions\"\n",
        "  ,\"totalEtherSent\"\n",
        "  ,\"totalEtherReceived\"\n",
        "  ,\"totalEtherBalance\"    ]\n",
        "\n",
        "  df2_fillna = df2[selected_columns].copy()\n",
        "\n",
        "  df2_fillna.columns = [\"Address\"\n",
        "  ,\"FLAG\"\n",
        "  ,\"Avg_min_between_received_tnx\"\n",
        "  ,\"Avg_min_between_sent_tnx\"\n",
        "  ,\"Sent_tnx\"\n",
        "  ,\"Received_Tnx\"\n",
        "  ,\"Number_of_Created_Contracts\"\n",
        "  ,\"Average_of_Unique_Received_From_Addresses\"\n",
        "  ,\"Average_of_Unique_Sent_To_Addresses\"\n",
        "  ,\"min_value_received\"\n",
        "  ,\"max_value_received \"\n",
        "  ,\"avg_val_received\"\n",
        "  ,\"min_val_sent\"\n",
        "  ,\"max_val_sent\"\n",
        "  ,\"avg_val_sent\"\n",
        "  ,\"total_transactions_including_tnx_to_create_contract\"\n",
        "  ,\"total_Ether_sent\"\n",
        "  ,\"total_ether_received\"\n",
        "  ,\"total_ether_balance\"\n",
        "  ]\n",
        "\n",
        "  merged_df = pd.merge(df1_fillna, df2_fillna, how='outer')\n",
        "  df_filtered = merged_df.drop_duplicates(subset='Address', keep='first')\n",
        "  return df_filtered\n",
        "\n"
      ]
    },
    {
      "cell_type": "code",
      "execution_count": null,
      "metadata": {
        "id": "qAZ3JtKZO8RO"
      },
      "outputs": [],
      "source": [
        "def scaled(data):\n",
        "  # Convert categorical 'FLAG' to numeric\n",
        "  label_encoder = LabelEncoder()\n",
        "  data['FLAG'] = label_encoder.fit_transform(data['FLAG'])\n",
        "\n",
        "  # Splitting the data into features (X) and labels (y)\n",
        "  X =  data.drop(['FLAG'], axis=1)\n",
        "  y = data['FLAG']\n",
        "\n",
        "  # Standardize features\n",
        "  scaler = StandardScaler()\n",
        "  X_scaled = scaler.fit_transform(X)\n",
        "  #X_scaled['FLAG'] = y\n",
        "\n",
        "\n",
        "  return X_scaled,y"
      ]
    },
    {
      "cell_type": "code",
      "execution_count": null,
      "metadata": {
        "id": "JTT6oBABCzlX"
      },
      "outputs": [],
      "source": [
        "def undersampling(data, target_column):\n",
        "    # Separate features and target variable\n",
        "    X = data.drop(target_column, axis=1)\n",
        "    y = data[target_column]\n",
        "\n",
        "    # Apply undersampling\n",
        "    undersampler = RandomUnderSampler()\n",
        "    X_resampled, y_resampled = undersampler.fit_resample(X, y)\n",
        "\n",
        "    # Get indices of selected samples\n",
        "    selected_indices = undersampler.sample_indices_\n",
        "\n",
        "    # Get indices of unselected samples\n",
        "    unselected_indices = np.setdiff1d(np.arange(len(X)), selected_indices)\n",
        "\n",
        "    # Extract unselected samples\n",
        "    X_unselected = X.iloc[unselected_indices]\n",
        "    y_unselected = y.iloc[unselected_indices]\n",
        "\n",
        "    # Combine unselected data into a DataFrame\n",
        "    unselected_data = pd.concat([X_unselected, y_unselected], axis=1)\n",
        "    resampled = pd.concat([X_resampled, y_resampled], axis=1)\n",
        "    return resampled, unselected_data"
      ]
    },
    {
      "cell_type": "code",
      "execution_count": null,
      "metadata": {
        "id": "R372OqcfDl1l"
      },
      "outputs": [],
      "source": [
        "def oversampling(data, target_column):\n",
        "    # Separate features and target variable\n",
        "    X = data.drop(target_column, axis=1)\n",
        "    y = data[target_column]\n",
        "\n",
        "    # Apply oversampling\n",
        "    oversampler = RandomOverSampler()\n",
        "    X_resampled, y_resampled = oversampler.fit_resample(X, y)\n",
        "\n",
        "    # Get indices of selected samples\n",
        "    selected_indices = oversampler.sample_indices_\n",
        "\n",
        "    # Get indices of unselected samples\n",
        "    unselected_indices = np.setdiff1d(np.arange(len(X)), selected_indices)\n",
        "\n",
        "    # Extract unselected samples\n",
        "    X_unselected = X.iloc[unselected_indices]\n",
        "    y_unselected = y.iloc[unselected_indices]\n",
        "\n",
        "    # Combine unselected data into a DataFrame\n",
        "    unselected_data = pd.concat([X_unselected, y_unselected], axis=1)\n",
        "    resampled = pd.concat([X_resampled, y_resampled], axis=1)\n",
        "\n",
        "    return resampled, unselected_data"
      ]
    },
    {
      "cell_type": "code",
      "execution_count": null,
      "metadata": {
        "id": "ky7ICuRuDl8f"
      },
      "outputs": [],
      "source": [
        "def smote(data, target_column):\n",
        "    # Separate features and target variable\n",
        "    X = data.drop(target_column, axis=1)\n",
        "    y = data[target_column]\n",
        "\n",
        "    # Apply SMOTE\n",
        "    smote = SMOTE()\n",
        "    X_resampled, y_resampled = smote.fit_resample(X, y)\n",
        "\n",
        "    # Combine resampled data into a DataFrame\n",
        "    resampled_data = pd.concat([pd.DataFrame(X_resampled, columns=X.columns), pd.Series(y_resampled, name=target_column)], axis=1)\n",
        "    return resampled_data,''"
      ]
    },
    {
      "cell_type": "code",
      "execution_count": null,
      "metadata": {
        "id": "YaS8Ky5CCnsG"
      },
      "outputs": [],
      "source": [
        "def ballanced(data,type=\"O\"):\n",
        "\n",
        "  if type==\"U\":\n",
        "    resampled, unselected_data = undersampling(data, 'FLAG')\n",
        "  elif type==\"S\":\n",
        "    resampled, unselected_data  = smote(data, 'FLAG')\n",
        "  elif type==\"O\":\n",
        "    resampled, unselected_data = oversampling(data, 'FLAG')\n",
        "\n",
        "\n",
        "  return resampled, unselected_data\n"
      ]
    },
    {
      "cell_type": "markdown",
      "metadata": {
        "id": "4PMLJfkuLjgJ"
      },
      "source": [
        "#**Preprocessing **"
      ]
    },
    {
      "cell_type": "code",
      "execution_count": null,
      "metadata": {
        "id": "PQGlmKgmObAP"
      },
      "outputs": [],
      "source": [
        "df_filtered = preprocessing()\n",
        "df_filtered = df_filtered.drop(['Address'], axis=1)"
      ]
    },
    {
      "cell_type": "code",
      "execution_count": null,
      "metadata": {
        "colab": {
          "base_uri": "https://localhost:8080/"
        },
        "id": "o5piKBBPh_d9",
        "outputId": "ea72f24e-a09b-4d04-fb1a-12648481f6bd"
      },
      "outputs": [
        {
          "output_type": "execute_result",
          "data": {
            "text/plain": [
              "(20302, 18)"
            ]
          },
          "metadata": {},
          "execution_count": 24
        }
      ],
      "source": [
        "df_filtered.shape"
      ]
    },
    {
      "cell_type": "markdown",
      "metadata": {
        "id": "jkpkxkSm8eEl"
      },
      "source": [
        "**Imballanced Dataset**"
      ]
    },
    {
      "cell_type": "code",
      "execution_count": null,
      "metadata": {
        "colab": {
          "base_uri": "https://localhost:8080/",
          "height": 428
        },
        "id": "ioeEnhHe8V_e",
        "outputId": "8f337d0d-289b-4dbb-b54e-6446534bc03e"
      },
      "outputs": [
        {
          "output_type": "display_data",
          "data": {
            "text/plain": [
              "<Figure size 640x480 with 1 Axes>"
            ],
            "image/png": "[encoded data removed]"
          },
          "metadata": {}
        }
      ],
      "source": [
        "df = df_filtered\n",
        "positive_sample = df[(df[\"FLAG\"]==1)]\n",
        "negative_sample = df[(df[\"FLAG\"]==0)]\n",
        "dist = df[\"FLAG\"].value_counts()\n",
        "\n",
        "_ = plt.pie(dist, labels = [\"Negative ({0})\".format(len(negative_sample)), \"Positive ({0})\".format(len(positive_sample))], colors = [\"r\", \"g\"], explode=[0.2, 0], autopct='%1.1f%%')\n",
        "_ = plt.title(\"Data Distribution\")"
      ]
    },
    {
      "cell_type": "code",
      "execution_count": null,
      "metadata": {
        "colab": {
          "base_uri": "https://localhost:8080/"
        },
        "id": "r2cgG4FuNaeE",
        "outputId": "e1171343-0b26-4dfd-a86b-1cc4d945a336"
      },
      "outputs": [
        {
          "output_type": "execute_result",
          "data": {
            "text/plain": [
              "(20302, 18)"
            ]
          },
          "metadata": {},
          "execution_count": 26
        }
      ],
      "source": [
        "#df_filtered = np.array(df_filtered)\n",
        "\n",
        "df_filtered.shape"
      ]
    },
    {
      "cell_type": "code",
      "execution_count": null,
      "metadata": {
        "colab": {
          "base_uri": "https://localhost:8080/"
        },
        "id": "oSjP7e4MCIqv",
        "outputId": "528316c9-8740-46d8-b247-446dd298f80f"
      },
      "outputs": [
        {
          "output_type": "execute_result",
          "data": {
            "text/plain": [
              "(29254, 18)"
            ]
          },
          "metadata": {},
          "execution_count": 27
        }
      ],
      "source": [
        "resampledOver, unselected_Over = ballanced(df_filtered,\"O\")\n",
        "resampledOver.shape"
      ]
    },
    {
      "cell_type": "code",
      "execution_count": null,
      "metadata": {
        "colab": {
          "base_uri": "https://localhost:8080/"
        },
        "id": "83thwOx0M_O0",
        "outputId": "932abcb3-e110-4a75-e5ff-c9b3689865aa"
      },
      "outputs": [
        {
          "output_type": "execute_result",
          "data": {
            "text/plain": [
              "(11350, 18)"
            ]
          },
          "metadata": {},
          "execution_count": 28
        }
      ],
      "source": [
        "resampledUnder, unselected_Under = ballanced(df_filtered,\"U\")\n",
        "resampledUnder.shape"
      ]
    },
    {
      "cell_type": "code",
      "execution_count": null,
      "metadata": {
        "colab": {
          "base_uri": "https://localhost:8080/"
        },
        "id": "E_YfMlHPM_nT",
        "outputId": "2c0d226b-ad08-418e-b6a7-ec73eb4207b4"
      },
      "outputs": [
        {
          "output_type": "execute_result",
          "data": {
            "text/plain": [
              "(29254, 18)"
            ]
          },
          "metadata": {},
          "execution_count": 29
        }
      ],
      "source": [
        "resampledSmote, unselected_Smote = ballanced(df_filtered,\"S\")\n",
        "resampledSmote.shape"
      ]
    },
    {
      "cell_type": "code",
      "execution_count": null,
      "metadata": {
        "colab": {
          "base_uri": "https://localhost:8080/",
          "height": 383
        },
        "id": "YkXr7QaWyWMy",
        "outputId": "bc7a4e97-7752-45ef-ae90-d48c441b64ee"
      },
      "outputs": [
        {
          "output_type": "execute_result",
          "data": {
            "text/plain": [
              "   Avg_min_between_received_tnx  Avg_min_between_sent_tnx  Sent_tnx  \\\n",
              "0                       1093.71                    844.26       721   \n",
              "1                       2958.44                  12709.07        94   \n",
              "2                       2434.02                 246194.54         2   \n",
              "3                      15785.09                  10219.60        25   \n",
              "4                      10707.77                     36.61      4598   \n",
              "5                        375.48                   9900.12         2   \n",
              "6                        629.44                     69.46        25   \n",
              "7                        176.84                   1497.39       213   \n",
              "8                          0.00                      0.00         1   \n",
              "9                       3336.01                   2570.59         8   \n",
              "\n",
              "   Received_Tnx  Number_of_Created_Contracts  \\\n",
              "0            89                            0   \n",
              "1             8                            0   \n",
              "2            10                            0   \n",
              "3             9                            0   \n",
              "4            20                            1   \n",
              "5             3                            0   \n",
              "6            11                            0   \n",
              "7             5                            0   \n",
              "8             1                            0   \n",
              "9             3                            0   \n",
              "\n",
              "   Average_of_Unique_Received_From_Addresses  \\\n",
              "0                                         40   \n",
              "1                                          5   \n",
              "2                                         10   \n",
              "3                                          7   \n",
              "4                                          7   \n",
              "5                                          2   \n",
              "6                                          9   \n",
              "7                                          3   \n",
              "8                                          1   \n",
              "9                                          2   \n",
              "\n",
              "   Average_of_Unique_Sent_To_Addresses  min_value_received  \\\n",
              "0                                  118            0.000000   \n",
              "1                                   14            0.000000   \n",
              "2                                    2            0.113119   \n",
              "3                                   13            0.000000   \n",
              "4                                   19            0.000000   \n",
              "5                                    1            0.724148   \n",
              "6                                   20            0.049000   \n",
              "7                                    3            0.118490   \n",
              "8                                    1            2.000000   \n",
              "9                                    4            0.100000   \n",
              "\n",
              "   max_value_received   avg_val_received  min_val_sent  max_val_sent  \\\n",
              "0            45.806785          6.589513      0.000000     31.220000   \n",
              "1             2.613269          0.385685      0.000000      1.800000   \n",
              "2             1.165453          0.358906      0.050000      3.538616   \n",
              "3           500.000000         99.488840      0.000000    450.000000   \n",
              "4            12.802411          2.671095      0.000000      9.000000   \n",
              "5             4.813776          3.234908      4.166800      5.536916   \n",
              "6             2.650000          1.098115      0.009457      4.284785   \n",
              "7             2.000000          0.891098      0.000000      0.700000   \n",
              "8             2.000000          2.000000      1.999380      1.999380   \n",
              "9            40.000000         16.700000      0.100000     40.000000   \n",
              "\n",
              "   avg_val_sent  total_transactions_including_tnx_to_create_contract  \\\n",
              "0      1.200681                                                810     \n",
              "1      0.032844                                                102     \n",
              "2      1.794308                                                 12     \n",
              "3     70.001834                                                 34     \n",
              "4      0.022688                                               4619     \n",
              "5      4.851858                                                  5     \n",
              "6      0.482496                                                 36     \n",
              "7      0.040861                                                218     \n",
              "8      1.999380                                                  2     \n",
              "9     18.634625                                                 11     \n",
              "\n",
              "   total_Ether_sent  total_ether_received  total_ether_balance  FLAG  \n",
              "0        865.691093            586.466675          -279.224419     0  \n",
              "1          3.087297              3.085478            -0.001819     0  \n",
              "2          3.588616              3.589057             0.000441     0  \n",
              "3       1750.045862            895.399559          -854.646303     0  \n",
              "4        104.318883             53.421897           -50.896986     0  \n",
              "5          9.703716              9.704724             0.001008     0  \n",
              "6         12.062394             12.079266             0.016872     0  \n",
              "7          8.703392              4.455490            -4.247902     0  \n",
              "8          1.999380              2.000000             0.000620     0  \n",
              "9        149.077000             50.100000           -98.977000     0  "
            ],
            "text/html": [
              "\n",
              "  <div id=\"df-dde4a7ff-d1ff-46fd-88ac-a0fc3c5020ad\" class=\"colab-df-container\">\n",
              "    <div>\n",
              "<style scoped>\n",
              "    .dataframe tbody tr th:only-of-type {\n",
              "        vertical-align: middle;\n",
              "    }\n",
              "\n",
              "    .dataframe tbody tr th {\n",
              "        vertical-align: top;\n",
              "    }\n",
              "\n",
              "    .dataframe thead th {\n",
              "        text-align: right;\n",
              "    }\n",
              "</style>\n",
              "<table border=\"1\" class=\"dataframe\">\n",
              "  <thead>\n",
              "    <tr style=\"text-align: right;\">\n",
              "      <th></th>\n",
              "      <th>Avg_min_between_received_tnx</th>\n",
              "      <th>Avg_min_between_sent_tnx</th>\n",
              "      <th>Sent_tnx</th>\n",
              "      <th>Received_Tnx</th>\n",
              "      <th>Number_of_Created_Contracts</th>\n",
              "      <th>Average_of_Unique_Received_From_Addresses</th>\n",
              "      <th>Average_of_Unique_Sent_To_Addresses</th>\n",
              "      <th>min_value_received</th>\n",
              "      <th>max_value_received</th>\n",
              "      <th>avg_val_received</th>\n",
              "      <th>min_val_sent</th>\n",
              "      <th>max_val_sent</th>\n",
              "      <th>avg_val_sent</th>\n",
              "      <th>total_transactions_including_tnx_to_create_contract</th>\n",
              "      <th>total_Ether_sent</th>\n",
              "      <th>total_ether_received</th>\n",
              "      <th>total_ether_balance</th>\n",
              "      <th>FLAG</th>\n",
              "    </tr>\n",
              "  </thead>\n",
              "  <tbody>\n",
              "    <tr>\n",
              "      <th>0</th>\n",
              "      <td>1093.71</td>\n",
              "      <td>844.26</td>\n",
              "      <td>721</td>\n",
              "      <td>89</td>\n",
              "      <td>0</td>\n",
              "      <td>40</td>\n",
              "      <td>118</td>\n",
              "      <td>0.000000</td>\n",
              "      <td>45.806785</td>\n",
              "      <td>6.589513</td>\n",
              "      <td>0.000000</td>\n",
              "      <td>31.220000</td>\n",
              "      <td>1.200681</td>\n",
              "      <td>810</td>\n",
              "      <td>865.691093</td>\n",
              "      <td>586.466675</td>\n",
              "      <td>-279.224419</td>\n",
              "      <td>0</td>\n",
              "    </tr>\n",
              "    <tr>\n",
              "      <th>1</th>\n",
              "      <td>2958.44</td>\n",
              "      <td>12709.07</td>\n",
              "      <td>94</td>\n",
              "      <td>8</td>\n",
              "      <td>0</td>\n",
              "      <td>5</td>\n",
              "      <td>14</td>\n",
              "      <td>0.000000</td>\n",
              "      <td>2.613269</td>\n",
              "      <td>0.385685</td>\n",
              "      <td>0.000000</td>\n",
              "      <td>1.800000</td>\n",
              "      <td>0.032844</td>\n",
              "      <td>102</td>\n",
              "      <td>3.087297</td>\n",
              "      <td>3.085478</td>\n",
              "      <td>-0.001819</td>\n",
              "      <td>0</td>\n",
              "    </tr>\n",
              "    <tr>\n",
              "      <th>2</th>\n",
              "      <td>2434.02</td>\n",
              "      <td>246194.54</td>\n",
              "      <td>2</td>\n",
              "      <td>10</td>\n",
              "      <td>0</td>\n",
              "      <td>10</td>\n",
              "      <td>2</td>\n",
              "      <td>0.113119</td>\n",
              "      <td>1.165453</td>\n",
              "      <td>0.358906</td>\n",
              "      <td>0.050000</td>\n",
              "      <td>3.538616</td>\n",
              "      <td>1.794308</td>\n",
              "      <td>12</td>\n",
              "      <td>3.588616</td>\n",
              "      <td>3.589057</td>\n",
              "      <td>0.000441</td>\n",
              "      <td>0</td>\n",
              "    </tr>\n",
              "    <tr>\n",
              "      <th>3</th>\n",
              "      <td>15785.09</td>\n",
              "      <td>10219.60</td>\n",
              "      <td>25</td>\n",
              "      <td>9</td>\n",
              "      <td>0</td>\n",
              "      <td>7</td>\n",
              "      <td>13</td>\n",
              "      <td>0.000000</td>\n",
              "      <td>500.000000</td>\n",
              "      <td>99.488840</td>\n",
              "      <td>0.000000</td>\n",
              "      <td>450.000000</td>\n",
              "      <td>70.001834</td>\n",
              "      <td>34</td>\n",
              "      <td>1750.045862</td>\n",
              "      <td>895.399559</td>\n",
              "      <td>-854.646303</td>\n",
              "      <td>0</td>\n",
              "    </tr>\n",
              "    <tr>\n",
              "      <th>4</th>\n",
              "      <td>10707.77</td>\n",
              "      <td>36.61</td>\n",
              "      <td>4598</td>\n",
              "      <td>20</td>\n",
              "      <td>1</td>\n",
              "      <td>7</td>\n",
              "      <td>19</td>\n",
              "      <td>0.000000</td>\n",
              "      <td>12.802411</td>\n",
              "      <td>2.671095</td>\n",
              "      <td>0.000000</td>\n",
              "      <td>9.000000</td>\n",
              "      <td>0.022688</td>\n",
              "      <td>4619</td>\n",
              "      <td>104.318883</td>\n",
              "      <td>53.421897</td>\n",
              "      <td>-50.896986</td>\n",
              "      <td>0</td>\n",
              "    </tr>\n",
              "    <tr>\n",
              "      <th>5</th>\n",
              "      <td>375.48</td>\n",
              "      <td>9900.12</td>\n",
              "      <td>2</td>\n",
              "      <td>3</td>\n",
              "      <td>0</td>\n",
              "      <td>2</td>\n",
              "      <td>1</td>\n",
              "      <td>0.724148</td>\n",
              "      <td>4.813776</td>\n",
              "      <td>3.234908</td>\n",
              "      <td>4.166800</td>\n",
              "      <td>5.536916</td>\n",
              "      <td>4.851858</td>\n",
              "      <td>5</td>\n",
              "      <td>9.703716</td>\n",
              "      <td>9.704724</td>\n",
              "      <td>0.001008</td>\n",
              "      <td>0</td>\n",
              "    </tr>\n",
              "    <tr>\n",
              "      <th>6</th>\n",
              "      <td>629.44</td>\n",
              "      <td>69.46</td>\n",
              "      <td>25</td>\n",
              "      <td>11</td>\n",
              "      <td>0</td>\n",
              "      <td>9</td>\n",
              "      <td>20</td>\n",
              "      <td>0.049000</td>\n",
              "      <td>2.650000</td>\n",
              "      <td>1.098115</td>\n",
              "      <td>0.009457</td>\n",
              "      <td>4.284785</td>\n",
              "      <td>0.482496</td>\n",
              "      <td>36</td>\n",
              "      <td>12.062394</td>\n",
              "      <td>12.079266</td>\n",
              "      <td>0.016872</td>\n",
              "      <td>0</td>\n",
              "    </tr>\n",
              "    <tr>\n",
              "      <th>7</th>\n",
              "      <td>176.84</td>\n",
              "      <td>1497.39</td>\n",
              "      <td>213</td>\n",
              "      <td>5</td>\n",
              "      <td>0</td>\n",
              "      <td>3</td>\n",
              "      <td>3</td>\n",
              "      <td>0.118490</td>\n",
              "      <td>2.000000</td>\n",
              "      <td>0.891098</td>\n",
              "      <td>0.000000</td>\n",
              "      <td>0.700000</td>\n",
              "      <td>0.040861</td>\n",
              "      <td>218</td>\n",
              "      <td>8.703392</td>\n",
              "      <td>4.455490</td>\n",
              "      <td>-4.247902</td>\n",
              "      <td>0</td>\n",
              "    </tr>\n",
              "    <tr>\n",
              "      <th>8</th>\n",
              "      <td>0.00</td>\n",
              "      <td>0.00</td>\n",
              "      <td>1</td>\n",
              "      <td>1</td>\n",
              "      <td>0</td>\n",
              "      <td>1</td>\n",
              "      <td>1</td>\n",
              "      <td>2.000000</td>\n",
              "      <td>2.000000</td>\n",
              "      <td>2.000000</td>\n",
              "      <td>1.999380</td>\n",
              "      <td>1.999380</td>\n",
              "      <td>1.999380</td>\n",
              "      <td>2</td>\n",
              "      <td>1.999380</td>\n",
              "      <td>2.000000</td>\n",
              "      <td>0.000620</td>\n",
              "      <td>0</td>\n",
              "    </tr>\n",
              "    <tr>\n",
              "      <th>9</th>\n",
              "      <td>3336.01</td>\n",
              "      <td>2570.59</td>\n",
              "      <td>8</td>\n",
              "      <td>3</td>\n",
              "      <td>0</td>\n",
              "      <td>2</td>\n",
              "      <td>4</td>\n",
              "      <td>0.100000</td>\n",
              "      <td>40.000000</td>\n",
              "      <td>16.700000</td>\n",
              "      <td>0.100000</td>\n",
              "      <td>40.000000</td>\n",
              "      <td>18.634625</td>\n",
              "      <td>11</td>\n",
              "      <td>149.077000</td>\n",
              "      <td>50.100000</td>\n",
              "      <td>-98.977000</td>\n",
              "      <td>0</td>\n",
              "    </tr>\n",
              "  </tbody>\n",
              "</table>\n",
              "</div>\n",
              "    <div class=\"colab-df-buttons\">\n",
              "\n",
              "  <div class=\"colab-df-container\">\n",
              "    <button class=\"colab-df-convert\" onclick=\"convertToInteractive('df-dde4a7ff-d1ff-46fd-88ac-a0fc3c5020ad')\"\n",
              "            title=\"Convert this dataframe to an interactive table.\"\n",
              "            style=\"display:none;\">\n",
              "\n",
              "  <svg xmlns=\"http://www.w3.org/2000/svg\" height=\"24px\" viewBox=\"0 -960 960 960\">\n",
              "    <path d=\"M120-120v-720h720v720H120Zm60-500h600v-160H180v160Zm220 220h160v-160H400v160Zm0 220h160v-160H400v160ZM180-400h160v-160H180v160Zm440 0h160v-160H620v160ZM180-180h160v-160H180v160Zm440 0h160v-160H620v160Z\"/>\n",
              "  </svg>\n",
              "    </button>\n",
              "\n",
              "  <style>\n",
              "    .colab-df-container {\n",
              "      display:flex;\n",
              "      gap: 12px;\n",
              "    }\n",
              "\n",
              "    .colab-df-convert {\n",
              "      background-color: #E8F0FE;\n",
              "      border: none;\n",
              "      border-radius: 50%;\n",
              "      cursor: pointer;\n",
              "      display: none;\n",
              "      fill: #1967D2;\n",
              "      height: 32px;\n",
              "      padding: 0 0 0 0;\n",
              "      width: 32px;\n",
              "    }\n",
              "\n",
              "    .colab-df-convert:hover {\n",
              "      background-color: #E2EBFA;\n",
              "      box-shadow: 0px 1px 2px rgba(60, 64, 67, 0.3), 0px 1px 3px 1px rgba(60, 64, 67, 0.15);\n",
              "      fill: #174EA6;\n",
              "    }\n",
              "\n",
              "    .colab-df-buttons div {\n",
              "      margin-bottom: 4px;\n",
              "    }\n",
              "\n",
              "    [theme=dark] .colab-df-convert {\n",
              "      background-color: #3B4455;\n",
              "      fill: #D2E3FC;\n",
              "    }\n",
              "\n",
              "    [theme=dark] .colab-df-convert:hover {\n",
              "      background-color: #434B5C;\n",
              "      box-shadow: 0px 1px 3px 1px rgba(0, 0, 0, 0.15);\n",
              "      filter: drop-shadow(0px 1px 2px rgba(0, 0, 0, 0.3));\n",
              "      fill: #FFFFFF;\n",
              "    }\n",
              "  </style>\n",
              "\n",
              "    <script>\n",
              "      const buttonEl =\n",
              "        document.querySelector('#df-dde4a7ff-d1ff-46fd-88ac-a0fc3c5020ad button.colab-df-convert');\n",
              "      buttonEl.style.display =\n",
              "        google.colab.kernel.accessAllowed ? 'block' : 'none';\n",
              "\n",
              "      async function convertToInteractive(key) {\n",
              "        const element = document.querySelector('#df-dde4a7ff-d1ff-46fd-88ac-a0fc3c5020ad');\n",
              "        const dataTable =\n",
              "          await google.colab.kernel.invokeFunction('convertToInteractive',\n",
              "                                                    [key], {});\n",
              "        if (!dataTable) return;\n",
              "\n",
              "        const docLinkHtml = 'Like what you see? Visit the ' +\n",
              "          '<a target=\"_blank\" href=https://colab.research.google.com/notebooks/data_table.ipynb>data table notebook</a>'\n",
              "          + ' to learn more about interactive tables.';\n",
              "        element.innerHTML = '';\n",
              "        dataTable['output_type'] = 'display_data';\n",
              "        await google.colab.output.renderOutput(dataTable, element);\n",
              "        const docLink = document.createElement('div');\n",
              "        docLink.innerHTML = docLinkHtml;\n",
              "        element.appendChild(docLink);\n",
              "      }\n",
              "    </script>\n",
              "  </div>\n",
              "\n",
              "\n",
              "<div id=\"df-9ac09bee-c364-4e0f-b258-dbae9adfba8b\">\n",
              "  <button class=\"colab-df-quickchart\" onclick=\"quickchart('df-9ac09bee-c364-4e0f-b258-dbae9adfba8b')\"\n",
              "            title=\"Suggest charts\"\n",
              "            style=\"display:none;\">\n",
              "\n",
              "<svg xmlns=\"http://www.w3.org/2000/svg\" height=\"24px\"viewBox=\"0 0 24 24\"\n",
              "     width=\"24px\">\n",
              "    <g>\n",
              "        <path d=\"M19 3H5c-1.1 0-2 .9-2 2v14c0 1.1.9 2 2 2h14c1.1 0 2-.9 2-2V5c0-1.1-.9-2-2-2zM9 17H7v-7h2v7zm4 0h-2V7h2v10zm4 0h-2v-4h2v4z\"/>\n",
              "    </g>\n",
              "</svg>\n",
              "  </button>\n",
              "\n",
              "<style>\n",
              "  .colab-df-quickchart {\n",
              "      --bg-color: #E8F0FE;\n",
              "      --fill-color: #1967D2;\n",
              "      --hover-bg-color: #E2EBFA;\n",
              "      --hover-fill-color: #174EA6;\n",
              "      --disabled-fill-color: #AAA;\n",
              "      --disabled-bg-color: #DDD;\n",
              "  }\n",
              "\n",
              "  [theme=dark] .colab-df-quickchart {\n",
              "      --bg-color: #3B4455;\n",
              "      --fill-color: #D2E3FC;\n",
              "      --hover-bg-color: #434B5C;\n",
              "      --hover-fill-color: #FFFFFF;\n",
              "      --disabled-bg-color: #3B4455;\n",
              "      --disabled-fill-color: #666;\n",
              "  }\n",
              "\n",
              "  .colab-df-quickchart {\n",
              "    background-color: var(--bg-color);\n",
              "    border: none;\n",
              "    border-radius: 50%;\n",
              "    cursor: pointer;\n",
              "    display: none;\n",
              "    fill: var(--fill-color);\n",
              "    height: 32px;\n",
              "    padding: 0;\n",
              "    width: 32px;\n",
              "  }\n",
              "\n",
              "  .colab-df-quickchart:hover {\n",
              "    background-color: var(--hover-bg-color);\n",
              "    box-shadow: 0 1px 2px rgba(60, 64, 67, 0.3), 0 1px 3px 1px rgba(60, 64, 67, 0.15);\n",
              "    fill: var(--button-hover-fill-color);\n",
              "  }\n",
              "\n",
              "  .colab-df-quickchart-complete:disabled,\n",
              "  .colab-df-quickchart-complete:disabled:hover {\n",
              "    background-color: var(--disabled-bg-color);\n",
              "    fill: var(--disabled-fill-color);\n",
              "    box-shadow: none;\n",
              "  }\n",
              "\n",
              "  .colab-df-spinner {\n",
              "    border: 2px solid var(--fill-color);\n",
              "    border-color: transparent;\n",
              "    border-bottom-color: var(--fill-color);\n",
              "    animation:\n",
              "      spin 1s steps(1) infinite;\n",
              "  }\n",
              "\n",
              "  @keyframes spin {\n",
              "    0% {\n",
              "      border-color: transparent;\n",
              "      border-bottom-color: var(--fill-color);\n",
              "      border-left-color: var(--fill-color);\n",
              "    }\n",
              "    20% {\n",
              "      border-color: transparent;\n",
              "      border-left-color: var(--fill-color);\n",
              "      border-top-color: var(--fill-color);\n",
              "    }\n",
              "    30% {\n",
              "      border-color: transparent;\n",
              "      border-left-color: var(--fill-color);\n",
              "      border-top-color: var(--fill-color);\n",
              "      border-right-color: var(--fill-color);\n",
              "    }\n",
              "    40% {\n",
              "      border-color: transparent;\n",
              "      border-right-color: var(--fill-color);\n",
              "      border-top-color: var(--fill-color);\n",
              "    }\n",
              "    60% {\n",
              "      border-color: transparent;\n",
              "      border-right-color: var(--fill-color);\n",
              "    }\n",
              "    80% {\n",
              "      border-color: transparent;\n",
              "      border-right-color: var(--fill-color);\n",
              "      border-bottom-color: var(--fill-color);\n",
              "    }\n",
              "    90% {\n",
              "      border-color: transparent;\n",
              "      border-bottom-color: var(--fill-color);\n",
              "    }\n",
              "  }\n",
              "</style>\n",
              "\n",
              "  <script>\n",
              "    async function quickchart(key) {\n",
              "      const quickchartButtonEl =\n",
              "        document.querySelector('#' + key + ' button');\n",
              "      quickchartButtonEl.disabled = true;  // To prevent multiple clicks.\n",
              "      quickchartButtonEl.classList.add('colab-df-spinner');\n",
              "      try {\n",
              "        const charts = await google.colab.kernel.invokeFunction(\n",
              "            'suggestCharts', [key], {});\n",
              "      } catch (error) {\n",
              "        console.error('Error during call to suggestCharts:', error);\n",
              "      }\n",
              "      quickchartButtonEl.classList.remove('colab-df-spinner');\n",
              "      quickchartButtonEl.classList.add('colab-df-quickchart-complete');\n",
              "    }\n",
              "    (() => {\n",
              "      let quickchartButtonEl =\n",
              "        document.querySelector('#df-9ac09bee-c364-4e0f-b258-dbae9adfba8b button');\n",
              "      quickchartButtonEl.style.display =\n",
              "        google.colab.kernel.accessAllowed ? 'block' : 'none';\n",
              "    })();\n",
              "  </script>\n",
              "</div>\n",
              "    </div>\n",
              "  </div>\n"
            ],
            "application/vnd.google.colaboratory.intrinsic+json": {
              "type": "dataframe",
              "variable_name": "resampledSmote",
              "summary": "{\n  \"name\": \"resampledSmote\",\n  \"rows\": 29254,\n  \"fields\": [\n    {\n      \"column\": \"Avg_min_between_received_tnx\",\n      \"properties\": {\n        \"dtype\": \"number\",\n        \"std\": 193341366.37720165,\n        \"min\": 0.0,\n        \"max\": 830993230.5,\n        \"num_unique_values\": 21843,\n        \"samples\": [\n          31307.86,\n          255710205.31482846,\n          312670627.11572087\n        ],\n        \"semantic_type\": \"\",\n        \"description\": \"\"\n      }\n    },\n    {\n      \"column\": \"Avg_min_between_sent_tnx\",\n      \"properties\": {\n        \"dtype\": \"number\",\n        \"std\": 31540577.688476812,\n        \"min\": 0.0,\n        \"max\": 829129862.5,\n        \"num_unique_values\": 18020,\n        \"samples\": [\n          275.47359323861883,\n          23576.617890764013,\n          26277.42778\n        ],\n        \"semantic_type\": \"\",\n        \"description\": \"\"\n      }\n    },\n    {\n      \"column\": \"Sent_tnx\",\n      \"properties\": {\n        \"dtype\": \"number\",\n        \"std\": 1302,\n        \"min\": 0,\n        \"max\": 10000,\n        \"num_unique_values\": 1626,\n        \"samples\": [\n          5417,\n          3321,\n          6892\n        ],\n        \"semantic_type\": \"\",\n        \"description\": \"\"\n      }\n    },\n    {\n      \"column\": \"Received_Tnx\",\n      \"properties\": {\n        \"dtype\": \"number\",\n        \"std\": 1578,\n        \"min\": 0,\n        \"max\": 10000,\n        \"num_unique_values\": 1525,\n        \"samples\": [\n          2249,\n          15,\n          2152\n        ],\n        \"semantic_type\": \"\",\n        \"description\": \"\"\n      }\n    },\n    {\n      \"column\": \"Number_of_Created_Contracts\",\n      \"properties\": {\n        \"dtype\": \"number\",\n        \"std\": 106,\n        \"min\": 0,\n        \"max\": 9995,\n        \"num_unique_values\": 46,\n        \"samples\": [\n          86,\n          14,\n          8\n        ],\n        \"semantic_type\": \"\",\n        \"description\": \"\"\n      }\n    },\n    {\n      \"column\": \"Average_of_Unique_Received_From_Addresses\",\n      \"properties\": {\n        \"dtype\": \"number\",\n        \"std\": 758,\n        \"min\": 0,\n        \"max\": 9999,\n        \"num_unique_values\": 1367,\n        \"samples\": [\n          3255,\n          2409,\n          182\n        ],\n        \"semantic_type\": \"\",\n        \"description\": \"\"\n      }\n    },\n    {\n      \"column\": \"Average_of_Unique_Sent_To_Addresses\",\n      \"properties\": {\n        \"dtype\": \"number\",\n        \"std\": 430,\n        \"min\": 0,\n        \"max\": 9950,\n        \"num_unique_values\": 764,\n        \"samples\": [\n          309,\n          2003,\n          347\n        ],\n        \"semantic_type\": \"\",\n        \"description\": \"\"\n      }\n    },\n    {\n      \"column\": \"min_value_received\",\n      \"properties\": {\n        \"dtype\": \"number\",\n        \"std\": 549.610537831992,\n        \"min\": 0.0,\n        \"max\": 25533.61452,\n        \"num_unique_values\": 15464,\n        \"samples\": [\n          0.047838982526074186,\n          0.131411,\n          0.4069180955056597\n        ],\n        \"semantic_type\": \"\",\n        \"description\": \"\"\n      }\n    },\n    {\n      \"column\": \"max_value_received \",\n      \"properties\": {\n        \"dtype\": \"number\",\n        \"std\": 7947.842763293396,\n        \"min\": 0.0,\n        \"max\": 800000.0,\n        \"num_unique_values\": 19794,\n        \"samples\": [\n          0.046154510951465,\n          2.7900899095661567,\n          5.343081\n        ],\n        \"semantic_type\": \"\",\n        \"description\": \"\"\n      }\n    },\n    {\n      \"column\": \"avg_val_received\",\n      \"properties\": {\n        \"dtype\": \"number\",\n        \"std\": 1781.4513764806097,\n        \"min\": 0.0,\n        \"max\": 283618.8316,\n        \"num_unique_values\": 22942,\n        \"samples\": [\n          0.549078,\n          0.077784,\n          0.98875\n        ],\n        \"semantic_type\": \"\",\n        \"description\": \"\"\n      }\n    },\n    {\n      \"column\": \"min_val_sent\",\n      \"properties\": {\n        \"dtype\": \"number\",\n        \"std\": 230.50203398866435,\n        \"min\": 0.0,\n        \"max\": 25533.61433,\n        \"num_unique_values\": 13607,\n        \"samples\": [\n          2.6646885957893134,\n          0.105234,\n          0.089723\n        ],\n        \"semantic_type\": \"\",\n        \"description\": \"\"\n      }\n    },\n    {\n      \"column\": \"max_val_sent\",\n      \"properties\": {\n        \"dtype\": \"number\",\n        \"std\": 5370.725566340671,\n        \"min\": 0.0,\n        \"max\": 611102.0145,\n        \"num_unique_values\": 19493,\n        \"samples\": [\n          77.6384667570691,\n          4.990359,\n          10.0117963509786\n        ],\n        \"semantic_type\": \"\",\n        \"description\": \"\"\n      }\n    },\n    {\n      \"column\": \"avg_val_sent\",\n      \"properties\": {\n        \"dtype\": \"number\",\n        \"std\": 327.9819022174465,\n        \"min\": 0.0,\n        \"max\": 25533.61433,\n        \"num_unique_values\": 21228,\n        \"samples\": [\n          4.875753,\n          3.828398210982282,\n          0.521597\n        ],\n        \"semantic_type\": \"\",\n        \"description\": \"\"\n      }\n    },\n    {\n      \"column\": \"total_transactions_including_tnx_to_create_contract\",\n      \"properties\": {\n        \"dtype\": \"number\",\n        \"std\": 2108,\n        \"min\": 0,\n        \"max\": 19995,\n        \"num_unique_values\": 2105,\n        \"samples\": [\n          3159,\n          9433,\n          8712\n        ],\n        \"semantic_type\": \"\",\n        \"description\": \"\"\n      }\n    },\n    {\n      \"column\": \"total_Ether_sent\",\n      \"properties\": {\n        \"dtype\": \"number\",\n        \"std\": 214082.97732993658,\n        \"min\": 0.0,\n        \"max\": 28580960.89,\n        \"num_unique_values\": 21367,\n        \"samples\": [\n          36.633158172071816,\n          0.15857136,\n          4.776530041349236\n        ],\n        \"semantic_type\": \"\",\n        \"description\": \"\"\n      }\n    },\n    {\n      \"column\": \"total_ether_received\",\n      \"properties\": {\n        \"dtype\": \"number\",\n        \"std\": 214265.65676402583,\n        \"min\": 0.0,\n        \"max\": 28581590.07,\n        \"num_unique_values\": 22959,\n        \"samples\": [\n          293.1305094,\n          915.2077865145347,\n          0.33912527\n        ],\n        \"semantic_type\": \"\",\n        \"description\": \"\"\n      }\n    },\n    {\n      \"column\": \"total_ether_balance\",\n      \"properties\": {\n        \"dtype\": \"number\",\n        \"std\": 145409.35921777863,\n        \"min\": -15605352.04,\n        \"max\": 14288636.26,\n        \"num_unique_values\": 21903,\n        \"samples\": [\n          75.27483577,\n          0.037752880897119215,\n          0.16889645\n        ],\n        \"semantic_type\": \"\",\n        \"description\": \"\"\n      }\n    },\n    {\n      \"column\": \"FLAG\",\n      \"properties\": {\n        \"dtype\": \"number\",\n        \"std\": 0,\n        \"min\": 0,\n        \"max\": 1,\n        \"num_unique_values\": 2,\n        \"samples\": [\n          1,\n          0\n        ],\n        \"semantic_type\": \"\",\n        \"description\": \"\"\n      }\n    }\n  ]\n}"
            }
          },
          "metadata": {},
          "execution_count": 30
        }
      ],
      "source": [
        "resampledSmote.head(10)"
      ]
    },
    {
      "cell_type": "markdown",
      "metadata": {
        "id": "RF68dnrC9FHl"
      },
      "source": [
        "#***Rescaling***"
      ]
    },
    {
      "cell_type": "code",
      "execution_count": null,
      "metadata": {
        "id": "h6FayFZmyfme"
      },
      "outputs": [],
      "source": [
        "X,y = scaled(resampledOver)"
      ]
    },
    {
      "cell_type": "code",
      "execution_count": null,
      "metadata": {
        "id": "kwQGXq7MXVes"
      },
      "outputs": [],
      "source": [
        "X_trainV, X_testModel, y_trainV, y_testModel =  train_test_split(X, y, test_size=0.2, random_state=42)"
      ]
    },
    {
      "cell_type": "code",
      "execution_count": null,
      "metadata": {
        "id": "iFndgvaKYQU0"
      },
      "outputs": [],
      "source": [
        "X = X_trainV\n",
        "y = y_trainV\n",
        "X_df = pd.DataFrame(X)\n",
        "y_df = pd.DataFrame(y)"
      ]
    },
    {
      "cell_type": "code",
      "execution_count": null,
      "metadata": {
        "id": "uwBqYCsCYhVC"
      },
      "outputs": [],
      "source": [
        "from sklearn.model_selection import train_test_split, KFold\n",
        "from sklearn.metrics import roc_auc_score,roc_curve"
      ]
    },
    {
      "cell_type": "code",
      "execution_count": null,
      "metadata": {
        "id": "mbV0Si-BYVYV"
      },
      "outputs": [],
      "source": [
        "kf = KFold(n_splits=10, random_state = 42, shuffle=True)"
      ]
    },
    {
      "cell_type": "markdown",
      "metadata": {
        "id": "gcx-eiO7D0Ps"
      },
      "source": [
        "#ModelsFunctions"
      ]
    },
    {
      "cell_type": "code",
      "execution_count": null,
      "metadata": {
        "id": "kvlkNBY4iceU"
      },
      "outputs": [],
      "source": [
        "import tensorflow as tf\n",
        "from tensorflow.keras.models import Sequential\n",
        "from tensorflow.keras.layers import Dense, Conv1D, MaxPooling1D, Flatten, Dropout\n",
        "from tensorflow.keras.optimizers import Adam"
      ]
    },
    {
      "cell_type": "code",
      "execution_count": null,
      "metadata": {
        "id": "XXRk5E9mEHJd"
      },
      "outputs": [],
      "source": [
        "def test_model(model, X_test, y_test, model_name):\n",
        "    start_time = time.time()\n",
        "    y_predict = model.predict(X_test)\n",
        "    Inference_time = time.time() - start_time\n",
        "\n",
        "    accuracy = accuracy_score(y_test, y_predict)\n",
        "    precision = precision_score(y_test, y_predict)\n",
        "    recall = recall_score(y_test, y_predict)\n",
        "    f1 = f1_score(y_test, y_predict)\n",
        "    kappa = cohen_kappa_score(y_test, y_predict)\n",
        "    roc_auc = roc_auc_score(y_test, y_predict)\n",
        "    fpr, tpr, thresholds = roc_curve(y_test, y_predict)\n",
        "\n",
        "    conf_mat = confusion_matrix(y_test, y_predict)\n",
        "\n",
        "    print(f'\\nMetrics for {model_name} on Test Data:')\n",
        "    print(f\"Accuracy: {accuracy:.2f}\")\n",
        "    print(f\"Recall: {recall:.2f}\")\n",
        "    print(f\"Precision: {precision:.2f}\")\n",
        "    print(f\"F1-score: {f1:.2f}\")\n",
        "    print(f\"ROC AUC: {roc_auc:.2f}\")\n",
        "    print(f\"Inference Time: {Inference_time:.4f} seconds\")\n",
        "    print(f\"Kappa: {kappa:.2f}\")\n",
        "    print(f\"Training Time:0 seconds\")\n",
        "    print(f\"FPR: {fpr}\")\n",
        "    print(f\"TPR: {tpr}\")\n",
        "    print(f\"Thresholds: {thresholds}\")\n",
        "    print(f\"Confusion Matrix:\\n{conf_mat}\")\n",
        "    print(\"********************************************************************\")\n"
      ]
    },
    {
      "cell_type": "code",
      "execution_count": null,
      "metadata": {
        "id": "0XSx8KgjEJU_"
      },
      "outputs": [],
      "source": [
        "def cross_validate_model(model, X_df, y_df, kf, model_name):\n",
        "    results = {\n",
        "        'accuracy': [],\n",
        "        'recall': [],\n",
        "        'precision': [],\n",
        "        'f1': [],\n",
        "        'roc_auc': [],\n",
        "        'Inference_Time': [],\n",
        "        'kappa': [],\n",
        "        'Training_time': []\n",
        "    }\n",
        "\n",
        "    fld = 1\n",
        "\n",
        "    for train_index, test_index in kf.split(X_df):\n",
        "        X_trainV, X_testV = X_df.iloc[train_index], X_df.iloc[test_index]\n",
        "        y_trainV, y_testV = y_df.iloc[train_index], y_df.iloc[test_index]\n",
        "\n",
        "        start_time = time.time()\n",
        "        model.fit(X_trainV, y_trainV)\n",
        "        Training_time = time.time() - start_time\n",
        "\n",
        "        start_time = time.time()\n",
        "        y_predict = model.predict(X_testV)\n",
        "        Inference_time = time.time() - start_time\n",
        "\n",
        "        accuracy = accuracy_score(y_testV, y_predict)\n",
        "        precision = precision_score(y_testV, y_predict)\n",
        "        recall = recall_score(y_testV, y_predict)\n",
        "        f1 = f1_score(y_testV, y_predict)\n",
        "        kappa = cohen_kappa_score(y_testV, y_predict)\n",
        "        roc_auc = roc_auc_score(y_testV, y_predict)\n",
        "\n",
        "        results['accuracy'].append(accuracy)\n",
        "        results['recall'].append(recall)\n",
        "        results['precision'].append(precision)\n",
        "        results['f1'].append(f1)\n",
        "        results['roc_auc'].append(roc_auc)\n",
        "        results['Inference_Time'].append(Inference_time)\n",
        "        results['kappa'].append(kappa)\n",
        "        results['Training_time'].append(Training_time)\n",
        "        print(f'Model {model_name}  Fold {fld}: Done ')\n",
        "        #print(f'Metrics for {model_name} Model Fold {fld}:')\n",
        "        #print(f\"Inference Time: {Inference_time:.4f} seconds\")\n",
        "        #print(f\"Training Time: {Training_time:.4f} seconds\")\n",
        "        #print(f\"Accuracy: {accuracy:.2f}\")\n",
        "        #print(f\"Precision: {precision:.2f}\")\n",
        "        #print(f\"Recall: {recall:.2f}\")\n",
        "        #print(f\"F1-score: {f1:.2f}\")\n",
        "        #print(f\"Kappa: {kappa:.2f}\")\n",
        "        #print(f\"ROC AUC: {roc_auc:.2f}\")\n",
        "        fld += 1\n",
        "        print(\"********************************************************************\")\n",
        "    return results,model"
      ]
    },
    {
      "cell_type": "code",
      "execution_count": null,
      "metadata": {
        "id": "Ay3mywiPHV7K"
      },
      "outputs": [],
      "source": [
        "def print_summary_statistics(results, model_name):\n",
        "    summary = {\n",
        "        'best': {key: max(values) for key, values in results.items()},\n",
        "        'worst': {key: min(values) for key, values in results.items()},\n",
        "        'mean': {key: np.mean(values) for key, values in results.items()}\n",
        "    }\n",
        "\n",
        "    print(f'\\nSummary Statistics for {model_name}:')\n",
        "    for metric in summary['best']:\n",
        "        print(f\"{metric.capitalize()}: Best = {summary['best'][metric]:.2f}, \"\n",
        "              f\"Worst = {summary['worst'][metric]:.2f}, \"\n",
        "              f\"Mean = {summary['mean'][metric]:.2f}\")\n",
        "    print(\"********************************************************************\")"
      ]
    },
    {
      "cell_type": "code",
      "execution_count": null,
      "metadata": {
        "id": "8VUBKa40SvO_"
      },
      "outputs": [],
      "source": [
        "def cross_validate_cnn(X, y, kf, model_func):\n",
        "    results = {\n",
        "        'accuracy': [],\n",
        "        'precision': [],\n",
        "        'recall': [],\n",
        "        'f1': [],\n",
        "        'kappa': [],\n",
        "        'roc_auc': [],\n",
        "        'Inference_Time': [],\n",
        "        'Training_time': []\n",
        "    }\n",
        "\n",
        "    fld = 1\n",
        "\n",
        "    for train_index, test_index in kf.split(X):\n",
        "        X_trainV, X_testV = X[train_index], X[test_index]\n",
        "        y_trainV, y_testV = y.iloc[train_index], y.iloc[test_index]\n",
        "\n",
        "        model = model_func(X_trainV.shape[1:])\n",
        "\n",
        "        start_time = time.time()\n",
        "        model.compile(optimizer='adam', loss='binary_crossentropy', metrics=['accuracy'])\n",
        "        Training_time = time.time() - start_time\n",
        "\n",
        "        start_time = time.time()\n",
        "        history = model.fit(X_trainV, y_trainV, validation_data=(X_testV, y_testV), epochs=10, batch_size=32, verbose=0)\n",
        "        Inference_time = time.time() - start_time\n",
        "\n",
        "        y_predict = (model.predict(X_testV) > 0.5).astype(\"int32\")\n",
        "\n",
        "        accuracy = accuracy_score(y_testV, y_predict)\n",
        "        precision = precision_score(y_testV, y_predict)\n",
        "        recall = recall_score(y_testV, y_predict)\n",
        "        f1 = f1_score(y_testV, y_predict)\n",
        "        kappa = cohen_kappa_score(y_testV, y_predict)\n",
        "        roc_auc = roc_auc_score(y_testV, y_predict)\n",
        "        fpr, tpr, thresholds = roc_curve(y_testV, y_predict)\n",
        "\n",
        "        conf_mat = confusion_matrix(y_testV, y_predict)\n",
        "        results['accuracy'].append(accuracy)\n",
        "        results['precision'].append(precision)\n",
        "        results['recall'].append(recall)\n",
        "        results['f1'].append(f1)\n",
        "        results['kappa'].append(kappa)\n",
        "        results['roc_auc'].append(roc_auc)\n",
        "        results['Inference_Time'].append(Inference_time)\n",
        "        results['Training_time'].append(Training_time)\n",
        "\n",
        "        print(f'Model CNN Fold {fld} Done')\n",
        "        print(\"********************************************************************\")\n",
        "        fld += 1\n",
        "\n",
        "    return results, model"
      ]
    },
    {
      "cell_type": "code",
      "execution_count": null,
      "metadata": {
        "id": "-HqKLF8XS5uO"
      },
      "outputs": [],
      "source": [
        "def create_cnn_model(input_shape):\n",
        "    model = Sequential()\n",
        "    model.add(Conv1D(32, kernel_size=3, activation='relu', input_shape=input_shape))\n",
        "    model.add(MaxPooling1D(pool_size=2))\n",
        "    model.add(Conv1D(64, kernel_size=3, activation='relu'))\n",
        "    model.add(MaxPooling1D(pool_size=2))\n",
        "    model.add(Flatten())\n",
        "    model.add(Dense(128, activation='relu'))\n",
        "    model.add(Dropout(0.5))\n",
        "    model.add(Dense(1, activation='sigmoid'))\n",
        "    return model"
      ]
    },
    {
      "cell_type": "code",
      "execution_count": null,
      "metadata": {
        "id": "Q862DwdMd9ET"
      },
      "outputs": [],
      "source": [
        "def cross_validate_lstm(X, y, kf, model_func):\n",
        "    results = {\n",
        "        'accuracy': [],\n",
        "        'recall': [],\n",
        "        'precision': [],\n",
        "        'f1': [],\n",
        "        'roc_auc': [],\n",
        "        'Inference_Time': [],\n",
        "        'kappa': [],\n",
        "        'Training_time': []\n",
        "    }\n",
        "\n",
        "    fld = 1\n",
        "\n",
        "    for train_index, test_index in kf.split(X):\n",
        "        X_trainV, X_testV = X[train_index], X[test_index]\n",
        "        y_trainV, y_testV = y[train_index], y[test_index]\n",
        "\n",
        "        model = model_func(X_trainV.shape[1:])\n",
        "\n",
        "        start_time = time.time()\n",
        "        model.compile(optimizer='adam', loss='binary_crossentropy', metrics=['accuracy'])\n",
        "        Training_time = time.time() - start_time\n",
        "\n",
        "        start_time = time.time()\n",
        "        history = model.fit(X_trainV, y_trainV, validation_data=(X_testV, y_testV), epochs=10, batch_size=32, verbose=0)\n",
        "        Inference_time = time.time() - start_time\n",
        "\n",
        "        y_predict = (model.predict(X_testV) > 0.5).astype(\"int32\")\n",
        "\n",
        "        accuracy = accuracy_score(y_testV, y_predict)\n",
        "        precision = precision_score(y_testV, y_predict)\n",
        "        recall = recall_score(y_testV, y_predict)\n",
        "        f1 = f1_score(y_testV, y_predict)\n",
        "        kappa = cohen_kappa_score(y_testV, y_predict)\n",
        "        roc_auc = roc_auc_score(y_testV, y_predict)\n",
        "        fpr, tpr, thresholds = roc_curve(y_testV, y_predict)\n",
        "\n",
        "        conf_mat = confusion_matrix(y_testV, y_predict)\n",
        "        results['accuracy'].append(accuracy)\n",
        "        results['precision'].append(precision)\n",
        "        results['recall'].append(recall)\n",
        "        results['f1'].append(f1)\n",
        "        results['kappa'].append(kappa)\n",
        "        results['roc_auc'].append(roc_auc)\n",
        "        results['Inference_Time'].append(Inference_time)\n",
        "        results['Training_time'].append(Training_time)\n",
        "\n",
        "        print(f'Model LSTM Fold {fld} Done')\n",
        "        print(\"********************************************************************\")\n",
        "        fld += 1\n",
        "\n",
        "    return results, model"
      ]
    },
    {
      "cell_type": "code",
      "execution_count": null,
      "metadata": {
        "id": "1ME0yc_od9lL"
      },
      "outputs": [],
      "source": [
        "\n",
        "def create_lstm_model(input_shape):\n",
        "    model = Sequential()\n",
        "    model.add(LSTM(50, input_shape=input_shape))\n",
        "    model.add(Dense(1, activation='sigmoid'))\n",
        "    return model"
      ]
    },
    {
      "cell_type": "code",
      "execution_count": null,
      "metadata": {
        "id": "YcYef2IiiPsH"
      },
      "outputs": [],
      "source": [
        "def create_lstm2_model(input_shape):\n",
        "    model = Sequential()\n",
        "    model.add(LSTM(46, activation='relu', input_shape=input_shape))\n",
        "    model.add(Dense(30, activation='relu'))\n",
        "    model.add(Dense(1, activation='sigmoid'))\n",
        "    model.compile(optimizer=Adam(), loss='binary_crossentropy', metrics=['accuracy'])\n",
        "    return model"
      ]
    },
    {
      "cell_type": "code",
      "execution_count": null,
      "metadata": {
        "id": "b0D-fc9BiWQ4"
      },
      "outputs": [],
      "source": [
        "def create_cnn2_model(input_shape):\n",
        "    model = Sequential()\n",
        "    model.add(Conv1D(46, kernel_size=3, activation='relu', input_shape=input_shape))\n",
        "    model.add(MaxPooling1D(pool_size=2))\n",
        "    model.add(Conv1D(30, kernel_size=3, activation='relu'))\n",
        "    model.add(MaxPooling1D(pool_size=2))\n",
        "    model.add(Flatten())\n",
        "    model.add(Dense(30, activation='relu'))\n",
        "    model.add(Dense(1, activation='sigmoid'))\n",
        "    model.compile(optimizer=Adam(), loss='binary_crossentropy', metrics=['accuracy'])\n",
        "    return model"
      ]
    },
    {
      "cell_type": "code",
      "source": [
        "def test_model(model, X_test, y_test):\n",
        "    results = {\n",
        "        'accuracy': [],\n",
        "        'recall': [],\n",
        "        'precision': [],\n",
        "        'f1': [],\n",
        "        'roc_auc': [],\n",
        "        'Inference_Time': [],\n",
        "        'kappa': []\n",
        "    }\n",
        "    start_time = time.time()\n",
        "    y_predict = model.predict(X_test)\n",
        "    Inference_time = time.time() - start_time\n",
        "\n",
        "    accuracy = accuracy_score(y_test, y_predict)\n",
        "    precision = precision_score(y_test, y_predict)\n",
        "    recall = recall_score(y_test, y_predict)\n",
        "    f1 = f1_score(y_test, y_predict)\n",
        "    kappa = cohen_kappa_score(y_test, y_predict)\n",
        "    roc_auc = roc_auc_score(y_test, y_predict)\n",
        "    fpr, tpr, thresholds = roc_curve(y_test, y_predict)\n",
        "\n",
        "    conf_mat = confusion_matrix(y_test, y_predict)\n",
        "    results['accuracy'].append(accuracy)\n",
        "    results['precision'].append(precision)\n",
        "    results['recall'].append(recall)\n",
        "    results['f1'].append(f1)\n",
        "    results['kappa'].append(kappa)\n",
        "    results['roc_auc'].append(roc_auc)\n",
        "    results['Inference_Time'].append(Inference_time)\n",
        "\n",
        "    return results\n",
        "\n"
      ],
      "metadata": {
        "id": "2s-ZoXGqDfZ7"
      },
      "execution_count": null,
      "outputs": []
    },
    {
      "cell_type": "code",
      "source": [
        "from sklearn.metrics import accuracy_score, precision_score, recall_score, f1_score, cohen_kappa_score, roc_auc_score, roc_curve, confusion_matrix\n",
        "import time\n",
        "\n",
        "# Define the function to test Keras models (LSTM and CNN)\n",
        "def test_keras_model(model, X_test, y_test):\n",
        "    results = {\n",
        "        'accuracy': [],\n",
        "        'recall': [],\n",
        "        'precision': [],\n",
        "        'f1': [],\n",
        "        'roc_auc': [],\n",
        "        'Inference_Time': [],\n",
        "        'kappa': []\n",
        "    }\n",
        "    start_time = time.time()\n",
        "    y_predict = (model.predict(X_test) > 0.5)\n",
        "    Inference_time = time.time() - start_time\n",
        "\n",
        "    accuracy = accuracy_score(y_test, y_predict)\n",
        "    precision = precision_score(y_test, y_predict)\n",
        "    recall = recall_score(y_test, y_predict)\n",
        "    f1 = f1_score(y_test, y_predict)\n",
        "    kappa = cohen_kappa_score(y_test, y_predict)\n",
        "    roc_auc = roc_auc_score(y_test, y_predict)\n",
        "    fpr, tpr, thresholds = roc_curve(y_test, y_predict)\n",
        "\n",
        "    conf_mat = confusion_matrix(y_test, y_predict)\n",
        "    results['accuracy'].append(accuracy)\n",
        "    results['precision'].append(precision)\n",
        "    results['recall'].append(recall)\n",
        "    results['f1'].append(f1)\n",
        "    results['kappa'].append(kappa)\n",
        "    results['roc_auc'].append(roc_auc)\n",
        "    results['Inference_Time'].append(Inference_time)\n",
        "\n",
        "    return results\n",
        "\n"
      ],
      "metadata": {
        "id": "Py_VkcMDINgO"
      },
      "execution_count": null,
      "outputs": []
    },
    {
      "cell_type": "markdown",
      "metadata": {
        "id": "2fxYuAFhMqe4"
      },
      "source": [
        "# #**Models**"
      ]
    },
    {
      "cell_type": "markdown",
      "metadata": {
        "id": "3cY4kUzyFPGE"
      },
      "source": [
        "#1.ExtraTrees"
      ]
    },
    {
      "cell_type": "code",
      "execution_count": null,
      "metadata": {
        "id": "Pqd-mIfqow1R"
      },
      "outputs": [],
      "source": [
        "from sklearn.ensemble import ExtraTreesClassifier"
      ]
    },
    {
      "cell_type": "code",
      "execution_count": null,
      "metadata": {
        "colab": {
          "base_uri": "https://localhost:8080/"
        },
        "id": "Lw4mMXcn2lNa",
        "outputId": "3d5d8a4b-6d23-4bdd-b9e6-d25af668d5f1"
      },
      "outputs": [
        {
          "output_type": "stream",
          "name": "stdout",
          "text": [
            "Model ExtraTrees  Fold 1: Done \n",
            "********************************************************************\n",
            "Model ExtraTrees  Fold 2: Done \n",
            "********************************************************************\n",
            "Model ExtraTrees  Fold 3: Done \n",
            "********************************************************************\n",
            "Model ExtraTrees  Fold 4: Done \n",
            "********************************************************************\n",
            "Model ExtraTrees  Fold 5: Done \n",
            "********************************************************************\n",
            "Model ExtraTrees  Fold 6: Done \n",
            "********************************************************************\n",
            "Model ExtraTrees  Fold 7: Done \n",
            "********************************************************************\n",
            "Model ExtraTrees  Fold 8: Done \n",
            "********************************************************************\n",
            "Model ExtraTrees  Fold 9: Done \n",
            "********************************************************************\n",
            "Model ExtraTrees  Fold 10: Done \n",
            "********************************************************************\n"
          ]
        }
      ],
      "source": [
        "resultsExtraTrees = {}\n",
        "ExtraTrees = ExtraTreesClassifier(\n",
        "    bootstrap=False,\n",
        "    max_depth=None,\n",
        "    max_features='auto',\n",
        "    min_samples_leaf=1,\n",
        "    min_samples_split=2,\n",
        "    n_estimators=200\n",
        ")\n",
        "results_ExtraTrees,ExtraTrees = cross_validate_model(ExtraTrees, X_df, y_df, kf, 'ExtraTrees')"
      ]
    },
    {
      "cell_type": "code",
      "execution_count": null,
      "metadata": {
        "colab": {
          "base_uri": "https://localhost:8080/"
        },
        "id": "zG_tMnaE3wUJ",
        "outputId": "75179c00-2ba4-4924-e07d-8b045876f4a4"
      },
      "outputs": [
        {
          "output_type": "stream",
          "name": "stdout",
          "text": [
            "\n",
            "Summary Statistics for ExtraTrees:\n",
            "Accuracy: Best = 0.96, Worst = 0.95, Mean = 0.95\n",
            "Recall: Best = 0.98, Worst = 0.96, Mean = 0.97\n",
            "Precision: Best = 0.95, Worst = 0.93, Mean = 0.94\n",
            "F1: Best = 0.96, Worst = 0.95, Mean = 0.95\n",
            "Roc_auc: Best = 0.96, Worst = 0.95, Mean = 0.95\n",
            "Inference_time: Best = 0.38, Worst = 0.15, Mean = 0.21\n",
            "Kappa: Best = 0.91, Worst = 0.90, Mean = 0.90\n",
            "Training_time: Best = 11.05, Worst = 4.10, Mean = 6.43\n",
            "********************************************************************\n"
          ]
        }
      ],
      "source": [
        "print_summary_statistics(results_ExtraTrees, 'ExtraTrees')"
      ]
    },
    {
      "cell_type": "code",
      "source": [
        "print_summary_statistics(test_model(ExtraTrees, X_testModel, y_testModel ), 'ExtraTrees')"
      ],
      "metadata": {
        "colab": {
          "base_uri": "https://localhost:8080/"
        },
        "id": "_ZXnaOGEGElA",
        "outputId": "1ae9bfc4-3ef0-4402-f753-ce5545fd6615"
      },
      "execution_count": null,
      "outputs": [
        {
          "output_type": "stream",
          "name": "stdout",
          "text": [
            "\n",
            "Summary Statistics for ExtraTrees:\n",
            "Accuracy: Best = 0.96, Worst = 0.96, Mean = 0.96\n",
            "Recall: Best = 0.96, Worst = 0.96, Mean = 0.96\n",
            "Precision: Best = 0.95, Worst = 0.95, Mean = 0.95\n",
            "F1: Best = 0.96, Worst = 0.96, Mean = 0.96\n",
            "Roc_auc: Best = 0.96, Worst = 0.96, Mean = 0.96\n",
            "Inference_time: Best = 0.44, Worst = 0.44, Mean = 0.44\n",
            "Kappa: Best = 0.91, Worst = 0.91, Mean = 0.91\n",
            "********************************************************************\n"
          ]
        }
      ]
    },
    {
      "cell_type": "markdown",
      "metadata": {
        "id": "eROThtE1Y14b"
      },
      "source": [
        "#2.Random Forest"
      ]
    },
    {
      "cell_type": "code",
      "execution_count": null,
      "metadata": {
        "colab": {
          "base_uri": "https://localhost:8080/"
        },
        "id": "LZUkLmx-Y5SN",
        "outputId": "0288cb75-b42b-4513-a17c-f139f6f5a664"
      },
      "outputs": [
        {
          "output_type": "stream",
          "name": "stdout",
          "text": [
            "Model RandomForest  Fold 1: Done \n",
            "********************************************************************\n",
            "Model RandomForest  Fold 2: Done \n",
            "********************************************************************\n",
            "Model RandomForest  Fold 3: Done \n",
            "********************************************************************\n",
            "Model RandomForest  Fold 4: Done \n",
            "********************************************************************\n",
            "Model RandomForest  Fold 5: Done \n",
            "********************************************************************\n",
            "Model RandomForest  Fold 6: Done \n",
            "********************************************************************\n",
            "Model RandomForest  Fold 7: Done \n",
            "********************************************************************\n",
            "Model RandomForest  Fold 8: Done \n",
            "********************************************************************\n",
            "Model RandomForest  Fold 9: Done \n",
            "********************************************************************\n",
            "Model RandomForest  Fold 10: Done \n",
            "********************************************************************\n"
          ]
        }
      ],
      "source": [
        "RF = RandomForestClassifier(random_state=42)\n",
        "resultsRF = {}\n",
        "results_RF,RF = cross_validate_model(ExtraTrees, X_df, y_df, kf, 'RandomForest')"
      ]
    },
    {
      "cell_type": "code",
      "execution_count": null,
      "metadata": {
        "colab": {
          "base_uri": "https://localhost:8080/"
        },
        "id": "vjFOInKGIiZx",
        "outputId": "2fb1bc48-c39d-455b-b035-6b59a240d2b2"
      },
      "outputs": [
        {
          "output_type": "stream",
          "name": "stdout",
          "text": [
            "\n",
            "Summary Statistics for RandomForest:\n",
            "Accuracy: Best = 0.96, Worst = 0.95, Mean = 0.95\n",
            "Recall: Best = 0.98, Worst = 0.96, Mean = 0.97\n",
            "Precision: Best = 0.95, Worst = 0.93, Mean = 0.94\n",
            "F1: Best = 0.96, Worst = 0.95, Mean = 0.95\n",
            "Roc_auc: Best = 0.96, Worst = 0.95, Mean = 0.95\n",
            "Inference_time: Best = 0.81, Worst = 0.15, Mean = 0.23\n",
            "Kappa: Best = 0.92, Worst = 0.90, Mean = 0.91\n",
            "Training_time: Best = 5.30, Worst = 4.08, Mean = 4.77\n",
            "********************************************************************\n"
          ]
        }
      ],
      "source": [
        "print_summary_statistics(results_RF, 'RandomForest')\n"
      ]
    },
    {
      "cell_type": "code",
      "source": [
        "print_summary_statistics(test_model(RF, X_testModel, y_testModel ), 'RandomForest')"
      ],
      "metadata": {
        "colab": {
          "base_uri": "https://localhost:8080/"
        },
        "id": "ZDer9chRGdyv",
        "outputId": "ae53c116-a2a9-4908-fda2-4b313504934f"
      },
      "execution_count": null,
      "outputs": [
        {
          "output_type": "stream",
          "name": "stdout",
          "text": [
            "\n",
            "Summary Statistics for RandomForest:\n",
            "Accuracy: Best = 0.96, Worst = 0.96, Mean = 0.96\n",
            "Recall: Best = 0.96, Worst = 0.96, Mean = 0.96\n",
            "Precision: Best = 0.95, Worst = 0.95, Mean = 0.95\n",
            "F1: Best = 0.96, Worst = 0.96, Mean = 0.96\n",
            "Roc_auc: Best = 0.96, Worst = 0.96, Mean = 0.96\n",
            "Inference_time: Best = 0.67, Worst = 0.67, Mean = 0.67\n",
            "Kappa: Best = 0.91, Worst = 0.91, Mean = 0.91\n",
            "********************************************************************\n"
          ]
        }
      ]
    },
    {
      "cell_type": "markdown",
      "metadata": {
        "id": "K_qnB4pZI4Jw"
      },
      "source": [
        "#3.XGBOOST"
      ]
    },
    {
      "cell_type": "code",
      "execution_count": null,
      "metadata": {
        "colab": {
          "base_uri": "https://localhost:8080/"
        },
        "id": "AAb7un_XI7eg",
        "outputId": "5a403263-8e7e-4d6e-bc4a-89df3e8c5898"
      },
      "outputs": [
        {
          "output_type": "stream",
          "name": "stdout",
          "text": [
            "Model XGB  Fold 1: Done \n",
            "********************************************************************\n",
            "Model XGB  Fold 2: Done \n",
            "********************************************************************\n",
            "Model XGB  Fold 3: Done \n",
            "********************************************************************\n",
            "Model XGB  Fold 4: Done \n",
            "********************************************************************\n",
            "Model XGB  Fold 5: Done \n",
            "********************************************************************\n",
            "Model XGB  Fold 6: Done \n",
            "********************************************************************\n",
            "Model XGB  Fold 7: Done \n",
            "********************************************************************\n",
            "Model XGB  Fold 8: Done \n",
            "********************************************************************\n",
            "Model XGB  Fold 9: Done \n",
            "********************************************************************\n",
            "Model XGB  Fold 10: Done \n",
            "********************************************************************\n"
          ]
        }
      ],
      "source": [
        "XGB = XGBClassifier(\n",
        "    learning_rate=0.2,\n",
        "    max_depth=7,\n",
        "    n_estimators=300,\n",
        "    subsample=0.8,\n",
        "    random_state=42\n",
        ")\n",
        "\n",
        "resultsXGB = {}\n",
        "resultsXGB,XGB = cross_validate_model(XGB, X_df, y_df, kf, 'XGB')"
      ]
    },
    {
      "cell_type": "code",
      "execution_count": null,
      "metadata": {
        "colab": {
          "base_uri": "https://localhost:8080/"
        },
        "id": "_rTY5kzKK5p_",
        "outputId": "8d84dc4e-8b04-4591-c5dc-57bb80da92ae"
      },
      "outputs": [
        {
          "output_type": "stream",
          "name": "stdout",
          "text": [
            "\n",
            "Summary Statistics for XGB:\n",
            "Accuracy: Best = 0.96, Worst = 0.95, Mean = 0.96\n",
            "Recall: Best = 0.98, Worst = 0.97, Mean = 0.98\n",
            "Precision: Best = 0.95, Worst = 0.94, Mean = 0.95\n",
            "F1: Best = 0.96, Worst = 0.95, Mean = 0.96\n",
            "Roc_auc: Best = 0.97, Worst = 0.95, Mean = 0.96\n",
            "Inference_time: Best = 0.05, Worst = 0.02, Mean = 0.03\n",
            "Kappa: Best = 0.93, Worst = 0.91, Mean = 0.92\n",
            "Training_time: Best = 4.20, Worst = 1.74, Mean = 2.37\n",
            "********************************************************************\n"
          ]
        }
      ],
      "source": [
        "print_summary_statistics(resultsXGB, 'XGB')"
      ]
    },
    {
      "cell_type": "code",
      "source": [
        "print_summary_statistics(test_model(XGB, X_testModel, y_testModel ), 'XGB')"
      ],
      "metadata": {
        "colab": {
          "base_uri": "https://localhost:8080/"
        },
        "id": "Pw7UOcATGpvq",
        "outputId": "35d5eacf-831c-417b-8e05-29123acd482d"
      },
      "execution_count": null,
      "outputs": [
        {
          "output_type": "stream",
          "name": "stdout",
          "text": [
            "\n",
            "Summary Statistics for XGB:\n",
            "Accuracy: Best = 0.96, Worst = 0.96, Mean = 0.96\n",
            "Recall: Best = 0.97, Worst = 0.97, Mean = 0.97\n",
            "Precision: Best = 0.96, Worst = 0.96, Mean = 0.96\n",
            "F1: Best = 0.96, Worst = 0.96, Mean = 0.96\n",
            "Roc_auc: Best = 0.96, Worst = 0.96, Mean = 0.96\n",
            "Inference_time: Best = 0.08, Worst = 0.08, Mean = 0.08\n",
            "Kappa: Best = 0.93, Worst = 0.93, Mean = 0.93\n",
            "********************************************************************\n"
          ]
        }
      ]
    },
    {
      "cell_type": "markdown",
      "metadata": {
        "id": "w0qx024nI7o4"
      },
      "source": [
        "#4.DT"
      ]
    },
    {
      "cell_type": "code",
      "execution_count": null,
      "metadata": {
        "colab": {
          "base_uri": "https://localhost:8080/"
        },
        "id": "qTF1euhJI9po",
        "outputId": "43bda17e-3e2d-4736-d2dc-c40363eb1ab7"
      },
      "outputs": [
        {
          "output_type": "stream",
          "name": "stdout",
          "text": [
            "Model DT  Fold 1: Done \n",
            "********************************************************************\n",
            "Model DT  Fold 2: Done \n",
            "********************************************************************\n",
            "Model DT  Fold 3: Done \n",
            "********************************************************************\n",
            "Model DT  Fold 4: Done \n",
            "********************************************************************\n",
            "Model DT  Fold 5: Done \n",
            "********************************************************************\n",
            "Model DT  Fold 6: Done \n",
            "********************************************************************\n",
            "Model DT  Fold 7: Done \n",
            "********************************************************************\n",
            "Model DT  Fold 8: Done \n",
            "********************************************************************\n",
            "Model DT  Fold 9: Done \n",
            "********************************************************************\n",
            "Model DT  Fold 10: Done \n",
            "********************************************************************\n"
          ]
        }
      ],
      "source": [
        "DT = DecisionTreeClassifier(random_state=42)\n",
        "resultsDT = {}\n",
        "resultsDT,DT = cross_validate_model(DT, X_df, y_df, kf, 'DT')"
      ]
    },
    {
      "cell_type": "code",
      "execution_count": null,
      "metadata": {
        "colab": {
          "base_uri": "https://localhost:8080/"
        },
        "id": "JQEu0PQiOYNj",
        "outputId": "780e7002-15c7-4934-9f82-f36c74dbea53"
      },
      "outputs": [
        {
          "output_type": "stream",
          "name": "stdout",
          "text": [
            "\n",
            "Summary Statistics for DT:\n",
            "Accuracy: Best = 0.94, Worst = 0.93, Mean = 0.93\n",
            "Recall: Best = 0.97, Worst = 0.95, Mean = 0.96\n",
            "Precision: Best = 0.92, Worst = 0.90, Mean = 0.91\n",
            "F1: Best = 0.94, Worst = 0.93, Mean = 0.93\n",
            "Roc_auc: Best = 0.94, Worst = 0.93, Mean = 0.93\n",
            "Inference_time: Best = 0.00, Worst = 0.00, Mean = 0.00\n",
            "Kappa: Best = 0.88, Worst = 0.86, Mean = 0.87\n",
            "Training_time: Best = 0.32, Worst = 0.30, Mean = 0.31\n",
            "********************************************************************\n"
          ]
        }
      ],
      "source": [
        "print_summary_statistics(resultsDT, 'DT')"
      ]
    },
    {
      "cell_type": "code",
      "source": [
        "print_summary_statistics(test_model(DT, X_testModel, y_testModel ), 'DT')"
      ],
      "metadata": {
        "colab": {
          "base_uri": "https://localhost:8080/"
        },
        "id": "4SdtC-JOGyNX",
        "outputId": "e7aa6c9c-9958-48b4-e260-dd6b9bab7547"
      },
      "execution_count": null,
      "outputs": [
        {
          "output_type": "stream",
          "name": "stdout",
          "text": [
            "\n",
            "Summary Statistics for DT:\n",
            "Accuracy: Best = 0.93, Worst = 0.93, Mean = 0.93\n",
            "Recall: Best = 0.95, Worst = 0.95, Mean = 0.95\n",
            "Precision: Best = 0.92, Worst = 0.92, Mean = 0.92\n",
            "F1: Best = 0.93, Worst = 0.93, Mean = 0.93\n",
            "Roc_auc: Best = 0.93, Worst = 0.93, Mean = 0.93\n",
            "Inference_time: Best = 0.01, Worst = 0.01, Mean = 0.01\n",
            "Kappa: Best = 0.86, Worst = 0.86, Mean = 0.86\n",
            "********************************************************************\n"
          ]
        }
      ]
    },
    {
      "cell_type": "markdown",
      "metadata": {
        "id": "tzw0hPiKI9ww"
      },
      "source": [
        "#5.KNN"
      ]
    },
    {
      "cell_type": "code",
      "execution_count": null,
      "metadata": {
        "colab": {
          "base_uri": "https://localhost:8080/"
        },
        "id": "HcBvkAWjJASA",
        "outputId": "e49bf150-d4c6-46df-c619-16b3fe2e3ba6"
      },
      "outputs": [
        {
          "output_type": "stream",
          "name": "stdout",
          "text": [
            "Model KNN  Fold 1: Done \n",
            "********************************************************************\n",
            "Model KNN  Fold 2: Done \n",
            "********************************************************************\n",
            "Model KNN  Fold 3: Done \n",
            "********************************************************************\n",
            "Model KNN  Fold 4: Done \n",
            "********************************************************************\n",
            "Model KNN  Fold 5: Done \n",
            "********************************************************************\n",
            "Model KNN  Fold 6: Done \n",
            "********************************************************************\n",
            "Model KNN  Fold 7: Done \n",
            "********************************************************************\n",
            "Model KNN  Fold 8: Done \n",
            "********************************************************************\n",
            "Model KNN  Fold 9: Done \n",
            "********************************************************************\n",
            "Model KNN  Fold 10: Done \n",
            "********************************************************************\n"
          ]
        }
      ],
      "source": [
        "from sklearn.neighbors import KNeighborsClassifier\n",
        "KNN = KNeighborsClassifier()\n",
        "resultsKNN = {}\n",
        "resultsKNN,KNN = cross_validate_model(KNN, X_df, y_df, kf, 'KNN')"
      ]
    },
    {
      "cell_type": "code",
      "execution_count": null,
      "metadata": {
        "colab": {
          "base_uri": "https://localhost:8080/"
        },
        "id": "-hFAaAoJOfl-",
        "outputId": "1f55c70f-1040-41d4-bda3-2cf0c973c5a3"
      },
      "outputs": [
        {
          "output_type": "stream",
          "name": "stdout",
          "text": [
            "\n",
            "Summary Statistics for KNN:\n",
            "Accuracy: Best = 0.90, Worst = 0.88, Mean = 0.89\n",
            "Recall: Best = 0.93, Worst = 0.89, Mean = 0.90\n",
            "Precision: Best = 0.89, Worst = 0.88, Mean = 0.88\n",
            "F1: Best = 0.91, Worst = 0.88, Mean = 0.89\n",
            "Roc_auc: Best = 0.90, Worst = 0.88, Mean = 0.89\n",
            "Inference_time: Best = 0.44, Worst = 0.37, Mean = 0.39\n",
            "Kappa: Best = 0.80, Worst = 0.76, Mean = 0.78\n",
            "Training_time: Best = 0.01, Worst = 0.00, Mean = 0.00\n",
            "********************************************************************\n"
          ]
        }
      ],
      "source": [
        "print_summary_statistics(resultsKNN, 'KNN')"
      ]
    },
    {
      "cell_type": "code",
      "source": [
        "print_summary_statistics(test_model(KNN, X_testModel, y_testModel ), 'KNN')"
      ],
      "metadata": {
        "colab": {
          "base_uri": "https://localhost:8080/"
        },
        "id": "slMalbZAG5_R",
        "outputId": "2f35ab6e-fb7b-4a7d-e3a4-b1eeaa293382"
      },
      "execution_count": null,
      "outputs": [
        {
          "output_type": "stream",
          "name": "stdout",
          "text": [
            "\n",
            "Summary Statistics for KNN:\n",
            "Accuracy: Best = 0.89, Worst = 0.89, Mean = 0.89\n",
            "Recall: Best = 0.90, Worst = 0.90, Mean = 0.90\n",
            "Precision: Best = 0.89, Worst = 0.89, Mean = 0.89\n",
            "F1: Best = 0.89, Worst = 0.89, Mean = 0.89\n",
            "Roc_auc: Best = 0.89, Worst = 0.89, Mean = 0.89\n",
            "Inference_time: Best = 1.57, Worst = 1.57, Mean = 1.57\n",
            "Kappa: Best = 0.79, Worst = 0.79, Mean = 0.79\n",
            "********************************************************************\n"
          ]
        }
      ]
    },
    {
      "cell_type": "markdown",
      "metadata": {
        "id": "8vScdaUfJAZ_"
      },
      "source": [
        "#6.LSTM"
      ]
    },
    {
      "cell_type": "code",
      "execution_count": null,
      "metadata": {
        "id": "F42BIpOXeaEW"
      },
      "outputs": [],
      "source": [
        "X = X_trainV\n",
        "y = y_trainV\n",
        "# Ensure X is a NumPy array\n",
        "X = np.array(X)\n",
        "y = np.array(y)\n",
        "\n",
        "\n",
        "\n",
        "# Reshape X to 3D for CNN input\n",
        "X_reshaped = X.reshape(X.shape[0], X.shape[1], 1)\n"
      ]
    },
    {
      "cell_type": "code",
      "execution_count": null,
      "metadata": {
        "colab": {
          "base_uri": "https://localhost:8080/"
        },
        "id": "CJXkpL19eS-S",
        "outputId": "0f5c1ae7-cfec-4420-bdb0-da303dbe3801"
      },
      "outputs": [
        {
          "output_type": "stream",
          "name": "stdout",
          "text": [
            "74/74 [==============================] - 0s 3ms/step\n",
            "Model LSTM Fold 1 Done\n",
            "********************************************************************\n",
            "74/74 [==============================] - 1s 5ms/step\n",
            "Model LSTM Fold 2 Done\n",
            "********************************************************************\n",
            "74/74 [==============================] - 0s 4ms/step\n",
            "Model LSTM Fold 3 Done\n",
            "********************************************************************\n",
            "74/74 [==============================] - 0s 3ms/step\n",
            "Model LSTM Fold 4 Done\n",
            "********************************************************************\n",
            "74/74 [==============================] - 0s 3ms/step\n",
            "Model LSTM Fold 5 Done\n",
            "********************************************************************\n",
            "74/74 [==============================] - 0s 4ms/step\n",
            "Model LSTM Fold 6 Done\n",
            "********************************************************************\n",
            "74/74 [==============================] - 1s 5ms/step\n",
            "Model LSTM Fold 7 Done\n",
            "********************************************************************\n",
            "74/74 [==============================] - 1s 5ms/step\n",
            "Model LSTM Fold 8 Done\n",
            "********************************************************************\n",
            "74/74 [==============================] - 0s 4ms/step\n",
            "Model LSTM Fold 9 Done\n",
            "********************************************************************\n",
            "74/74 [==============================] - 0s 4ms/step\n",
            "Model LSTM Fold 10 Done\n",
            "********************************************************************\n"
          ]
        }
      ],
      "source": [
        "from tensorflow.keras.layers import LSTM\n",
        "# Cross-validate LSTM\n",
        "resultsLSTM = {}\n",
        "resultsLSTM, LSTMModel = cross_validate_lstm(X_reshaped, y, kf, create_lstm2_model)"
      ]
    },
    {
      "cell_type": "code",
      "execution_count": null,
      "metadata": {
        "colab": {
          "base_uri": "https://localhost:8080/"
        },
        "id": "YhylI2l_OhO4",
        "outputId": "7fd4ff85-c7bd-4f67-ac1c-301abb3444e5"
      },
      "outputs": [
        {
          "output_type": "stream",
          "name": "stdout",
          "text": [
            "\n",
            "Summary Statistics for LSTM:\n",
            "Accuracy: Best = 0.78, Worst = 0.67, Mean = 0.72\n",
            "Recall: Best = 0.97, Worst = 0.82, Mean = 0.92\n",
            "Precision: Best = 0.70, Worst = 0.62, Mean = 0.66\n",
            "F1: Best = 0.81, Worst = 0.73, Mean = 0.77\n",
            "Roc_auc: Best = 0.78, Worst = 0.68, Mean = 0.72\n",
            "Inference_time: Best = 84.29, Worst = 64.02, Mean = 76.41\n",
            "Kappa: Best = 0.56, Worst = 0.35, Mean = 0.44\n",
            "Training_time: Best = 0.02, Worst = 0.01, Mean = 0.01\n",
            "********************************************************************\n"
          ]
        }
      ],
      "source": [
        "print_summary_statistics(resultsLSTM, 'LSTM')"
      ]
    },
    {
      "cell_type": "code",
      "source": [
        "\n",
        "# Test the LSTM model\n",
        "results_lstm = test_keras_model(LSTMModel,X_testModel, y_testModel)\n",
        "print(\"LSTM Model Test Results:\", results_lstm)\n",
        "\n"
      ],
      "metadata": {
        "id": "FvU8OtVNIQ_3"
      },
      "execution_count": null,
      "outputs": []
    },
    {
      "cell_type": "markdown",
      "metadata": {
        "id": "CrDEtp9nJEEB"
      },
      "source": [
        "#7.AdaBoost"
      ]
    },
    {
      "cell_type": "code",
      "execution_count": null,
      "metadata": {
        "colab": {
          "base_uri": "https://localhost:8080/"
        },
        "id": "ros3KNOTOiip",
        "outputId": "2194ffaa-8901-4dc8-95b6-867f6c83103e"
      },
      "outputs": [
        {
          "output_type": "stream",
          "name": "stdout",
          "text": [
            "Model AdaBoost   Fold 1: Done \n",
            "********************************************************************\n",
            "Model AdaBoost   Fold 2: Done \n",
            "********************************************************************\n",
            "Model AdaBoost   Fold 3: Done \n",
            "********************************************************************\n",
            "Model AdaBoost   Fold 4: Done \n",
            "********************************************************************\n",
            "Model AdaBoost   Fold 5: Done \n",
            "********************************************************************\n",
            "Model AdaBoost   Fold 6: Done \n",
            "********************************************************************\n",
            "Model AdaBoost   Fold 7: Done \n",
            "********************************************************************\n",
            "Model AdaBoost   Fold 8: Done \n",
            "********************************************************************\n",
            "Model AdaBoost   Fold 9: Done \n",
            "********************************************************************\n",
            "Model AdaBoost   Fold 10: Done \n",
            "********************************************************************\n"
          ]
        }
      ],
      "source": [
        "from sklearn.ensemble import AdaBoostClassifier\n",
        "AdaBoost = AdaBoostClassifier(n_estimators=100, random_state=42)\n",
        "resultsAdaBoost  = {}\n",
        "resultsAdaBoost ,AdaBoost  = cross_validate_model(AdaBoost , X_df, y_df, kf, 'AdaBoost ')"
      ]
    },
    {
      "cell_type": "code",
      "execution_count": null,
      "metadata": {
        "colab": {
          "base_uri": "https://localhost:8080/"
        },
        "id": "W6d6tADQOiiq",
        "outputId": "3c95488a-a0bd-4451-a8b7-01dbfee7d51f"
      },
      "outputs": [
        {
          "output_type": "stream",
          "name": "stdout",
          "text": [
            "\n",
            "Summary Statistics for AdaBoost:\n",
            "Accuracy: Best = 0.87, Worst = 0.83, Mean = 0.85\n",
            "Recall: Best = 0.90, Worst = 0.86, Mean = 0.87\n",
            "Precision: Best = 0.87, Worst = 0.81, Mean = 0.84\n",
            "F1: Best = 0.87, Worst = 0.83, Mean = 0.86\n",
            "Roc_auc: Best = 0.87, Worst = 0.83, Mean = 0.85\n",
            "Inference_time: Best = 0.07, Worst = 0.05, Mean = 0.06\n",
            "Kappa: Best = 0.73, Worst = 0.67, Mean = 0.71\n",
            "Training_time: Best = 7.26, Worst = 3.66, Mean = 4.78\n",
            "********************************************************************\n"
          ]
        }
      ],
      "source": [
        "print_summary_statistics(resultsAdaBoost, 'AdaBoost')"
      ]
    },
    {
      "cell_type": "code",
      "source": [
        "print_summary_statistics(test_model(AdaBoost, X_testModel, y_testModel ), 'AdaBoost')"
      ],
      "metadata": {
        "colab": {
          "base_uri": "https://localhost:8080/"
        },
        "id": "7rMC4vNeHN5_",
        "outputId": "433a22be-e991-42da-fa38-a15f3eba223a"
      },
      "execution_count": null,
      "outputs": [
        {
          "output_type": "stream",
          "name": "stdout",
          "text": [
            "\n",
            "Summary Statistics for AdaBoost:\n",
            "Accuracy: Best = 0.86, Worst = 0.86, Mean = 0.86\n",
            "Recall: Best = 0.86, Worst = 0.86, Mean = 0.86\n",
            "Precision: Best = 0.85, Worst = 0.85, Mean = 0.85\n",
            "F1: Best = 0.86, Worst = 0.86, Mean = 0.86\n",
            "Roc_auc: Best = 0.86, Worst = 0.86, Mean = 0.86\n",
            "Inference_time: Best = 0.14, Worst = 0.14, Mean = 0.14\n",
            "Kappa: Best = 0.71, Worst = 0.71, Mean = 0.71\n",
            "********************************************************************\n"
          ]
        }
      ]
    },
    {
      "cell_type": "markdown",
      "metadata": {
        "id": "Md_6kLE9JILw"
      },
      "source": [
        "#8.CNN"
      ]
    },
    {
      "cell_type": "code",
      "execution_count": null,
      "metadata": {
        "id": "LeC24SKEalzH"
      },
      "outputs": [],
      "source": [
        "X = X_trainV\n",
        "y = y_trainV\n",
        "# Ensure X is a NumPy array\n",
        "X = np.array(X)\n",
        "y = np.array(y)\n",
        "\n",
        "\n",
        "# Reshape X to 3D for CNN input\n",
        "X_reshaped = X.reshape(X.shape[0], X.shape[1], 1)\n"
      ]
    },
    {
      "cell_type": "code",
      "execution_count": null,
      "metadata": {
        "colab": {
          "base_uri": "https://localhost:8080/"
        },
        "id": "95Lrbg5zaCZf",
        "outputId": "34b2edb4-492a-4366-ed6c-c1aebcba6e88"
      },
      "outputs": [
        {
          "output_type": "stream",
          "name": "stdout",
          "text": [
            "74/74 [==============================] - 0s 2ms/step\n",
            "Model CNN Fold 1 Done\n",
            "********************************************************************\n",
            "74/74 [==============================] - 0s 3ms/step\n",
            "Model CNN Fold 2 Done\n",
            "********************************************************************\n",
            "74/74 [==============================] - 0s 2ms/step\n",
            "Model CNN Fold 3 Done\n",
            "********************************************************************\n",
            "74/74 [==============================] - 0s 3ms/step\n",
            "Model CNN Fold 4 Done\n",
            "********************************************************************\n",
            "74/74 [==============================] - 0s 2ms/step\n",
            "Model CNN Fold 5 Done\n",
            "********************************************************************\n",
            "74/74 [==============================] - 0s 3ms/step\n",
            "Model CNN Fold 6 Done\n",
            "********************************************************************\n",
            "74/74 [==============================] - 0s 2ms/step\n",
            "Model CNN Fold 7 Done\n",
            "********************************************************************\n",
            "74/74 [==============================] - 0s 2ms/step\n",
            "Model CNN Fold 8 Done\n",
            "********************************************************************\n",
            "74/74 [==============================] - 0s 3ms/step\n",
            "Model CNN Fold 9 Done\n",
            "********************************************************************\n",
            "74/74 [==============================] - 0s 2ms/step\n",
            "Model CNN Fold 10 Done\n",
            "********************************************************************\n"
          ]
        }
      ],
      "source": [
        "\n",
        "# Cross-validate CNN\n",
        "resultsCNN, CNNModel = cross_validate_cnn(X_reshaped, y_trainV, kf, create_cnn2_model)"
      ]
    },
    {
      "cell_type": "code",
      "execution_count": null,
      "metadata": {
        "colab": {
          "base_uri": "https://localhost:8080/"
        },
        "id": "KwrrO3zxOlCL",
        "outputId": "458cff5a-ac1a-44ac-e81b-b4e7f51bcf30"
      },
      "outputs": [
        {
          "output_type": "stream",
          "name": "stdout",
          "text": [
            "\n",
            "Summary Statistics for CNN:\n",
            "Accuracy: Best = 0.82, Worst = 0.77, Mean = 0.80\n",
            "Precision: Best = 0.82, Worst = 0.70, Mean = 0.76\n",
            "Recall: Best = 0.96, Worst = 0.70, Mean = 0.89\n",
            "F1: Best = 0.83, Worst = 0.76, Mean = 0.82\n",
            "Kappa: Best = 0.64, Worst = 0.54, Mean = 0.60\n",
            "Roc_auc: Best = 0.82, Worst = 0.77, Mean = 0.80\n",
            "Inference_time: Best = 41.97, Worst = 21.22, Mean = 23.91\n",
            "Training_time: Best = 0.01, Worst = 0.01, Mean = 0.01\n",
            "********************************************************************\n"
          ]
        }
      ],
      "source": [
        "print_summary_statistics(resultsCNN, 'CNN')"
      ]
    },
    {
      "cell_type": "markdown",
      "metadata": {
        "id": "C6hyAJmXJKcY"
      },
      "source": [
        "#9.MLP"
      ]
    },
    {
      "cell_type": "code",
      "execution_count": null,
      "metadata": {
        "colab": {
          "base_uri": "https://localhost:8080/"
        },
        "id": "oKZGh-ZvOj8Z",
        "outputId": "8f0febee-7f59-4aae-9e68-43fa45634e85"
      },
      "outputs": [
        {
          "output_type": "stream",
          "name": "stdout",
          "text": [
            "Model MLP  Fold 1: Done \n",
            "********************************************************************\n",
            "Model MLP  Fold 2: Done \n",
            "********************************************************************\n",
            "Model MLP  Fold 3: Done \n",
            "********************************************************************\n",
            "Model MLP  Fold 4: Done \n",
            "********************************************************************\n",
            "Model MLP  Fold 5: Done \n",
            "********************************************************************\n",
            "Model MLP  Fold 6: Done \n",
            "********************************************************************\n",
            "Model MLP  Fold 7: Done \n",
            "********************************************************************\n",
            "Model MLP  Fold 8: Done \n",
            "********************************************************************\n",
            "Model MLP  Fold 9: Done \n",
            "********************************************************************\n",
            "Model MLP  Fold 10: Done \n",
            "********************************************************************\n"
          ]
        }
      ],
      "source": [
        "from sklearn.neural_network import MLPClassifier\n",
        "MLP = MLPClassifier(hidden_layer_sizes=(100, ), max_iter=100, random_state=42)\n",
        "resultsMLP = {}\n",
        "resultsMLP,MLP = cross_validate_model(MLP, X_df, y_df, kf, 'MLP')"
      ]
    },
    {
      "cell_type": "code",
      "execution_count": null,
      "metadata": {
        "colab": {
          "base_uri": "https://localhost:8080/"
        },
        "id": "d5nTjzm-Oj8a",
        "outputId": "f5e1bba6-3b57-4044-9359-2d22355c10e3"
      },
      "outputs": [
        {
          "output_type": "stream",
          "name": "stdout",
          "text": [
            "\n",
            "Summary Statistics for MLP:\n",
            "Accuracy: Best = 0.81, Worst = 0.79, Mean = 0.80\n",
            "Recall: Best = 0.95, Worst = 0.91, Mean = 0.94\n",
            "Precision: Best = 0.75, Worst = 0.72, Mean = 0.74\n",
            "F1: Best = 0.83, Worst = 0.81, Mean = 0.82\n",
            "Roc_auc: Best = 0.82, Worst = 0.79, Mean = 0.80\n",
            "Inference_time: Best = 0.01, Worst = 0.00, Mean = 0.01\n",
            "Kappa: Best = 0.63, Worst = 0.58, Mean = 0.60\n",
            "Training_time: Best = 16.95, Worst = 15.46, Mean = 16.17\n",
            "********************************************************************\n"
          ]
        }
      ],
      "source": [
        "print_summary_statistics(resultsMLP, 'MLP')"
      ]
    },
    {
      "cell_type": "code",
      "source": [
        "print_summary_statistics(test_model(MLP, X_testModel, y_testModel ), 'MLP')"
      ],
      "metadata": {
        "colab": {
          "base_uri": "https://localhost:8080/"
        },
        "id": "PXtQso_gHUG_",
        "outputId": "c30ca487-b026-4e17-d920-afd204852cdc"
      },
      "execution_count": null,
      "outputs": [
        {
          "output_type": "stream",
          "name": "stdout",
          "text": [
            "\n",
            "Summary Statistics for MLP:\n",
            "Accuracy: Best = 0.81, Worst = 0.81, Mean = 0.81\n",
            "Recall: Best = 0.93, Worst = 0.93, Mean = 0.93\n",
            "Precision: Best = 0.75, Worst = 0.75, Mean = 0.75\n",
            "F1: Best = 0.83, Worst = 0.83, Mean = 0.83\n",
            "Roc_auc: Best = 0.81, Worst = 0.81, Mean = 0.81\n",
            "Inference_time: Best = 0.02, Worst = 0.02, Mean = 0.02\n",
            "Kappa: Best = 0.62, Worst = 0.62, Mean = 0.62\n",
            "********************************************************************\n"
          ]
        }
      ]
    },
    {
      "cell_type": "markdown",
      "metadata": {
        "id": "NU-J2IRNJMUo"
      },
      "source": [
        "#10.LR"
      ]
    },
    {
      "cell_type": "code",
      "execution_count": null,
      "metadata": {
        "id": "Pr56jFeLOmv0",
        "colab": {
          "base_uri": "https://localhost:8080/"
        },
        "outputId": "e7b778ac-f19e-4a42-d7cf-f65b19c5d76f"
      },
      "outputs": [
        {
          "output_type": "stream",
          "name": "stdout",
          "text": [
            "Model LR  Fold 1: Done \n",
            "********************************************************************\n",
            "Model LR  Fold 2: Done \n",
            "********************************************************************\n",
            "Model LR  Fold 3: Done \n",
            "********************************************************************\n",
            "Model LR  Fold 4: Done \n",
            "********************************************************************\n",
            "Model LR  Fold 5: Done \n",
            "********************************************************************\n",
            "Model LR  Fold 6: Done \n",
            "********************************************************************\n",
            "Model LR  Fold 7: Done \n",
            "********************************************************************\n",
            "Model LR  Fold 8: Done \n",
            "********************************************************************\n",
            "Model LR  Fold 9: Done \n",
            "********************************************************************\n",
            "Model LR  Fold 10: Done \n",
            "********************************************************************\n"
          ]
        }
      ],
      "source": [
        "LR = LogisticRegression(C=100, penalty='l2', solver='liblinear')\n",
        "resultsLR = {}\n",
        "resultsLR,LR = cross_validate_model(LR, X_df, y_df, kf, 'LR')"
      ]
    },
    {
      "cell_type": "code",
      "execution_count": null,
      "metadata": {
        "id": "MGKRNcmlOmv0",
        "colab": {
          "base_uri": "https://localhost:8080/"
        },
        "outputId": "d677a2b9-1e0c-4dce-ac64-2414aaec8254"
      },
      "outputs": [
        {
          "output_type": "stream",
          "name": "stdout",
          "text": [
            "\n",
            "Summary Statistics for LR:\n",
            "Accuracy: Best = 0.68, Worst = 0.65, Mean = 0.66\n",
            "Recall: Best = 0.95, Worst = 0.93, Mean = 0.94\n",
            "Precision: Best = 0.62, Worst = 0.59, Mean = 0.61\n",
            "F1: Best = 0.75, Worst = 0.72, Mean = 0.74\n",
            "Roc_auc: Best = 0.68, Worst = 0.65, Mean = 0.66\n",
            "Inference_time: Best = 0.01, Worst = 0.00, Mean = 0.00\n",
            "Kappa: Best = 0.36, Worst = 0.30, Mean = 0.33\n",
            "Training_time: Best = 2.07, Worst = 0.97, Mean = 1.42\n",
            "********************************************************************\n"
          ]
        }
      ],
      "source": [
        "print_summary_statistics(resultsLR, 'LR')"
      ]
    },
    {
      "cell_type": "code",
      "source": [
        "print_summary_statistics(test_model(LR, X_testModel, y_testModel ), 'LR')"
      ],
      "metadata": {
        "colab": {
          "base_uri": "https://localhost:8080/"
        },
        "id": "weGXqMQGHai-",
        "outputId": "511684c9-b81a-421f-8ddc-6c237b474c27"
      },
      "execution_count": null,
      "outputs": [
        {
          "output_type": "stream",
          "name": "stdout",
          "text": [
            "\n",
            "Summary Statistics for LR:\n",
            "Accuracy: Best = 0.67, Worst = 0.67, Mean = 0.67\n",
            "Recall: Best = 0.94, Worst = 0.94, Mean = 0.94\n",
            "Precision: Best = 0.61, Worst = 0.61, Mean = 0.61\n",
            "F1: Best = 0.74, Worst = 0.74, Mean = 0.74\n",
            "Roc_auc: Best = 0.67, Worst = 0.67, Mean = 0.67\n",
            "Inference_time: Best = 0.01, Worst = 0.01, Mean = 0.01\n",
            "Kappa: Best = 0.34, Worst = 0.34, Mean = 0.34\n",
            "********************************************************************\n"
          ]
        }
      ]
    },
    {
      "cell_type": "markdown",
      "metadata": {
        "id": "UCpYSFCXJOnp"
      },
      "source": [
        "#11.SVM"
      ]
    },
    {
      "cell_type": "code",
      "execution_count": null,
      "metadata": {
        "colab": {
          "base_uri": "https://localhost:8080/"
        },
        "id": "TUX1ZOQCOn8L",
        "outputId": "f4193b6b-65a4-486b-aa7b-63a5d61512bc"
      },
      "outputs": [
        {
          "output_type": "stream",
          "name": "stdout",
          "text": [
            "Model SVM  Fold 1: Done \n",
            "********************************************************************\n",
            "Model SVM  Fold 2: Done \n",
            "********************************************************************\n",
            "Model SVM  Fold 3: Done \n",
            "********************************************************************\n",
            "Model SVM  Fold 4: Done \n",
            "********************************************************************\n",
            "Model SVM  Fold 5: Done \n",
            "********************************************************************\n",
            "Model SVM  Fold 6: Done \n",
            "********************************************************************\n",
            "Model SVM  Fold 7: Done \n",
            "********************************************************************\n",
            "Model SVM  Fold 8: Done \n",
            "********************************************************************\n",
            "Model SVM  Fold 9: Done \n",
            "********************************************************************\n",
            "Model SVM  Fold 10: Done \n",
            "********************************************************************\n"
          ]
        }
      ],
      "source": [
        "SVM = SVC(kernel='linear',probability=True , random_state=42)\n",
        "resultsSVM = {}\n",
        "resultsSVM,SVM = cross_validate_model(SVM, X_df, y_df, kf, 'SVM')"
      ]
    },
    {
      "cell_type": "code",
      "execution_count": null,
      "metadata": {
        "colab": {
          "base_uri": "https://localhost:8080/"
        },
        "id": "T5Y7qPs1On8M",
        "outputId": "c4ebb751-837f-48ff-a7f4-9a3579ab311d"
      },
      "outputs": [
        {
          "output_type": "stream",
          "name": "stdout",
          "text": [
            "\n",
            "Summary Statistics for SVM:\n",
            "Accuracy: Best = 0.66, Worst = 0.62, Mean = 0.64\n",
            "Recall: Best = 0.98, Worst = 0.96, Mean = 0.97\n",
            "Precision: Best = 0.60, Worst = 0.57, Mean = 0.59\n",
            "F1: Best = 0.74, Worst = 0.72, Mean = 0.73\n",
            "Roc_auc: Best = 0.66, Worst = 0.63, Mean = 0.64\n",
            "Inference_time: Best = 1.58, Worst = 0.89, Mean = 1.07\n",
            "Kappa: Best = 0.32, Worst = 0.26, Mean = 0.28\n",
            "Training_time: Best = 27.60, Worst = 22.89, Mean = 25.51\n",
            "********************************************************************\n"
          ]
        }
      ],
      "source": [
        "print_summary_statistics(resultsSVM, 'SVM')"
      ]
    },
    {
      "cell_type": "code",
      "source": [
        "print_summary_statistics(test_model(SVM, X_testModel, y_testModel ), 'SVM')"
      ],
      "metadata": {
        "colab": {
          "base_uri": "https://localhost:8080/"
        },
        "id": "WqtR0TUnHfFl",
        "outputId": "89cfed52-1a99-45f2-b10c-b35fd7baf04b"
      },
      "execution_count": null,
      "outputs": [
        {
          "output_type": "stream",
          "name": "stdout",
          "text": [
            "\n",
            "Summary Statistics for SVM:\n",
            "Accuracy: Best = 0.65, Worst = 0.65, Mean = 0.65\n",
            "Recall: Best = 0.97, Worst = 0.97, Mean = 0.97\n",
            "Precision: Best = 0.59, Worst = 0.59, Mean = 0.59\n",
            "F1: Best = 0.73, Worst = 0.73, Mean = 0.73\n",
            "Roc_auc: Best = 0.65, Worst = 0.65, Mean = 0.65\n",
            "Inference_time: Best = 7.23, Worst = 7.23, Mean = 7.23\n",
            "Kappa: Best = 0.29, Worst = 0.29, Mean = 0.29\n",
            "********************************************************************\n"
          ]
        }
      ]
    },
    {
      "cell_type": "markdown",
      "metadata": {
        "id": "7_161zDAJRHQ"
      },
      "source": [
        "#12.NaiveBayes"
      ]
    },
    {
      "cell_type": "code",
      "execution_count": null,
      "metadata": {
        "colab": {
          "base_uri": "https://localhost:8080/"
        },
        "id": "p0RPON6cOpJL",
        "outputId": "54a87265-6bbd-472d-e9c4-aae6e0869e0e"
      },
      "outputs": [
        {
          "output_type": "stream",
          "name": "stdout",
          "text": [
            "Model NaiveBayes  Fold 1: Done \n",
            "********************************************************************\n",
            "Model NaiveBayes  Fold 2: Done \n",
            "********************************************************************\n",
            "Model NaiveBayes  Fold 3: Done \n",
            "********************************************************************\n",
            "Model NaiveBayes  Fold 4: Done \n",
            "********************************************************************\n",
            "Model NaiveBayes  Fold 5: Done \n",
            "********************************************************************\n",
            "Model NaiveBayes  Fold 6: Done \n",
            "********************************************************************\n",
            "Model NaiveBayes  Fold 7: Done \n",
            "********************************************************************\n",
            "Model NaiveBayes  Fold 8: Done \n",
            "********************************************************************\n",
            "Model NaiveBayes  Fold 9: Done \n",
            "********************************************************************\n",
            "Model NaiveBayes  Fold 10: Done \n",
            "********************************************************************\n"
          ]
        }
      ],
      "source": [
        "NaiveBayes = GaussianNB()\n",
        "resultsNaiveBayes  = {}\n",
        "resultsNaiveBayes ,NaiveBayes = cross_validate_model(NaiveBayes, X_df, y_df, kf, 'NaiveBayes')"
      ]
    },
    {
      "cell_type": "code",
      "execution_count": null,
      "metadata": {
        "colab": {
          "base_uri": "https://localhost:8080/"
        },
        "id": "8k7ynd4nOpJM",
        "outputId": "013a48bb-7730-462d-cc83-106b2e9cab37"
      },
      "outputs": [
        {
          "output_type": "stream",
          "name": "stdout",
          "text": [
            "\n",
            "Summary Statistics for NaiveBayes:\n",
            "Accuracy: Best = 0.59, Worst = 0.55, Mean = 0.58\n",
            "Recall: Best = 0.99, Worst = 0.98, Mean = 0.99\n",
            "Precision: Best = 0.55, Worst = 0.52, Mean = 0.54\n",
            "F1: Best = 0.71, Worst = 0.68, Mean = 0.70\n",
            "Roc_auc: Best = 0.59, Worst = 0.56, Mean = 0.58\n",
            "Inference_time: Best = 0.00, Worst = 0.00, Mean = 0.00\n",
            "Kappa: Best = 0.18, Worst = 0.12, Mean = 0.15\n",
            "Training_time: Best = 0.01, Worst = 0.01, Mean = 0.01\n",
            "********************************************************************\n"
          ]
        }
      ],
      "source": [
        "print_summary_statistics(resultsNaiveBayes, 'NaiveBayes')"
      ]
    },
    {
      "cell_type": "code",
      "source": [
        "print_summary_statistics(test_model(NaiveBayes, X_testModel, y_testModel ), 'NaiveBayes')"
      ],
      "metadata": {
        "colab": {
          "base_uri": "https://localhost:8080/"
        },
        "id": "ol0U32TGHjsX",
        "outputId": "985489df-1251-41cf-c55a-1a6d1522dec3"
      },
      "execution_count": null,
      "outputs": [
        {
          "output_type": "stream",
          "name": "stdout",
          "text": [
            "\n",
            "Summary Statistics for NaiveBayes:\n",
            "Accuracy: Best = 0.57, Worst = 0.57, Mean = 0.57\n",
            "Recall: Best = 0.99, Worst = 0.99, Mean = 0.99\n",
            "Precision: Best = 0.54, Worst = 0.54, Mean = 0.54\n",
            "F1: Best = 0.70, Worst = 0.70, Mean = 0.70\n",
            "Roc_auc: Best = 0.57, Worst = 0.57, Mean = 0.57\n",
            "Inference_time: Best = 0.00, Worst = 0.00, Mean = 0.00\n",
            "Kappa: Best = 0.14, Worst = 0.14, Mean = 0.14\n",
            "********************************************************************\n"
          ]
        }
      ]
    },
    {
      "cell_type": "markdown",
      "metadata": {
        "id": "5GWpKgk_9U5k"
      },
      "source": [
        "# #**Ensemble1**\n",
        "ExtraTrees\n",
        "\n",
        "RF\n",
        "\n",
        "XGB\n",
        "\n",
        "DT\n",
        "\n",
        "KNN\n",
        "\n",
        "LSTMModel\n",
        "\n",
        "AdaBoost\n",
        "\n",
        "CNNModel\n",
        "\n",
        "MLP\n",
        "\n",
        "LR\n",
        "\n",
        "SVM\n",
        "\n",
        "NaiveBayes"
      ]
    },
    {
      "cell_type": "markdown",
      "metadata": {
        "id": "k_uA99KnR6Nn"
      },
      "source": [
        "#Ensemble"
      ]
    },
    {
      "cell_type": "markdown",
      "source": [
        "#Ensemble1"
      ],
      "metadata": {
        "id": "90uNIQ6_FBlK"
      }
    },
    {
      "cell_type": "code",
      "source": [
        "from sklearn.ensemble import VotingClassifier, StackingClassifier, BaggingClassifier, AdaBoostClassifier\n",
        "from sklearn.linear_model import LogisticRegression\n",
        "from sklearn.svm import SVC\n",
        "from sklearn.base import BaseEstimator, ClassifierMixin\n",
        "import numpy as np\n",
        "\n",
        "# Placeholder class to wrap Keras models for use in scikit-learn ensembles\n",
        "class KerasClassifierWrapper(BaseEstimator, ClassifierMixin):\n",
        "    def __init__(self, model):\n",
        "        self.model = model\n",
        "\n",
        "    def fit(self, X, y):\n",
        "        self.model.fit(X, y, epochs=300, batch_size=32, verbose=0)\n",
        "        return self\n",
        "\n",
        "    def predict(self, X):\n",
        "        return (self.model.predict(X) > 0.5).astype(\"int32\")\n",
        "\n",
        "    def predict_proba(self, X):\n",
        "        return self.model.predict(X)\n",
        "\n",
        "# Wrap Keras models\n",
        "cnn_wrapper = KerasClassifierWrapper(CNNModel)\n",
        "lstm_wrapper = KerasClassifierWrapper(LSTMModel)\n",
        "\n",
        "# Initialize scikit-learn models with best parameters if available\n",
        "extra_trees = ExtraTrees\n",
        "random_forest = RF\n",
        "xgboost = XGB\n",
        "decision_tree = DT\n",
        "knn = KNN\n",
        "adaboost = AdaBoost\n",
        "mlp = MLP\n",
        "logistic_regression = LR\n",
        "svm = SVC(probability=True)  # Enable probability estimates\n",
        "naive_bayes = NaiveBayes\n",
        "\n",
        "# 1. Voting Classifier (Soft Voting)\n",
        "soft_voting_clf = VotingClassifier(\n",
        "    estimators=[\n",
        "        ('extra_trees', extra_trees),\n",
        "        ('random_forest', random_forest),\n",
        "        ('xgboost', xgboost),\n",
        "        ('decision_tree', decision_tree),\n",
        "        ('knn', knn),\n",
        "        ('adaboost', adaboost),\n",
        "        ('mlp', mlp),\n",
        "        ('svm', svm)\n",
        "    ],\n",
        "    voting='soft'\n",
        ")\n",
        "\n",
        "# 2. Voting Classifier (Hard Voting)\n",
        "hard_voting_clf = VotingClassifier(\n",
        "    estimators=[\n",
        "        ('extra_trees', extra_trees),\n",
        "        ('random_forest', random_forest),\n",
        "        ('xgboost', xgboost),\n",
        "        ('decision_tree', decision_tree),\n",
        "        ('knn', knn),\n",
        "        ('adaboost', adaboost),\n",
        "        ('mlp', mlp),\n",
        "        ('svm', svm)\n",
        "    ],\n",
        "    voting='hard'\n",
        ")\n",
        "\n",
        "# 3. Stacking Classifier\n",
        "stacking_clf = StackingClassifier(\n",
        "    estimators=[\n",
        "        ('extra_trees', extra_trees),\n",
        "        ('random_forest', random_forest),\n",
        "        ('xgboost', xgboost),\n",
        "        ('decision_tree', decision_tree),\n",
        "        ('knn', knn),\n",
        "        ('adaboost', adaboost),\n",
        "        ('mlp', mlp),\n",
        "        ('svm', svm)\n",
        "    ],\n",
        "    final_estimator=logistic_regression\n",
        ")\n",
        "\n",
        "# 4. Bagging Classifier with Extra Trees\n",
        "bagging_extra_trees = BaggingClassifier(\n",
        "    base_estimator=extra_trees,\n",
        "    n_estimators=10,\n",
        "    random_state=42\n",
        ")\n",
        "\n",
        "# 5. Boosting with AdaBoost and Extra Trees\n",
        "adaboost_extra_trees = AdaBoostClassifier(\n",
        "    base_estimator=extra_trees,\n",
        "    n_estimators=50,\n",
        "    learning_rate=1.0,\n",
        "    random_state=42\n",
        ")\n",
        "\n",
        "# 6. Bagging with Random Forest\n",
        "bagging_random_forest = BaggingClassifier(\n",
        "    base_estimator=random_forest,\n",
        "    n_estimators=10,\n",
        "    random_state=42\n",
        ")\n",
        "\n",
        "# 7. Stacking Classifier with SVM as Meta Model\n",
        "stacking_svm_clf = StackingClassifier(\n",
        "    estimators=[\n",
        "        ('extra_trees', extra_trees),\n",
        "        ('random_forest', random_forest),\n",
        "        ('xgboost', xgboost),\n",
        "        ('decision_tree', decision_tree),\n",
        "        ('knn', knn),\n",
        "        ('adaboost', adaboost),\n",
        "        ('mlp', mlp),\n",
        "        ('svm', svm)\n",
        "    ],\n",
        "    final_estimator=svm\n",
        ")\n",
        "\n",
        "# 8. Voting Classifier Including Neural Networks\n",
        "voting_clf_with_nn = VotingClassifier(\n",
        "    estimators=[\n",
        "        ('extra_trees', extra_trees),\n",
        "        ('random_forest', random_forest),\n",
        "        ('xgboost', xgboost),\n",
        "        ('decision_tree', decision_tree),\n",
        "        ('knn', knn),\n",
        "        ('adaboost', adaboost),\n",
        "        ('cnn', cnn_wrapper),\n",
        "        ('lstm', lstm_wrapper)\n",
        "    ],\n",
        "    voting='soft'\n",
        ")\n",
        "\n",
        "# Perform cross-validation for the ensemble methods\n",
        "kf = KFold(n_splits=10, shuffle=True, random_state=42)\n",
        "\n"
      ],
      "metadata": {
        "id": "JkrclFzVFETz"
      },
      "execution_count": null,
      "outputs": []
    },
    {
      "cell_type": "code",
      "source": [
        "    \"\"\"'Soft Voting': soft_voting_clf,\n",
        "    'Hard Voting': hard_voting_clf,\n",
        "    'Stacking with LR': stacking_clf,\n",
        "    'Bagging with Extra Trees': bagging_extra_trees,\n",
        "    'Boosting with Extra Trees': adaboost_extra_trees,\n",
        "    'Bagging with RF': bagging_random_forest,\n",
        "    'Stacking with SVM': stacking_svm_clf,\n",
        "    'Voting with NN': voting_clf_with_nn\"\"\""
      ],
      "metadata": {
        "id": "ZXHCxOFWNTrJ"
      },
      "execution_count": null,
      "outputs": []
    },
    {
      "cell_type": "markdown",
      "source": [
        "## 1. Voting Classifier (Soft Voting)\n",
        "soft_voting_clf = VotingClassifier(\n",
        "    estimators=[\n",
        "        ('extra_trees', extra_trees),\n",
        "        ('random_forest', random_forest),\n",
        "        ('xgboost', xgboost),\n",
        "        ('decision_tree', decision_tree),\n",
        "        ('knn', knn),\n",
        "        ('adaboost', adaboost),\n",
        "        ('mlp', mlp),\n",
        "        ('svm', svm)\n",
        "    ],\n",
        "    voting='soft'\n",
        ")"
      ],
      "metadata": {
        "id": "isCthSwSqrN8"
      }
    },
    {
      "cell_type": "code",
      "source": [
        "results, soft_voting_clf = cross_validate_model(soft_voting_clf, X_df, y_df, kf, \"soft_voting_clf\")"
      ],
      "metadata": {
        "colab": {
          "base_uri": "https://localhost:8080/"
        },
        "id": "hRMlOfpoNFsZ",
        "outputId": "d9c83c4b-c8fb-455b-cf80-aa56f9422705"
      },
      "execution_count": null,
      "outputs": [
        {
          "output_type": "stream",
          "name": "stdout",
          "text": [
            "Model soft_voting_clf  Fold 1: Done \n",
            "********************************************************************\n",
            "Model soft_voting_clf  Fold 2: Done \n",
            "********************************************************************\n",
            "Model soft_voting_clf  Fold 3: Done \n",
            "********************************************************************\n",
            "Model soft_voting_clf  Fold 4: Done \n",
            "********************************************************************\n",
            "Model soft_voting_clf  Fold 5: Done \n",
            "********************************************************************\n",
            "Model soft_voting_clf  Fold 6: Done \n",
            "********************************************************************\n",
            "Model soft_voting_clf  Fold 7: Done \n",
            "********************************************************************\n",
            "Model soft_voting_clf  Fold 8: Done \n",
            "********************************************************************\n",
            "Model soft_voting_clf  Fold 9: Done \n",
            "********************************************************************\n",
            "Model soft_voting_clf  Fold 10: Done \n",
            "********************************************************************\n"
          ]
        }
      ]
    },
    {
      "cell_type": "code",
      "source": [
        "print_summary_statistics(results, 'soft_voting_clf')"
      ],
      "metadata": {
        "colab": {
          "base_uri": "https://localhost:8080/"
        },
        "id": "jMXW2ITUV6gI",
        "outputId": "57a2848e-d2e9-4e4a-b6c9-dd28b7d7c668"
      },
      "execution_count": null,
      "outputs": [
        {
          "output_type": "stream",
          "name": "stdout",
          "text": [
            "\n",
            "Summary Statistics for soft_voting_clf:\n",
            "Accuracy: Best = 0.96, Worst = 0.95, Mean = 0.95\n",
            "Recall: Best = 0.98, Worst = 0.97, Mean = 0.97\n",
            "Precision: Best = 0.94, Worst = 0.92, Mean = 0.93\n",
            "F1: Best = 0.96, Worst = 0.95, Mean = 0.95\n",
            "Roc_auc: Best = 0.96, Worst = 0.95, Mean = 0.95\n",
            "Inference_time: Best = 5.23, Worst = 2.85, Mean = 3.57\n",
            "Kappa: Best = 0.92, Worst = 0.89, Mean = 0.91\n",
            "Training_time: Best = 201.74, Worst = 176.10, Mean = 186.42\n",
            "********************************************************************\n"
          ]
        }
      ]
    },
    {
      "cell_type": "markdown",
      "source": [
        "# 2. Voting Classifier (Hard Voting)\n",
        "hard_voting_clf = VotingClassifier(\n",
        "    estimators=[\n",
        "        ('extra_trees', extra_trees),\n",
        "        ('random_forest', random_forest),\n",
        "        ('xgboost', xgboost),\n",
        "        ('decision_tree', decision_tree),\n",
        "        ('knn', knn),\n",
        "        ('adaboost', adaboost),\n",
        "        ('mlp', mlp),\n",
        "        ('svm', svm)\n",
        "    ],\n",
        "    voting='hard'\n",
        ")"
      ],
      "metadata": {
        "id": "IqKwdPcWqyLN"
      }
    },
    {
      "cell_type": "code",
      "source": [
        "resultsHard_voting_clf, hard_voting_clf = cross_validate_model(hard_voting_clf, X_df, y_df, kf, \"hard_voting_clf\")"
      ],
      "metadata": {
        "colab": {
          "base_uri": "https://localhost:8080/"
        },
        "id": "5-tCJaxMWDKo",
        "outputId": "e068333b-dca3-4c0a-c34c-cab1dd61f8dc"
      },
      "execution_count": null,
      "outputs": [
        {
          "output_type": "stream",
          "name": "stdout",
          "text": [
            "Model hard_voting_clf  Fold 1: Done \n",
            "********************************************************************\n",
            "Model hard_voting_clf  Fold 2: Done \n",
            "********************************************************************\n",
            "Model hard_voting_clf  Fold 3: Done \n",
            "********************************************************************\n",
            "Model hard_voting_clf  Fold 4: Done \n",
            "********************************************************************\n",
            "Model hard_voting_clf  Fold 5: Done \n",
            "********************************************************************\n",
            "Model hard_voting_clf  Fold 6: Done \n",
            "********************************************************************\n",
            "Model hard_voting_clf  Fold 7: Done \n",
            "********************************************************************\n",
            "Model hard_voting_clf  Fold 8: Done \n",
            "********************************************************************\n",
            "Model hard_voting_clf  Fold 9: Done \n",
            "********************************************************************\n",
            "Model hard_voting_clf  Fold 10: Done \n",
            "********************************************************************\n"
          ]
        }
      ]
    },
    {
      "cell_type": "code",
      "source": [
        "print_summary_statistics(resultsHard_voting_clf, 'hard_voting_clf')"
      ],
      "metadata": {
        "colab": {
          "base_uri": "https://localhost:8080/"
        },
        "id": "AP_0KaipWLTO",
        "outputId": "b6dc83e8-aca0-428d-ef74-0c06ea4e0ced"
      },
      "execution_count": null,
      "outputs": [
        {
          "output_type": "stream",
          "name": "stdout",
          "text": [
            "\n",
            "Summary Statistics for hard_voting_clf:\n",
            "Accuracy: Best = 0.96, Worst = 0.94, Mean = 0.95\n",
            "Recall: Best = 0.98, Worst = 0.97, Mean = 0.97\n",
            "Precision: Best = 0.94, Worst = 0.92, Mean = 0.93\n",
            "F1: Best = 0.96, Worst = 0.95, Mean = 0.95\n",
            "Roc_auc: Best = 0.96, Worst = 0.94, Mean = 0.95\n",
            "Inference_time: Best = 5.01, Worst = 2.96, Mean = 3.70\n",
            "Kappa: Best = 0.92, Worst = 0.89, Mean = 0.90\n",
            "Training_time: Best = 212.17, Worst = 173.90, Mean = 191.88\n",
            "********************************************************************\n"
          ]
        }
      ]
    },
    {
      "cell_type": "markdown",
      "source": [
        "## 3. Stacking Classifier\n",
        "stacking_clf = StackingClassifier(\n",
        "    estimators=[\n",
        "        ('extra_trees', extra_trees),\n",
        "        ('random_forest', random_forest),\n",
        "        ('xgboost', xgboost),\n",
        "        ('decision_tree', decision_tree),\n",
        "        ('knn', knn),\n",
        "        ('adaboost', adaboost),\n",
        "        ('mlp', mlp),\n",
        "        ('svm', svm)\n",
        "    ],\n",
        "    final_estimator=logistic_regression\n",
        ")"
      ],
      "metadata": {
        "id": "F6RKnk2yq3PL"
      }
    },
    {
      "cell_type": "code",
      "source": [
        "resultsHard_voting_clf, hard_voting_clf = cross_validate_model(hard_voting_clf, X_df, y_df, kf, \"stacking_clf\")"
      ],
      "metadata": {
        "colab": {
          "base_uri": "https://localhost:8080/"
        },
        "id": "Rmd2AQiLeHU4",
        "outputId": "49339e57-7fc8-4ab3-d8f7-123e646d25f2"
      },
      "execution_count": null,
      "outputs": [
        {
          "output_type": "stream",
          "name": "stdout",
          "text": [
            "Model stacking_clf  Fold 1: Done \n",
            "********************************************************************\n",
            "Model stacking_clf  Fold 2: Done \n",
            "********************************************************************\n",
            "Model stacking_clf  Fold 3: Done \n",
            "********************************************************************\n",
            "Model stacking_clf  Fold 4: Done \n",
            "********************************************************************\n",
            "Model stacking_clf  Fold 5: Done \n",
            "********************************************************************\n",
            "Model stacking_clf  Fold 6: Done \n",
            "********************************************************************\n",
            "Model stacking_clf  Fold 7: Done \n",
            "********************************************************************\n",
            "Model stacking_clf  Fold 8: Done \n",
            "********************************************************************\n",
            "Model stacking_clf  Fold 9: Done \n",
            "********************************************************************\n",
            "Model stacking_clf  Fold 10: Done \n",
            "********************************************************************\n"
          ]
        }
      ]
    },
    {
      "cell_type": "code",
      "source": [
        "print_summary_statistics(resultsHard_voting_clf, 'stacking_clf')"
      ],
      "metadata": {
        "colab": {
          "base_uri": "https://localhost:8080/"
        },
        "id": "Uqo9UDFBeInr",
        "outputId": "4f343d90-9b1a-4f6c-f38b-d4dd86eb3449"
      },
      "execution_count": null,
      "outputs": [
        {
          "output_type": "stream",
          "name": "stdout",
          "text": [
            "\n",
            "Summary Statistics for stacking_clf:\n",
            "Accuracy: Best = 0.96, Worst = 0.94, Mean = 0.95\n",
            "Recall: Best = 0.98, Worst = 0.96, Mean = 0.97\n",
            "Precision: Best = 0.94, Worst = 0.92, Mean = 0.93\n",
            "F1: Best = 0.96, Worst = 0.95, Mean = 0.95\n",
            "Roc_auc: Best = 0.96, Worst = 0.94, Mean = 0.95\n",
            "Inference_time: Best = 4.18, Worst = 3.00, Mean = 3.24\n",
            "Kappa: Best = 0.92, Worst = 0.89, Mean = 0.90\n",
            "Training_time: Best = 203.69, Worst = 184.09, Mean = 192.39\n",
            "********************************************************************\n"
          ]
        }
      ]
    },
    {
      "cell_type": "markdown",
      "source": [
        "# 4. Bagging Classifier with Extra Trees\n",
        "bagging_extra_trees = BaggingClassifier(\n",
        "    base_estimator=extra_trees,\n",
        "    n_estimators=10,\n",
        "    random_state=42\n",
        ")"
      ],
      "metadata": {
        "id": "OvIFPJ1nrFLS"
      }
    },
    {
      "cell_type": "code",
      "source": [
        "resultsbagging_extra_trees, bagging_extra_trees = cross_validate_model(bagging_extra_trees, X_df, y_df, kf, \"bagging_extra_trees\")"
      ],
      "metadata": {
        "colab": {
          "base_uri": "https://localhost:8080/"
        },
        "id": "VCrmZCtrlt-X",
        "outputId": "6a1a177d-d368-4bbc-e1bf-404f003a0f2a"
      },
      "execution_count": null,
      "outputs": [
        {
          "output_type": "stream",
          "name": "stdout",
          "text": [
            "Model bagging_extra_trees  Fold 1: Done \n",
            "********************************************************************\n",
            "Model bagging_extra_trees  Fold 2: Done \n",
            "********************************************************************\n",
            "Model bagging_extra_trees  Fold 3: Done \n",
            "********************************************************************\n",
            "Model bagging_extra_trees  Fold 4: Done \n",
            "********************************************************************\n",
            "Model bagging_extra_trees  Fold 5: Done \n",
            "********************************************************************\n",
            "Model bagging_extra_trees  Fold 6: Done \n",
            "********************************************************************\n",
            "Model bagging_extra_trees  Fold 7: Done \n",
            "********************************************************************\n",
            "Model bagging_extra_trees  Fold 8: Done \n",
            "********************************************************************\n",
            "Model bagging_extra_trees  Fold 9: Done \n",
            "********************************************************************\n",
            "Model bagging_extra_trees  Fold 10: Done \n",
            "********************************************************************\n"
          ]
        }
      ]
    },
    {
      "cell_type": "code",
      "source": [
        "print_summary_statistics(resultsbagging_extra_trees, 'bagging_extra_trees')"
      ],
      "metadata": {
        "colab": {
          "base_uri": "https://localhost:8080/"
        },
        "id": "ciVYb48MoHSP",
        "outputId": "01eee45a-eac1-41bf-e188-20ecb94c8e5a"
      },
      "execution_count": null,
      "outputs": [
        {
          "output_type": "stream",
          "name": "stdout",
          "text": [
            "\n",
            "Summary Statistics for bagging_extra_trees:\n",
            "Accuracy: Best = 0.95, Worst = 0.94, Mean = 0.95\n",
            "Recall: Best = 0.98, Worst = 0.96, Mean = 0.97\n",
            "Precision: Best = 0.94, Worst = 0.92, Mean = 0.93\n",
            "F1: Best = 0.95, Worst = 0.94, Mean = 0.95\n",
            "Roc_auc: Best = 0.95, Worst = 0.94, Mean = 0.95\n",
            "Inference_time: Best = 1.87, Worst = 1.50, Mean = 1.60\n",
            "Kappa: Best = 0.91, Worst = 0.89, Mean = 0.90\n",
            "Training_time: Best = 48.08, Worst = 37.16, Mean = 39.09\n",
            "********************************************************************\n"
          ]
        }
      ]
    },
    {
      "cell_type": "markdown",
      "source": [
        "# 5. Boosting with AdaBoost and Extra Trees\n",
        "adaboost_extra_trees = AdaBoostClassifier(\n",
        "    base_estimator=extra_trees,\n",
        "    n_estimators=50,\n",
        "    learning_rate=1.0,\n",
        "    random_state=42\n",
        ")"
      ],
      "metadata": {
        "id": "AJvlhfSRrIQc"
      }
    },
    {
      "cell_type": "code",
      "source": [
        "resultsAdaboost_extra_trees, adaboost_extra_trees = cross_validate_model(adaboost_extra_trees, X_df, y_df, kf, \"adaboost_extra_trees\")"
      ],
      "metadata": {
        "colab": {
          "base_uri": "https://localhost:8080/"
        },
        "id": "U-_y7r_GoMwG",
        "outputId": "6b77e508-789a-49fc-e692-c0f6fbc94bd0"
      },
      "execution_count": null,
      "outputs": [
        {
          "output_type": "stream",
          "name": "stdout",
          "text": [
            "Model adaboost_extra_trees  Fold 1: Done \n",
            "********************************************************************\n",
            "Model adaboost_extra_trees  Fold 2: Done \n",
            "********************************************************************\n",
            "Model adaboost_extra_trees  Fold 3: Done \n",
            "********************************************************************\n",
            "Model adaboost_extra_trees  Fold 4: Done \n",
            "********************************************************************\n",
            "Model adaboost_extra_trees  Fold 5: Done \n",
            "********************************************************************\n",
            "Model adaboost_extra_trees  Fold 6: Done \n",
            "********************************************************************\n",
            "Model adaboost_extra_trees  Fold 7: Done \n",
            "********************************************************************\n",
            "Model adaboost_extra_trees  Fold 8: Done \n",
            "********************************************************************\n",
            "Model adaboost_extra_trees  Fold 9: Done \n",
            "********************************************************************\n",
            "Model adaboost_extra_trees  Fold 10: Done \n",
            "********************************************************************\n"
          ]
        }
      ]
    },
    {
      "cell_type": "code",
      "source": [
        "print_summary_statistics(resultsAdaboost_extra_trees, 'adaboost_extra_trees')"
      ],
      "metadata": {
        "colab": {
          "base_uri": "https://localhost:8080/"
        },
        "id": "q-um6UKooPuk",
        "outputId": "e2872840-1a54-41e3-a937-6741f31be392"
      },
      "execution_count": null,
      "outputs": [
        {
          "output_type": "stream",
          "name": "stdout",
          "text": [
            "\n",
            "Summary Statistics for adaboost_extra_trees:\n",
            "Accuracy: Best = 0.96, Worst = 0.95, Mean = 0.95\n",
            "Recall: Best = 0.98, Worst = 0.96, Mean = 0.97\n",
            "Precision: Best = 0.95, Worst = 0.93, Mean = 0.94\n",
            "F1: Best = 0.96, Worst = 0.95, Mean = 0.95\n",
            "Roc_auc: Best = 0.96, Worst = 0.95, Mean = 0.95\n",
            "Inference_time: Best = 10.08, Worst = 7.46, Mean = 8.15\n",
            "Kappa: Best = 0.92, Worst = 0.90, Mean = 0.91\n",
            "Training_time: Best = 392.51, Worst = 294.28, Mean = 320.74\n",
            "********************************************************************\n"
          ]
        }
      ]
    },
    {
      "cell_type": "markdown",
      "source": [
        "# 6. Bagging with Random Forest\n",
        "bagging_random_forest = BaggingClassifier(\n",
        "    base_estimator=random_forest,\n",
        "    n_estimators=10,\n",
        "    random_state=42\n",
        ")"
      ],
      "metadata": {
        "id": "dZUfqZ0mrNUb"
      }
    },
    {
      "cell_type": "code",
      "source": [
        "resultsBagging_random_forest, bagging_random_forest = cross_validate_model(bagging_random_forest, X_df, y_df, kf, \"bagging_random_forest\")"
      ],
      "metadata": {
        "colab": {
          "base_uri": "https://localhost:8080/"
        },
        "id": "yAhUDW5LoYIs",
        "outputId": "2a8873d3-c07d-444c-d33a-42df5a598b06"
      },
      "execution_count": null,
      "outputs": [
        {
          "output_type": "stream",
          "name": "stdout",
          "text": [
            "Model bagging_random_forest  Fold 1: Done \n",
            "********************************************************************\n",
            "Model bagging_random_forest  Fold 2: Done \n",
            "********************************************************************\n",
            "Model bagging_random_forest  Fold 3: Done \n",
            "********************************************************************\n",
            "Model bagging_random_forest  Fold 4: Done \n",
            "********************************************************************\n",
            "Model bagging_random_forest  Fold 5: Done \n",
            "********************************************************************\n",
            "Model bagging_random_forest  Fold 6: Done \n",
            "********************************************************************\n",
            "Model bagging_random_forest  Fold 7: Done \n",
            "********************************************************************\n",
            "Model bagging_random_forest  Fold 8: Done \n",
            "********************************************************************\n",
            "Model bagging_random_forest  Fold 9: Done \n",
            "********************************************************************\n",
            "Model bagging_random_forest  Fold 10: Done \n",
            "********************************************************************\n"
          ]
        }
      ]
    },
    {
      "cell_type": "code",
      "source": [
        "print_summary_statistics(resultsBagging_random_forest, 'bagging_random_forest')"
      ],
      "metadata": {
        "colab": {
          "base_uri": "https://localhost:8080/"
        },
        "id": "w3ivX_oroicV",
        "outputId": "c4b95e1c-f935-445b-bdee-a1272dbe30db"
      },
      "execution_count": null,
      "outputs": [
        {
          "output_type": "stream",
          "name": "stdout",
          "text": [
            "\n",
            "Summary Statistics for bagging_random_forest:\n",
            "Accuracy: Best = 0.95, Worst = 0.94, Mean = 0.95\n",
            "Recall: Best = 0.98, Worst = 0.96, Mean = 0.97\n",
            "Precision: Best = 0.94, Worst = 0.92, Mean = 0.93\n",
            "F1: Best = 0.95, Worst = 0.94, Mean = 0.95\n",
            "Roc_auc: Best = 0.95, Worst = 0.94, Mean = 0.95\n",
            "Inference_time: Best = 1.81, Worst = 1.52, Mean = 1.60\n",
            "Kappa: Best = 0.91, Worst = 0.89, Mean = 0.90\n",
            "Training_time: Best = 41.16, Worst = 36.44, Mean = 38.08\n",
            "********************************************************************\n"
          ]
        }
      ]
    },
    {
      "cell_type": "markdown",
      "source": [
        "#RF && XGB"
      ],
      "metadata": {
        "id": "kXtSvnOg8bip"
      }
    },
    {
      "cell_type": "code",
      "source": [
        "\n",
        "rf_model = RF\n",
        "xgb_model = XGB\n",
        "\n",
        "# ایجاد Voting Classifier\n",
        "voting_clfRFXGB = VotingClassifier(\n",
        "    estimators=[\n",
        "        ('rf', rf_model),\n",
        "        ('xgb', xgb_model)\n",
        "    ],\n",
        "    voting='soft'  # استفاده از رأی‌گیری نرم\n",
        ")\n"
      ],
      "metadata": {
        "id": "5VylmDEc8ehQ"
      },
      "execution_count": null,
      "outputs": []
    },
    {
      "cell_type": "code",
      "source": [
        "resultsVoting_clf, voting_clfRFXGB = cross_validate_model(voting_clfRFXGB, X_df, y_df, kf, \"voting_clf\")"
      ],
      "metadata": {
        "colab": {
          "base_uri": "https://localhost:8080/"
        },
        "id": "Xb8Ibo179aAq",
        "outputId": "2e4c047a-265f-4600-b9f9-35e945cce1ac"
      },
      "execution_count": null,
      "outputs": [
        {
          "output_type": "stream",
          "name": "stdout",
          "text": [
            "Model voting_clf  Fold 1: Done \n",
            "********************************************************************\n",
            "Model voting_clf  Fold 2: Done \n",
            "********************************************************************\n",
            "Model voting_clf  Fold 3: Done \n",
            "********************************************************************\n",
            "Model voting_clf  Fold 4: Done \n",
            "********************************************************************\n",
            "Model voting_clf  Fold 5: Done \n",
            "********************************************************************\n",
            "Model voting_clf  Fold 6: Done \n",
            "********************************************************************\n",
            "Model voting_clf  Fold 7: Done \n",
            "********************************************************************\n",
            "Model voting_clf  Fold 8: Done \n",
            "********************************************************************\n",
            "Model voting_clf  Fold 9: Done \n",
            "********************************************************************\n",
            "Model voting_clf  Fold 10: Done \n",
            "********************************************************************\n"
          ]
        }
      ]
    },
    {
      "cell_type": "code",
      "source": [
        "print_summary_statistics(resultsVoting_clf, 'RF && XGB')"
      ],
      "metadata": {
        "colab": {
          "base_uri": "https://localhost:8080/"
        },
        "id": "CSKQwTia9zWn",
        "outputId": "b2242185-7ee9-4130-fa10-ab5b9496b85e"
      },
      "execution_count": null,
      "outputs": [
        {
          "output_type": "stream",
          "name": "stdout",
          "text": [
            "\n",
            "Summary Statistics for RF && XGB:\n",
            "Accuracy: Best = 0.97, Worst = 0.96, Mean = 0.96\n",
            "Recall: Best = 0.98, Worst = 0.97, Mean = 0.98\n",
            "Precision: Best = 0.95, Worst = 0.94, Mean = 0.95\n",
            "F1: Best = 0.97, Worst = 0.96, Mean = 0.96\n",
            "Roc_auc: Best = 0.97, Worst = 0.96, Mean = 0.96\n",
            "Inference_time: Best = 0.20, Worst = 0.19, Mean = 0.19\n",
            "Kappa: Best = 0.93, Worst = 0.91, Mean = 0.92\n",
            "Training_time: Best = 10.00, Worst = 6.34, Mean = 7.62\n",
            "********************************************************************\n"
          ]
        }
      ]
    },
    {
      "cell_type": "code",
      "source": [
        "print_summary_statistics(test_model(voting_clfRFXGB, X_testModel, y_testModel ), 'RF && XGB')"
      ],
      "metadata": {
        "colab": {
          "base_uri": "https://localhost:8080/"
        },
        "id": "ih-e7zgm9Dxg",
        "outputId": "fc69a779-5d7d-4e1c-fccc-58680400bfa4"
      },
      "execution_count": null,
      "outputs": [
        {
          "output_type": "stream",
          "name": "stdout",
          "text": [
            "\n",
            "Summary Statistics for RF && XGB:\n",
            "Accuracy: Best = 0.96, Worst = 0.96, Mean = 0.96\n",
            "Recall: Best = 0.97, Worst = 0.97, Mean = 0.97\n",
            "Precision: Best = 0.95, Worst = 0.95, Mean = 0.95\n",
            "F1: Best = 0.96, Worst = 0.96, Mean = 0.96\n",
            "Roc_auc: Best = 0.96, Worst = 0.96, Mean = 0.96\n",
            "Inference_time: Best = 0.44, Worst = 0.44, Mean = 0.44\n",
            "Kappa: Best = 0.93, Worst = 0.93, Mean = 0.93\n",
            "********************************************************************\n"
          ]
        }
      ]
    },
    {
      "cell_type": "markdown",
      "source": [
        "#RF&&XGB&&LR"
      ],
      "metadata": {
        "id": "KP_rNWXm-PWX"
      }
    },
    {
      "cell_type": "code",
      "source": [
        "lr_model = LR"
      ],
      "metadata": {
        "id": "r2YZeCjP-oz8"
      },
      "execution_count": null,
      "outputs": []
    },
    {
      "cell_type": "code",
      "source": [
        "voting_clfRXL = VotingClassifier(\n",
        "    estimators=[\n",
        "        ('rf', rf_model),\n",
        "        ('xgb', xgb_model),\n",
        "        ('lr', lr_model)\n",
        "    ],\n",
        "    voting='soft'\n",
        ")"
      ],
      "metadata": {
        "id": "7OcHC4uX-Td4"
      },
      "execution_count": null,
      "outputs": []
    },
    {
      "cell_type": "code",
      "source": [
        "resultsVoting_RXL, voting_clfRXL = cross_validate_model(voting_clfRXL, X_df, y_df, kf, \"RF&&XGB&&LR\")"
      ],
      "metadata": {
        "colab": {
          "base_uri": "https://localhost:8080/"
        },
        "id": "jlnrCYI_-aXf",
        "outputId": "38a7e678-09a5-4dc8-afc8-257909ce8ecb"
      },
      "execution_count": null,
      "outputs": [
        {
          "output_type": "stream",
          "name": "stdout",
          "text": [
            "Model RF&&XGB&&LR  Fold 1: Done \n",
            "********************************************************************\n",
            "Model RF&&XGB&&LR  Fold 2: Done \n",
            "********************************************************************\n",
            "Model RF&&XGB&&LR  Fold 3: Done \n",
            "********************************************************************\n",
            "Model RF&&XGB&&LR  Fold 4: Done \n",
            "********************************************************************\n",
            "Model RF&&XGB&&LR  Fold 5: Done \n",
            "********************************************************************\n",
            "Model RF&&XGB&&LR  Fold 6: Done \n",
            "********************************************************************\n",
            "Model RF&&XGB&&LR  Fold 7: Done \n",
            "********************************************************************\n",
            "Model RF&&XGB&&LR  Fold 8: Done \n",
            "********************************************************************\n",
            "Model RF&&XGB&&LR  Fold 9: Done \n",
            "********************************************************************\n",
            "Model RF&&XGB&&LR  Fold 10: Done \n",
            "********************************************************************\n"
          ]
        }
      ]
    },
    {
      "cell_type": "code",
      "source": [
        "print_summary_statistics(resultsVoting_RXL, 'RF&&XGB&&LR')"
      ],
      "metadata": {
        "colab": {
          "base_uri": "https://localhost:8080/"
        },
        "id": "CEREi8Ii-xTu",
        "outputId": "839c9d2b-87bf-43ef-d52f-dafdb7c4ca08"
      },
      "execution_count": null,
      "outputs": [
        {
          "output_type": "stream",
          "name": "stdout",
          "text": [
            "\n",
            "Summary Statistics for RF&&XGB&&LR:\n",
            "Accuracy: Best = 0.96, Worst = 0.96, Mean = 0.96\n",
            "Recall: Best = 0.98, Worst = 0.97, Mean = 0.98\n",
            "Precision: Best = 0.95, Worst = 0.93, Mean = 0.94\n",
            "F1: Best = 0.96, Worst = 0.96, Mean = 0.96\n",
            "Roc_auc: Best = 0.96, Worst = 0.95, Mean = 0.96\n",
            "Inference_time: Best = 0.25, Worst = 0.18, Mean = 0.20\n",
            "Kappa: Best = 0.93, Worst = 0.91, Mean = 0.92\n",
            "Training_time: Best = 11.17, Worst = 7.02, Mean = 9.16\n",
            "********************************************************************\n"
          ]
        }
      ]
    },
    {
      "cell_type": "code",
      "source": [
        "print_summary_statistics(test_model(voting_clfRXL, X_testModel, y_testModel ), 'RF&&XGB&&LR')"
      ],
      "metadata": {
        "colab": {
          "base_uri": "https://localhost:8080/"
        },
        "id": "ufm4CFL__epx",
        "outputId": "be55e978-6f51-480b-b6ef-120c1adeb2d8"
      },
      "execution_count": null,
      "outputs": [
        {
          "output_type": "stream",
          "name": "stdout",
          "text": [
            "\n",
            "Summary Statistics for RF&&XGB&&LR:\n",
            "Accuracy: Best = 0.96, Worst = 0.96, Mean = 0.96\n",
            "Recall: Best = 0.97, Worst = 0.97, Mean = 0.97\n",
            "Precision: Best = 0.95, Worst = 0.95, Mean = 0.95\n",
            "F1: Best = 0.96, Worst = 0.96, Mean = 0.96\n",
            "Roc_auc: Best = 0.96, Worst = 0.96, Mean = 0.96\n",
            "Inference_time: Best = 0.54, Worst = 0.54, Mean = 0.54\n",
            "Kappa: Best = 0.92, Worst = 0.92, Mean = 0.92\n",
            "********************************************************************\n"
          ]
        }
      ]
    },
    {
      "cell_type": "markdown",
      "source": [
        "#RF && EXTRA"
      ],
      "metadata": {
        "id": "SfEx244oMcIo"
      }
    },
    {
      "cell_type": "code",
      "source": [
        "rf_model = RF\n",
        "et_model = ExtraTrees"
      ],
      "metadata": {
        "id": "_HcwnHAfMjUn"
      },
      "execution_count": null,
      "outputs": []
    },
    {
      "cell_type": "code",
      "source": [
        "voting_clfRFE = VotingClassifier(\n",
        "    estimators=[\n",
        "        ('rf', rf_model),\n",
        "        ('et', et_model)\n",
        "    ],\n",
        "    voting='soft'\n",
        ")\n"
      ],
      "metadata": {
        "id": "tcMhEN1ZMeI4"
      },
      "execution_count": null,
      "outputs": []
    },
    {
      "cell_type": "code",
      "source": [
        "resultsVoting_RFE, voting_clfRFE = cross_validate_model(voting_clfRFE, X_df, y_df, kf, \"RF && EXTRA\")"
      ],
      "metadata": {
        "colab": {
          "base_uri": "https://localhost:8080/"
        },
        "id": "c-8X5sVfM-C_",
        "outputId": "feed7101-3f07-443c-97cf-199585ab9749"
      },
      "execution_count": null,
      "outputs": [
        {
          "output_type": "stream",
          "name": "stdout",
          "text": [
            "Model RF && EXTRA  Fold 1: Done \n",
            "********************************************************************\n",
            "Model RF && EXTRA  Fold 2: Done \n",
            "********************************************************************\n",
            "Model RF && EXTRA  Fold 3: Done \n",
            "********************************************************************\n",
            "Model RF && EXTRA  Fold 4: Done \n",
            "********************************************************************\n",
            "Model RF && EXTRA  Fold 5: Done \n",
            "********************************************************************\n",
            "Model RF && EXTRA  Fold 6: Done \n",
            "********************************************************************\n",
            "Model RF && EXTRA  Fold 7: Done \n",
            "********************************************************************\n",
            "Model RF && EXTRA  Fold 8: Done \n",
            "********************************************************************\n",
            "Model RF && EXTRA  Fold 9: Done \n",
            "********************************************************************\n",
            "Model RF && EXTRA  Fold 10: Done \n",
            "********************************************************************\n"
          ]
        }
      ]
    },
    {
      "cell_type": "code",
      "source": [
        "print_summary_statistics(resultsVoting_RFE, 'RF && EXTRA')"
      ],
      "metadata": {
        "colab": {
          "base_uri": "https://localhost:8080/"
        },
        "id": "a-PwMKK7Nkzu",
        "outputId": "b196ff0d-1ad6-49ba-bc32-2110b088dc3b"
      },
      "execution_count": null,
      "outputs": [
        {
          "output_type": "stream",
          "name": "stdout",
          "text": [
            "\n",
            "Summary Statistics for RF && EXTRA:\n",
            "Accuracy: Best = 0.96, Worst = 0.95, Mean = 0.95\n",
            "Recall: Best = 0.98, Worst = 0.96, Mean = 0.97\n",
            "Precision: Best = 0.95, Worst = 0.93, Mean = 0.94\n",
            "F1: Best = 0.96, Worst = 0.95, Mean = 0.95\n",
            "Roc_auc: Best = 0.96, Worst = 0.95, Mean = 0.95\n",
            "Inference_time: Best = 0.40, Worst = 0.32, Mean = 0.34\n",
            "Kappa: Best = 0.92, Worst = 0.90, Mean = 0.91\n",
            "Training_time: Best = 10.82, Worst = 9.11, Mean = 10.26\n",
            "********************************************************************\n"
          ]
        }
      ]
    }
  ],
  "metadata": {
    "colab": {
      "collapsed_sections": [
        "BLvgIhDnCd4I",
        "0l4o7Ec9CMhQ",
        "lKZvvF8DCTjK",
        "4PMLJfkuLjgJ",
        "eROThtE1Y14b",
        "K_qnB4pZI4Jw",
        "w0qx024nI7o4",
        "tzw0hPiKI9ww",
        "8vScdaUfJAZ_",
        "CrDEtp9nJEEB",
        "Md_6kLE9JILw",
        "C6hyAJmXJKcY",
        "NU-J2IRNJMUo",
        "UCpYSFCXJOnp",
        "7_161zDAJRHQ",
        "90uNIQ6_FBlK",
        "isCthSwSqrN8",
        "IqKwdPcWqyLN",
        "F6RKnk2yq3PL",
        "OvIFPJ1nrFLS",
        "AJvlhfSRrIQc",
        "dZUfqZ0mrNUb",
        "kXtSvnOg8bip",
        "KP_rNWXm-PWX"
      ],
      "provenance": [],
      "authorship_tag": "ABX9TyOtaezI/0n15KdzsCzSRY3J",
      "include_colab_link": true
    },
    "kernelspec": {
      "display_name": "Python 3",
      "name": "python3"
    },
    "language_info": {
      "name": "python"
    }
  },
  "nbformat": 4,
  "nbformat_minor": 0
}