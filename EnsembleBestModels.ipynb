{
  "cells": [
    {
      "cell_type": "markdown",
      "metadata": {
        "id": "view-in-github",
        "colab_type": "text"
      },
      "source": [
        "<a href=\"https://colab.research.google.com/github/samanehPahlavani/MscFraudDetection/blob/main/EnsembleBestModels.ipynb\" target=\"_parent\"><img src=\"https://colab.research.google.com/assets/colab-badge.svg\" alt=\"Open In Colab\"/></a>"
      ]
    },
    {
      "cell_type": "markdown",
      "metadata": {
        "id": "BLvgIhDnCd4I"
      },
      "source": [
        "# Connect Google Drive For Dataset"
      ]
    },
    {
      "cell_type": "code",
      "execution_count": 1,
      "metadata": {
        "id": "LCkW6pZbNWtJ",
        "colab": {
          "base_uri": "https://localhost:8080/"
        },
        "outputId": "cac62eb6-e392-40ca-bc05-ff4174358aaf"
      },
      "outputs": [
        {
          "output_type": "stream",
          "name": "stdout",
          "text": [
            "Mounted at /content/drive\n"
          ]
        }
      ],
      "source": [
        "from google.colab import drive\n",
        "drive.mount('/content/drive')"
      ]
    },
    {
      "cell_type": "markdown",
      "metadata": {
        "id": "0l4o7Ec9CMhQ"
      },
      "source": [
        "# Librarries"
      ]
    },
    {
      "cell_type": "code",
      "execution_count": 10,
      "metadata": {
        "id": "g38JUFNsNffx"
      },
      "outputs": [],
      "source": [
        "####Libraries Import\n",
        "import numpy as np\n",
        "import pandas as pd\n",
        "import matplotlib.pyplot as plt\n",
        "import seaborn as sns\n",
        "import warnings\n",
        "warnings.filterwarnings('ignore')\n",
        "import os\n",
        "\n",
        "%matplotlib inline\n",
        "import sklearn\n",
        "\n",
        "from sklearn.preprocessing import MinMaxScaler\n",
        "from sklearn.preprocessing import StandardScaler\n",
        "from sklearn.model_selection import train_test_split\n",
        "from imblearn.over_sampling import SMOTE\n",
        "from imblearn.under_sampling import RandomUnderSampler\n",
        "from imblearn.over_sampling import RandomOverSampler\n"
      ]
    },
    {
      "cell_type": "code",
      "execution_count": 11,
      "metadata": {
        "id": "EebzlEOoPIQn"
      },
      "outputs": [],
      "source": [
        "import tensorflow as tf\n",
        "from tensorflow.keras.models import Sequential\n",
        "from tensorflow.keras.layers import Conv1D, MaxPooling1D, Flatten, Dense, Dropout\n",
        "from sklearn.model_selection import train_test_split\n",
        "from sklearn.preprocessing import StandardScaler\n",
        "from sklearn.preprocessing import LabelEncoder\n",
        "from sklearn.model_selection import train_test_split\n",
        "from sklearn.metrics import accuracy_score, precision_score, recall_score, f1_score, confusion_matrix\n",
        "from sklearn.model_selection import StratifiedKFold"
      ]
    },
    {
      "cell_type": "code",
      "execution_count": 12,
      "metadata": {
        "id": "7cvVXdoHMgCq"
      },
      "outputs": [],
      "source": [
        "from sklearn.linear_model import LogisticRegression # for Logistic Regression Algorithm\n",
        "from sklearn.svm import SVC\n",
        "from sklearn.ensemble import RandomForestClassifier"
      ]
    },
    {
      "cell_type": "code",
      "execution_count": 13,
      "metadata": {
        "id": "GY3_rgI6YLiJ"
      },
      "outputs": [],
      "source": [
        "from sklearn.tree import DecisionTreeClassifier\n",
        "from xgboost import XGBClassifier\n",
        "from sklearn.svm import SVR"
      ]
    },
    {
      "cell_type": "code",
      "execution_count": 14,
      "metadata": {
        "id": "JBCJ9U8eMjtp"
      },
      "outputs": [],
      "source": [
        "from sklearn import metrics # for checking the model accuracy"
      ]
    },
    {
      "cell_type": "code",
      "execution_count": 15,
      "metadata": {
        "id": "k2wy9jCTOLbb"
      },
      "outputs": [],
      "source": [
        "from sklearn.model_selection import cross_val_score"
      ]
    },
    {
      "cell_type": "code",
      "execution_count": 16,
      "metadata": {
        "id": "g56ZnvPVUER-",
        "colab": {
          "base_uri": "https://localhost:8080/"
        },
        "outputId": "b6620e7c-7b2e-4351-e465-e5fdfd0350ec"
      },
      "outputs": [
        {
          "output_type": "stream",
          "name": "stdout",
          "text": [
            "Requirement already satisfied: pandas_ml in /usr/local/lib/python3.10/dist-packages (0.6.1)\n",
            "Requirement already satisfied: pandas>=0.19.0 in /usr/local/lib/python3.10/dist-packages (from pandas_ml) (1.5.3)\n",
            "Requirement already satisfied: enum34 in /usr/local/lib/python3.10/dist-packages (from pandas_ml) (1.1.10)\n",
            "Requirement already satisfied: python-dateutil>=2.8.1 in /usr/local/lib/python3.10/dist-packages (from pandas>=0.19.0->pandas_ml) (2.8.2)\n",
            "Requirement already satisfied: pytz>=2020.1 in /usr/local/lib/python3.10/dist-packages (from pandas>=0.19.0->pandas_ml) (2023.4)\n",
            "Requirement already satisfied: numpy>=1.21.0 in /usr/local/lib/python3.10/dist-packages (from pandas>=0.19.0->pandas_ml) (1.25.2)\n",
            "Requirement already satisfied: six>=1.5 in /usr/local/lib/python3.10/dist-packages (from python-dateutil>=2.8.1->pandas>=0.19.0->pandas_ml) (1.16.0)\n"
          ]
        }
      ],
      "source": [
        "!pip install pandas_ml"
      ]
    },
    {
      "cell_type": "code",
      "execution_count": 17,
      "metadata": {
        "id": "jWDU5PrOZQaG"
      },
      "outputs": [],
      "source": [
        "# Import the necessary libraries\n",
        "from sklearn.neural_network import MLPClassifier\n",
        "from sklearn.naive_bayes import GaussianNB\n"
      ]
    },
    {
      "cell_type": "markdown",
      "metadata": {
        "id": "lKZvvF8DCTjK"
      },
      "source": [
        "# Functions Def"
      ]
    },
    {
      "cell_type": "code",
      "execution_count": 18,
      "metadata": {
        "id": "Yc0vpXMON1HI"
      },
      "outputs": [],
      "source": [
        "def LoadData(data):\n",
        "  warnings.filterwarnings('ignore')\n",
        "  pd.options.display.max_columns = None\n",
        "  pd.options.display.max_rows = None\n",
        "  df = pd.read_csv(os.path.join(\"/content/drive/MyDrive/EtherFirstDataSet/\", data+\".csv\"))\n",
        "  return df\n",
        "#Load datas\n",
        "def preprocessing():\n",
        "\n",
        "  df1 = LoadData(str(1))\n",
        "  df2 = LoadData(str(2))\n",
        "\n",
        "  df1_fillna = df1.copy()\n",
        "  df2_fillna = df2.copy()\n",
        "\n",
        "  #Drop Most None Related Value Features\n",
        "  df1_fillna.drop([\"ERC20_uniq_rec_token_name\",\"ERC20_uniq_sent_token_name\",\"ERC20_avg_val_sent\",\"ERC20_max_val_sent\",\"ERC20_min_val_sent\",\"ERC20_avg_val_rec\",\"ERC20_max_val_rec\",\"ERC20_min_val_rec\",\"ERC20_uniq_rec_contract_addr\",\"ERC20_uniq_sent_addr_1\",\"ERC20_uniq_sent_addr\",\"ERC20_total_Ether_sent_contract\",\"ERC20_total_ether_sent\",\"ERC20_total_Ether_received\",\"ERC20_most_rec_token_type\",\"ERC20_most_sent_token_type\"], axis=1, inplace=True)\n",
        "  df1_fillna.drop([\"ERC20_uniq_rec_addr\",\"Total_ERC20_tnxs\",\"Time_Diff_between_first_and_last_Mins\",\"total_ether_sent_contracts\"], axis=1, inplace=True)\n",
        "  df2_fillna.drop([\"minTimeBetweenSentTnx\",\"maxTimeBetweenSentTnx\",\"minTimeBetweenRecTnx\",\"maxTimeBetweenRecTnx\",\"lifetime\",\"activityDays\",\"dailyMax\",\"ratioRecSent\",\"ratioSentTotal\",\"ratioRecTotal\",\"giniSent\",\"giniRec\",\"txFreq\",\"stdBalanceEth\"], axis=1, inplace=True)\n",
        "\n",
        "  #Rename Columns\n",
        "  selected_columns = [\"address\",\"flag\",\"avgTimeBetweenRecTnx\",\"avgTimeBetweenSentTnx\",\"sentTransactions\" ,\"receivedTransactions\", \"createdContracts\" ,\"Average_of_numUniqRecAddress\" ,\"Average_of_numUniqSentAddress\"\n",
        "  ,\"minValReceived\"\n",
        "  ,\"maxValReceived\"\n",
        "  ,\"avgValReceived\"\n",
        "  , \"minValSent\"\n",
        "  , \"maxValSent\"\n",
        "  ,\"avgValSent\"\n",
        "  ,\"totalTransactions\"\n",
        "  ,\"totalEtherSent\"\n",
        "  ,\"totalEtherReceived\"\n",
        "  ,\"totalEtherBalance\"    ]\n",
        "\n",
        "  df2_fillna = df2[selected_columns].copy()\n",
        "\n",
        "  df2_fillna.columns = [\"Address\"\n",
        "  ,\"FLAG\"\n",
        "  ,\"Avg_min_between_received_tnx\"\n",
        "  ,\"Avg_min_between_sent_tnx\"\n",
        "  ,\"Sent_tnx\"\n",
        "  ,\"Received_Tnx\"\n",
        "  ,\"Number_of_Created_Contracts\"\n",
        "  ,\"Average_of_Unique_Received_From_Addresses\"\n",
        "  ,\"Average_of_Unique_Sent_To_Addresses\"\n",
        "  ,\"min_value_received\"\n",
        "  ,\"max_value_received \"\n",
        "  ,\"avg_val_received\"\n",
        "  ,\"min_val_sent\"\n",
        "  ,\"max_val_sent\"\n",
        "  ,\"avg_val_sent\"\n",
        "  ,\"total_transactions_including_tnx_to_create_contract\"\n",
        "  ,\"total_Ether_sent\"\n",
        "  ,\"total_ether_received\"\n",
        "  ,\"total_ether_balance\"\n",
        "  ]\n",
        "\n",
        "  merged_df = pd.merge(df1_fillna, df2_fillna, how='outer')\n",
        "  df_filtered = merged_df.drop_duplicates(subset='Address', keep='first')\n",
        "  return df_filtered\n",
        "\n"
      ]
    },
    {
      "cell_type": "code",
      "execution_count": 19,
      "metadata": {
        "id": "qAZ3JtKZO8RO"
      },
      "outputs": [],
      "source": [
        "def scaled(data):\n",
        "  # Convert categorical 'FLAG' to numeric\n",
        "  label_encoder = LabelEncoder()\n",
        "  data['FLAG'] = label_encoder.fit_transform(data['FLAG'])\n",
        "\n",
        "  # Splitting the data into features (X) and labels (y)\n",
        "  X =  data.drop(['FLAG'], axis=1)\n",
        "  y = data['FLAG']\n",
        "\n",
        "  # Standardize features\n",
        "  scaler = StandardScaler()\n",
        "  X_scaled = scaler.fit_transform(X)\n",
        "  #X_scaled['FLAG'] = y\n",
        "\n",
        "\n",
        "  return X_scaled,y"
      ]
    },
    {
      "cell_type": "code",
      "execution_count": 20,
      "metadata": {
        "id": "JTT6oBABCzlX"
      },
      "outputs": [],
      "source": [
        "def undersampling(data, target_column):\n",
        "    # Separate features and target variable\n",
        "    X = data.drop(target_column, axis=1)\n",
        "    y = data[target_column]\n",
        "\n",
        "    # Apply undersampling\n",
        "    undersampler = RandomUnderSampler()\n",
        "    X_resampled, y_resampled = undersampler.fit_resample(X, y)\n",
        "\n",
        "    # Get indices of selected samples\n",
        "    selected_indices = undersampler.sample_indices_\n",
        "\n",
        "    # Get indices of unselected samples\n",
        "    unselected_indices = np.setdiff1d(np.arange(len(X)), selected_indices)\n",
        "\n",
        "    # Extract unselected samples\n",
        "    X_unselected = X.iloc[unselected_indices]\n",
        "    y_unselected = y.iloc[unselected_indices]\n",
        "\n",
        "    # Combine unselected data into a DataFrame\n",
        "    unselected_data = pd.concat([X_unselected, y_unselected], axis=1)\n",
        "    resampled = pd.concat([X_resampled, y_resampled], axis=1)\n",
        "    return resampled, unselected_data"
      ]
    },
    {
      "cell_type": "code",
      "execution_count": 21,
      "metadata": {
        "id": "R372OqcfDl1l"
      },
      "outputs": [],
      "source": [
        "def oversampling(data, target_column):\n",
        "    # Separate features and target variable\n",
        "    X = data.drop(target_column, axis=1)\n",
        "    y = data[target_column]\n",
        "\n",
        "    # Apply oversampling\n",
        "    oversampler = RandomOverSampler()\n",
        "    X_resampled, y_resampled = oversampler.fit_resample(X, y)\n",
        "\n",
        "    # Get indices of selected samples\n",
        "    selected_indices = oversampler.sample_indices_\n",
        "\n",
        "    # Get indices of unselected samples\n",
        "    unselected_indices = np.setdiff1d(np.arange(len(X)), selected_indices)\n",
        "\n",
        "    # Extract unselected samples\n",
        "    X_unselected = X.iloc[unselected_indices]\n",
        "    y_unselected = y.iloc[unselected_indices]\n",
        "\n",
        "    # Combine unselected data into a DataFrame\n",
        "    unselected_data = pd.concat([X_unselected, y_unselected], axis=1)\n",
        "    resampled = pd.concat([X_resampled, y_resampled], axis=1)\n",
        "\n",
        "    return resampled, unselected_data"
      ]
    },
    {
      "cell_type": "code",
      "execution_count": 22,
      "metadata": {
        "id": "ky7ICuRuDl8f"
      },
      "outputs": [],
      "source": [
        "def smote(data, target_column):\n",
        "    # Separate features and target variable\n",
        "    X = data.drop(target_column, axis=1)\n",
        "    y = data[target_column]\n",
        "\n",
        "    # Apply SMOTE\n",
        "    smote = SMOTE()\n",
        "    X_resampled, y_resampled = smote.fit_resample(X, y)\n",
        "\n",
        "    # Combine resampled data into a DataFrame\n",
        "    resampled_data = pd.concat([pd.DataFrame(X_resampled, columns=X.columns), pd.Series(y_resampled, name=target_column)], axis=1)\n",
        "    return resampled_data,''"
      ]
    },
    {
      "cell_type": "code",
      "execution_count": 23,
      "metadata": {
        "id": "YaS8Ky5CCnsG"
      },
      "outputs": [],
      "source": [
        "def ballanced(data,type=\"O\"):\n",
        "\n",
        "  if type==\"U\":\n",
        "    resampled, unselected_data = undersampling(data, 'FLAG')\n",
        "  elif type==\"S\":\n",
        "    resampled, unselected_data  = smote(data, 'FLAG')\n",
        "  elif type==\"O\":\n",
        "    resampled, unselected_data = oversampling(data, 'FLAG')\n",
        "\n",
        "\n",
        "  return resampled, unselected_data\n"
      ]
    },
    {
      "cell_type": "markdown",
      "metadata": {
        "id": "4PMLJfkuLjgJ"
      },
      "source": [
        "#**Preprocessing **"
      ]
    },
    {
      "cell_type": "code",
      "execution_count": 24,
      "metadata": {
        "id": "PQGlmKgmObAP"
      },
      "outputs": [],
      "source": [
        "df_filtered = preprocessing()\n",
        "df_filtered = df_filtered.drop(['Address'], axis=1)"
      ]
    },
    {
      "cell_type": "markdown",
      "metadata": {
        "id": "jkpkxkSm8eEl"
      },
      "source": [
        "**Imballanced Dataset**"
      ]
    },
    {
      "cell_type": "code",
      "execution_count": 25,
      "metadata": {
        "id": "ioeEnhHe8V_e",
        "colab": {
          "base_uri": "https://localhost:8080/",
          "height": 54
        },
        "outputId": "664bb1b2-92d3-4b3a-d816-65561241b11b"
      },
      "outputs": [
        {
          "output_type": "display_data",
          "data": {
            "text/plain": [
              "<Figure size 640x480 with 1 Axes>"
            ],
            "image/png": "[encoded data removed]"
          },
          "metadata": {}
        }
      ],
      "source": [
        "df = df_filtered\n",
        "positive_sample = df[(df[\"FLAG\"]==1)]\n",
        "negative_sample = df[(df[\"FLAG\"]==0)]\n",
        "dist = df[\"FLAG\"].value_counts()\n",
        "\n",
        "_ = plt.pie(dist, labels = [\"Negative ({0})\".format(len(negative_sample)), \"Positive ({0})\".format(len(positive_sample))], colors = [\"r\", \"g\"], explode=[0.2, 0], autopct='%1.1f%%')\n",
        "_ = plt.title(\"Data Distribution\")"
      ]
    },
    {
      "cell_type": "code",
      "execution_count": 26,
      "metadata": {
        "id": "r2cgG4FuNaeE",
        "colab": {
          "base_uri": "https://localhost:8080/"
        },
        "outputId": "6160b652-4860-4d6b-c1a2-bf1c8a39070d"
      },
      "outputs": [
        {
          "output_type": "execute_result",
          "data": {
            "text/plain": [
              "(20302, 18)"
            ]
          },
          "metadata": {},
          "execution_count": 26
        }
      ],
      "source": [
        "#df_filtered = np.array(df_filtered)\n",
        "df_filtered.shape"
      ]
    },
    {
      "cell_type": "code",
      "execution_count": 27,
      "metadata": {
        "id": "oSjP7e4MCIqv",
        "colab": {
          "base_uri": "https://localhost:8080/"
        },
        "outputId": "df9265fa-08a2-4a11-94ec-c3bf5fc69796"
      },
      "outputs": [
        {
          "output_type": "execute_result",
          "data": {
            "text/plain": [
              "(29254, 18)"
            ]
          },
          "metadata": {},
          "execution_count": 27
        }
      ],
      "source": [
        "resampledOver, unselected_Over = ballanced(df_filtered,\"O\")\n",
        "resampledOver.shape"
      ]
    },
    {
      "cell_type": "code",
      "execution_count": 28,
      "metadata": {
        "id": "83thwOx0M_O0",
        "colab": {
          "base_uri": "https://localhost:8080/"
        },
        "outputId": "c36c65e5-18bb-4595-d889-940184690d0c"
      },
      "outputs": [
        {
          "output_type": "execute_result",
          "data": {
            "text/plain": [
              "(11350, 18)"
            ]
          },
          "metadata": {},
          "execution_count": 28
        }
      ],
      "source": [
        "resampledUnder, unselected_Under = ballanced(df_filtered,\"U\")\n",
        "resampledUnder.shape"
      ]
    },
    {
      "cell_type": "code",
      "execution_count": 29,
      "metadata": {
        "id": "E_YfMlHPM_nT",
        "colab": {
          "base_uri": "https://localhost:8080/"
        },
        "outputId": "1e2e5c2d-18ef-4b45-abae-6c26fe325b69"
      },
      "outputs": [
        {
          "output_type": "execute_result",
          "data": {
            "text/plain": [
              "(29254, 18)"
            ]
          },
          "metadata": {},
          "execution_count": 29
        }
      ],
      "source": [
        "resampledSmote, unselected_Smote = ballanced(df_filtered,\"S\")\n",
        "resampledSmote.shape"
      ]
    },
    {
      "cell_type": "code",
      "execution_count": 30,
      "metadata": {
        "id": "YkXr7QaWyWMy",
        "colab": {
          "base_uri": "https://localhost:8080/",
          "height": 383
        },
        "outputId": "d97f201a-b184-444d-cedd-dfcff5500b30"
      },
      "outputs": [
        {
          "output_type": "execute_result",
          "data": {
            "text/plain": [
              "   Avg_min_between_received_tnx  Avg_min_between_sent_tnx  Sent_tnx  \\\n",
              "0                       1093.71                    844.26       721   \n",
              "1                       2958.44                  12709.07        94   \n",
              "2                       2434.02                 246194.54         2   \n",
              "3                      15785.09                  10219.60        25   \n",
              "4                      10707.77                     36.61      4598   \n",
              "5                        375.48                   9900.12         2   \n",
              "6                        629.44                     69.46        25   \n",
              "7                        176.84                   1497.39       213   \n",
              "8                          0.00                      0.00         1   \n",
              "9                       3336.01                   2570.59         8   \n",
              "\n",
              "   Received_Tnx  Number_of_Created_Contracts  \\\n",
              "0            89                            0   \n",
              "1             8                            0   \n",
              "2            10                            0   \n",
              "3             9                            0   \n",
              "4            20                            1   \n",
              "5             3                            0   \n",
              "6            11                            0   \n",
              "7             5                            0   \n",
              "8             1                            0   \n",
              "9             3                            0   \n",
              "\n",
              "   Average_of_Unique_Received_From_Addresses  \\\n",
              "0                                         40   \n",
              "1                                          5   \n",
              "2                                         10   \n",
              "3                                          7   \n",
              "4                                          7   \n",
              "5                                          2   \n",
              "6                                          9   \n",
              "7                                          3   \n",
              "8                                          1   \n",
              "9                                          2   \n",
              "\n",
              "   Average_of_Unique_Sent_To_Addresses  min_value_received  \\\n",
              "0                                  118            0.000000   \n",
              "1                                   14            0.000000   \n",
              "2                                    2            0.113119   \n",
              "3                                   13            0.000000   \n",
              "4                                   19            0.000000   \n",
              "5                                    1            0.724148   \n",
              "6                                   20            0.049000   \n",
              "7                                    3            0.118490   \n",
              "8                                    1            2.000000   \n",
              "9                                    4            0.100000   \n",
              "\n",
              "   max_value_received   avg_val_received  min_val_sent  max_val_sent  \\\n",
              "0            45.806785          6.589513      0.000000     31.220000   \n",
              "1             2.613269          0.385685      0.000000      1.800000   \n",
              "2             1.165453          0.358906      0.050000      3.538616   \n",
              "3           500.000000         99.488840      0.000000    450.000000   \n",
              "4            12.802411          2.671095      0.000000      9.000000   \n",
              "5             4.813776          3.234908      4.166800      5.536916   \n",
              "6             2.650000          1.098115      0.009457      4.284785   \n",
              "7             2.000000          0.891098      0.000000      0.700000   \n",
              "8             2.000000          2.000000      1.999380      1.999380   \n",
              "9            40.000000         16.700000      0.100000     40.000000   \n",
              "\n",
              "   avg_val_sent  total_transactions_including_tnx_to_create_contract  \\\n",
              "0      1.200681                                                810     \n",
              "1      0.032844                                                102     \n",
              "2      1.794308                                                 12     \n",
              "3     70.001834                                                 34     \n",
              "4      0.022688                                               4619     \n",
              "5      4.851858                                                  5     \n",
              "6      0.482496                                                 36     \n",
              "7      0.040861                                                218     \n",
              "8      1.999380                                                  2     \n",
              "9     18.634625                                                 11     \n",
              "\n",
              "   total_Ether_sent  total_ether_received  total_ether_balance  FLAG  \n",
              "0        865.691093            586.466675          -279.224419     0  \n",
              "1          3.087297              3.085478            -0.001819     0  \n",
              "2          3.588616              3.589057             0.000441     0  \n",
              "3       1750.045862            895.399559          -854.646303     0  \n",
              "4        104.318883             53.421897           -50.896986     0  \n",
              "5          9.703716              9.704724             0.001008     0  \n",
              "6         12.062394             12.079266             0.016872     0  \n",
              "7          8.703392              4.455490            -4.247902     0  \n",
              "8          1.999380              2.000000             0.000620     0  \n",
              "9        149.077000             50.100000           -98.977000     0  "
            ],
            "text/html": [
              "\n",
              "  <div id=\"df-460a05e5-54bf-4550-98a3-24ddeff7efc9\" class=\"colab-df-container\">\n",
              "    <div>\n",
              "<style scoped>\n",
              "    .dataframe tbody tr th:only-of-type {\n",
              "        vertical-align: middle;\n",
              "    }\n",
              "\n",
              "    .dataframe tbody tr th {\n",
              "        vertical-align: top;\n",
              "    }\n",
              "\n",
              "    .dataframe thead th {\n",
              "        text-align: right;\n",
              "    }\n",
              "</style>\n",
              "<table border=\"1\" class=\"dataframe\">\n",
              "  <thead>\n",
              "    <tr style=\"text-align: right;\">\n",
              "      <th></th>\n",
              "      <th>Avg_min_between_received_tnx</th>\n",
              "      <th>Avg_min_between_sent_tnx</th>\n",
              "      <th>Sent_tnx</th>\n",
              "      <th>Received_Tnx</th>\n",
              "      <th>Number_of_Created_Contracts</th>\n",
              "      <th>Average_of_Unique_Received_From_Addresses</th>\n",
              "      <th>Average_of_Unique_Sent_To_Addresses</th>\n",
              "      <th>min_value_received</th>\n",
              "      <th>max_value_received</th>\n",
              "      <th>avg_val_received</th>\n",
              "      <th>min_val_sent</th>\n",
              "      <th>max_val_sent</th>\n",
              "      <th>avg_val_sent</th>\n",
              "      <th>total_transactions_including_tnx_to_create_contract</th>\n",
              "      <th>total_Ether_sent</th>\n",
              "      <th>total_ether_received</th>\n",
              "      <th>total_ether_balance</th>\n",
              "      <th>FLAG</th>\n",
              "    </tr>\n",
              "  </thead>\n",
              "  <tbody>\n",
              "    <tr>\n",
              "      <th>0</th>\n",
              "      <td>1093.71</td>\n",
              "      <td>844.26</td>\n",
              "      <td>721</td>\n",
              "      <td>89</td>\n",
              "      <td>0</td>\n",
              "      <td>40</td>\n",
              "      <td>118</td>\n",
              "      <td>0.000000</td>\n",
              "      <td>45.806785</td>\n",
              "      <td>6.589513</td>\n",
              "      <td>0.000000</td>\n",
              "      <td>31.220000</td>\n",
              "      <td>1.200681</td>\n",
              "      <td>810</td>\n",
              "      <td>865.691093</td>\n",
              "      <td>586.466675</td>\n",
              "      <td>-279.224419</td>\n",
              "      <td>0</td>\n",
              "    </tr>\n",
              "    <tr>\n",
              "      <th>1</th>\n",
              "      <td>2958.44</td>\n",
              "      <td>12709.07</td>\n",
              "      <td>94</td>\n",
              "      <td>8</td>\n",
              "      <td>0</td>\n",
              "      <td>5</td>\n",
              "      <td>14</td>\n",
              "      <td>0.000000</td>\n",
              "      <td>2.613269</td>\n",
              "      <td>0.385685</td>\n",
              "      <td>0.000000</td>\n",
              "      <td>1.800000</td>\n",
              "      <td>0.032844</td>\n",
              "      <td>102</td>\n",
              "      <td>3.087297</td>\n",
              "      <td>3.085478</td>\n",
              "      <td>-0.001819</td>\n",
              "      <td>0</td>\n",
              "    </tr>\n",
              "    <tr>\n",
              "      <th>2</th>\n",
              "      <td>2434.02</td>\n",
              "      <td>246194.54</td>\n",
              "      <td>2</td>\n",
              "      <td>10</td>\n",
              "      <td>0</td>\n",
              "      <td>10</td>\n",
              "      <td>2</td>\n",
              "      <td>0.113119</td>\n",
              "      <td>1.165453</td>\n",
              "      <td>0.358906</td>\n",
              "      <td>0.050000</td>\n",
              "      <td>3.538616</td>\n",
              "      <td>1.794308</td>\n",
              "      <td>12</td>\n",
              "      <td>3.588616</td>\n",
              "      <td>3.589057</td>\n",
              "      <td>0.000441</td>\n",
              "      <td>0</td>\n",
              "    </tr>\n",
              "    <tr>\n",
              "      <th>3</th>\n",
              "      <td>15785.09</td>\n",
              "      <td>10219.60</td>\n",
              "      <td>25</td>\n",
              "      <td>9</td>\n",
              "      <td>0</td>\n",
              "      <td>7</td>\n",
              "      <td>13</td>\n",
              "      <td>0.000000</td>\n",
              "      <td>500.000000</td>\n",
              "      <td>99.488840</td>\n",
              "      <td>0.000000</td>\n",
              "      <td>450.000000</td>\n",
              "      <td>70.001834</td>\n",
              "      <td>34</td>\n",
              "      <td>1750.045862</td>\n",
              "      <td>895.399559</td>\n",
              "      <td>-854.646303</td>\n",
              "      <td>0</td>\n",
              "    </tr>\n",
              "    <tr>\n",
              "      <th>4</th>\n",
              "      <td>10707.77</td>\n",
              "      <td>36.61</td>\n",
              "      <td>4598</td>\n",
              "      <td>20</td>\n",
              "      <td>1</td>\n",
              "      <td>7</td>\n",
              "      <td>19</td>\n",
              "      <td>0.000000</td>\n",
              "      <td>12.802411</td>\n",
              "      <td>2.671095</td>\n",
              "      <td>0.000000</td>\n",
              "      <td>9.000000</td>\n",
              "      <td>0.022688</td>\n",
              "      <td>4619</td>\n",
              "      <td>104.318883</td>\n",
              "      <td>53.421897</td>\n",
              "      <td>-50.896986</td>\n",
              "      <td>0</td>\n",
              "    </tr>\n",
              "    <tr>\n",
              "      <th>5</th>\n",
              "      <td>375.48</td>\n",
              "      <td>9900.12</td>\n",
              "      <td>2</td>\n",
              "      <td>3</td>\n",
              "      <td>0</td>\n",
              "      <td>2</td>\n",
              "      <td>1</td>\n",
              "      <td>0.724148</td>\n",
              "      <td>4.813776</td>\n",
              "      <td>3.234908</td>\n",
              "      <td>4.166800</td>\n",
              "      <td>5.536916</td>\n",
              "      <td>4.851858</td>\n",
              "      <td>5</td>\n",
              "      <td>9.703716</td>\n",
              "      <td>9.704724</td>\n",
              "      <td>0.001008</td>\n",
              "      <td>0</td>\n",
              "    </tr>\n",
              "    <tr>\n",
              "      <th>6</th>\n",
              "      <td>629.44</td>\n",
              "      <td>69.46</td>\n",
              "      <td>25</td>\n",
              "      <td>11</td>\n",
              "      <td>0</td>\n",
              "      <td>9</td>\n",
              "      <td>20</td>\n",
              "      <td>0.049000</td>\n",
              "      <td>2.650000</td>\n",
              "      <td>1.098115</td>\n",
              "      <td>0.009457</td>\n",
              "      <td>4.284785</td>\n",
              "      <td>0.482496</td>\n",
              "      <td>36</td>\n",
              "      <td>12.062394</td>\n",
              "      <td>12.079266</td>\n",
              "      <td>0.016872</td>\n",
              "      <td>0</td>\n",
              "    </tr>\n",
              "    <tr>\n",
              "      <th>7</th>\n",
              "      <td>176.84</td>\n",
              "      <td>1497.39</td>\n",
              "      <td>213</td>\n",
              "      <td>5</td>\n",
              "      <td>0</td>\n",
              "      <td>3</td>\n",
              "      <td>3</td>\n",
              "      <td>0.118490</td>\n",
              "      <td>2.000000</td>\n",
              "      <td>0.891098</td>\n",
              "      <td>0.000000</td>\n",
              "      <td>0.700000</td>\n",
              "      <td>0.040861</td>\n",
              "      <td>218</td>\n",
              "      <td>8.703392</td>\n",
              "      <td>4.455490</td>\n",
              "      <td>-4.247902</td>\n",
              "      <td>0</td>\n",
              "    </tr>\n",
              "    <tr>\n",
              "      <th>8</th>\n",
              "      <td>0.00</td>\n",
              "      <td>0.00</td>\n",
              "      <td>1</td>\n",
              "      <td>1</td>\n",
              "      <td>0</td>\n",
              "      <td>1</td>\n",
              "      <td>1</td>\n",
              "      <td>2.000000</td>\n",
              "      <td>2.000000</td>\n",
              "      <td>2.000000</td>\n",
              "      <td>1.999380</td>\n",
              "      <td>1.999380</td>\n",
              "      <td>1.999380</td>\n",
              "      <td>2</td>\n",
              "      <td>1.999380</td>\n",
              "      <td>2.000000</td>\n",
              "      <td>0.000620</td>\n",
              "      <td>0</td>\n",
              "    </tr>\n",
              "    <tr>\n",
              "      <th>9</th>\n",
              "      <td>3336.01</td>\n",
              "      <td>2570.59</td>\n",
              "      <td>8</td>\n",
              "      <td>3</td>\n",
              "      <td>0</td>\n",
              "      <td>2</td>\n",
              "      <td>4</td>\n",
              "      <td>0.100000</td>\n",
              "      <td>40.000000</td>\n",
              "      <td>16.700000</td>\n",
              "      <td>0.100000</td>\n",
              "      <td>40.000000</td>\n",
              "      <td>18.634625</td>\n",
              "      <td>11</td>\n",
              "      <td>149.077000</td>\n",
              "      <td>50.100000</td>\n",
              "      <td>-98.977000</td>\n",
              "      <td>0</td>\n",
              "    </tr>\n",
              "  </tbody>\n",
              "</table>\n",
              "</div>\n",
              "    <div class=\"colab-df-buttons\">\n",
              "\n",
              "  <div class=\"colab-df-container\">\n",
              "    <button class=\"colab-df-convert\" onclick=\"convertToInteractive('df-460a05e5-54bf-4550-98a3-24ddeff7efc9')\"\n",
              "            title=\"Convert this dataframe to an interactive table.\"\n",
              "            style=\"display:none;\">\n",
              "\n",
              "  <svg xmlns=\"http://www.w3.org/2000/svg\" height=\"24px\" viewBox=\"0 -960 960 960\">\n",
              "    <path d=\"M120-120v-720h720v720H120Zm60-500h600v-160H180v160Zm220 220h160v-160H400v160Zm0 220h160v-160H400v160ZM180-400h160v-160H180v160Zm440 0h160v-160H620v160ZM180-180h160v-160H180v160Zm440 0h160v-160H620v160Z\"/>\n",
              "  </svg>\n",
              "    </button>\n",
              "\n",
              "  <style>\n",
              "    .colab-df-container {\n",
              "      display:flex;\n",
              "      gap: 12px;\n",
              "    }\n",
              "\n",
              "    .colab-df-convert {\n",
              "      background-color: #E8F0FE;\n",
              "      border: none;\n",
              "      border-radius: 50%;\n",
              "      cursor: pointer;\n",
              "      display: none;\n",
              "      fill: #1967D2;\n",
              "      height: 32px;\n",
              "      padding: 0 0 0 0;\n",
              "      width: 32px;\n",
              "    }\n",
              "\n",
              "    .colab-df-convert:hover {\n",
              "      background-color: #E2EBFA;\n",
              "      box-shadow: 0px 1px 2px rgba(60, 64, 67, 0.3), 0px 1px 3px 1px rgba(60, 64, 67, 0.15);\n",
              "      fill: #174EA6;\n",
              "    }\n",
              "\n",
              "    .colab-df-buttons div {\n",
              "      margin-bottom: 4px;\n",
              "    }\n",
              "\n",
              "    [theme=dark] .colab-df-convert {\n",
              "      background-color: #3B4455;\n",
              "      fill: #D2E3FC;\n",
              "    }\n",
              "\n",
              "    [theme=dark] .colab-df-convert:hover {\n",
              "      background-color: #434B5C;\n",
              "      box-shadow: 0px 1px 3px 1px rgba(0, 0, 0, 0.15);\n",
              "      filter: drop-shadow(0px 1px 2px rgba(0, 0, 0, 0.3));\n",
              "      fill: #FFFFFF;\n",
              "    }\n",
              "  </style>\n",
              "\n",
              "    <script>\n",
              "      const buttonEl =\n",
              "        document.querySelector('#df-460a05e5-54bf-4550-98a3-24ddeff7efc9 button.colab-df-convert');\n",
              "      buttonEl.style.display =\n",
              "        google.colab.kernel.accessAllowed ? 'block' : 'none';\n",
              "\n",
              "      async function convertToInteractive(key) {\n",
              "        const element = document.querySelector('#df-460a05e5-54bf-4550-98a3-24ddeff7efc9');\n",
              "        const dataTable =\n",
              "          await google.colab.kernel.invokeFunction('convertToInteractive',\n",
              "                                                    [key], {});\n",
              "        if (!dataTable) return;\n",
              "\n",
              "        const docLinkHtml = 'Like what you see? Visit the ' +\n",
              "          '<a target=\"_blank\" href=https://colab.research.google.com/notebooks/data_table.ipynb>data table notebook</a>'\n",
              "          + ' to learn more about interactive tables.';\n",
              "        element.innerHTML = '';\n",
              "        dataTable['output_type'] = 'display_data';\n",
              "        await google.colab.output.renderOutput(dataTable, element);\n",
              "        const docLink = document.createElement('div');\n",
              "        docLink.innerHTML = docLinkHtml;\n",
              "        element.appendChild(docLink);\n",
              "      }\n",
              "    </script>\n",
              "  </div>\n",
              "\n",
              "\n",
              "<div id=\"df-2f7676a9-a3bf-4738-b1f1-86370f671d84\">\n",
              "  <button class=\"colab-df-quickchart\" onclick=\"quickchart('df-2f7676a9-a3bf-4738-b1f1-86370f671d84')\"\n",
              "            title=\"Suggest charts\"\n",
              "            style=\"display:none;\">\n",
              "\n",
              "<svg xmlns=\"http://www.w3.org/2000/svg\" height=\"24px\"viewBox=\"0 0 24 24\"\n",
              "     width=\"24px\">\n",
              "    <g>\n",
              "        <path d=\"M19 3H5c-1.1 0-2 .9-2 2v14c0 1.1.9 2 2 2h14c1.1 0 2-.9 2-2V5c0-1.1-.9-2-2-2zM9 17H7v-7h2v7zm4 0h-2V7h2v10zm4 0h-2v-4h2v4z\"/>\n",
              "    </g>\n",
              "</svg>\n",
              "  </button>\n",
              "\n",
              "<style>\n",
              "  .colab-df-quickchart {\n",
              "      --bg-color: #E8F0FE;\n",
              "      --fill-color: #1967D2;\n",
              "      --hover-bg-color: #E2EBFA;\n",
              "      --hover-fill-color: #174EA6;\n",
              "      --disabled-fill-color: #AAA;\n",
              "      --disabled-bg-color: #DDD;\n",
              "  }\n",
              "\n",
              "  [theme=dark] .colab-df-quickchart {\n",
              "      --bg-color: #3B4455;\n",
              "      --fill-color: #D2E3FC;\n",
              "      --hover-bg-color: #434B5C;\n",
              "      --hover-fill-color: #FFFFFF;\n",
              "      --disabled-bg-color: #3B4455;\n",
              "      --disabled-fill-color: #666;\n",
              "  }\n",
              "\n",
              "  .colab-df-quickchart {\n",
              "    background-color: var(--bg-color);\n",
              "    border: none;\n",
              "    border-radius: 50%;\n",
              "    cursor: pointer;\n",
              "    display: none;\n",
              "    fill: var(--fill-color);\n",
              "    height: 32px;\n",
              "    padding: 0;\n",
              "    width: 32px;\n",
              "  }\n",
              "\n",
              "  .colab-df-quickchart:hover {\n",
              "    background-color: var(--hover-bg-color);\n",
              "    box-shadow: 0 1px 2px rgba(60, 64, 67, 0.3), 0 1px 3px 1px rgba(60, 64, 67, 0.15);\n",
              "    fill: var(--button-hover-fill-color);\n",
              "  }\n",
              "\n",
              "  .colab-df-quickchart-complete:disabled,\n",
              "  .colab-df-quickchart-complete:disabled:hover {\n",
              "    background-color: var(--disabled-bg-color);\n",
              "    fill: var(--disabled-fill-color);\n",
              "    box-shadow: none;\n",
              "  }\n",
              "\n",
              "  .colab-df-spinner {\n",
              "    border: 2px solid var(--fill-color);\n",
              "    border-color: transparent;\n",
              "    border-bottom-color: var(--fill-color);\n",
              "    animation:\n",
              "      spin 1s steps(1) infinite;\n",
              "  }\n",
              "\n",
              "  @keyframes spin {\n",
              "    0% {\n",
              "      border-color: transparent;\n",
              "      border-bottom-color: var(--fill-color);\n",
              "      border-left-color: var(--fill-color);\n",
              "    }\n",
              "    20% {\n",
              "      border-color: transparent;\n",
              "      border-left-color: var(--fill-color);\n",
              "      border-top-color: var(--fill-color);\n",
              "    }\n",
              "    30% {\n",
              "      border-color: transparent;\n",
              "      border-left-color: var(--fill-color);\n",
              "      border-top-color: var(--fill-color);\n",
              "      border-right-color: var(--fill-color);\n",
              "    }\n",
              "    40% {\n",
              "      border-color: transparent;\n",
              "      border-right-color: var(--fill-color);\n",
              "      border-top-color: var(--fill-color);\n",
              "    }\n",
              "    60% {\n",
              "      border-color: transparent;\n",
              "      border-right-color: var(--fill-color);\n",
              "    }\n",
              "    80% {\n",
              "      border-color: transparent;\n",
              "      border-right-color: var(--fill-color);\n",
              "      border-bottom-color: var(--fill-color);\n",
              "    }\n",
              "    90% {\n",
              "      border-color: transparent;\n",
              "      border-bottom-color: var(--fill-color);\n",
              "    }\n",
              "  }\n",
              "</style>\n",
              "\n",
              "  <script>\n",
              "    async function quickchart(key) {\n",
              "      const quickchartButtonEl =\n",
              "        document.querySelector('#' + key + ' button');\n",
              "      quickchartButtonEl.disabled = true;  // To prevent multiple clicks.\n",
              "      quickchartButtonEl.classList.add('colab-df-spinner');\n",
              "      try {\n",
              "        const charts = await google.colab.kernel.invokeFunction(\n",
              "            'suggestCharts', [key], {});\n",
              "      } catch (error) {\n",
              "        console.error('Error during call to suggestCharts:', error);\n",
              "      }\n",
              "      quickchartButtonEl.classList.remove('colab-df-spinner');\n",
              "      quickchartButtonEl.classList.add('colab-df-quickchart-complete');\n",
              "    }\n",
              "    (() => {\n",
              "      let quickchartButtonEl =\n",
              "        document.querySelector('#df-2f7676a9-a3bf-4738-b1f1-86370f671d84 button');\n",
              "      quickchartButtonEl.style.display =\n",
              "        google.colab.kernel.accessAllowed ? 'block' : 'none';\n",
              "    })();\n",
              "  </script>\n",
              "</div>\n",
              "    </div>\n",
              "  </div>\n"
            ],
            "application/vnd.google.colaboratory.intrinsic+json": {
              "type": "dataframe",
              "variable_name": "resampledSmote",
              "summary": "{\n  \"name\": \"resampledSmote\",\n  \"rows\": 29254,\n  \"fields\": [\n    {\n      \"column\": \"Avg_min_between_received_tnx\",\n      \"properties\": {\n        \"dtype\": \"number\",\n        \"std\": 192277315.55364183,\n        \"min\": 0.0,\n        \"max\": 830993230.5,\n        \"num_unique_values\": 21864,\n        \"samples\": [\n          103814420.6,\n          43410070.59409966,\n          33444609.567479294\n        ],\n        \"semantic_type\": \"\",\n        \"description\": \"\"\n      }\n    },\n    {\n      \"column\": \"Avg_min_between_sent_tnx\",\n      \"properties\": {\n        \"dtype\": \"number\",\n        \"std\": 32289748.793096602,\n        \"min\": 0.0,\n        \"max\": 829129862.5,\n        \"num_unique_values\": 17992,\n        \"samples\": [\n          5198.222222,\n          3869.5314909111858,\n          160.48\n        ],\n        \"semantic_type\": \"\",\n        \"description\": \"\"\n      }\n    },\n    {\n      \"column\": \"Sent_tnx\",\n      \"properties\": {\n        \"dtype\": \"number\",\n        \"std\": 1303,\n        \"min\": 0,\n        \"max\": 10000,\n        \"num_unique_values\": 1622,\n        \"samples\": [\n          251,\n          350,\n          5916\n        ],\n        \"semantic_type\": \"\",\n        \"description\": \"\"\n      }\n    },\n    {\n      \"column\": \"Received_Tnx\",\n      \"properties\": {\n        \"dtype\": \"number\",\n        \"std\": 1578,\n        \"min\": 0,\n        \"max\": 10000,\n        \"num_unique_values\": 1516,\n        \"samples\": [\n          73,\n          1287,\n          2095\n        ],\n        \"semantic_type\": \"\",\n        \"description\": \"\"\n      }\n    },\n    {\n      \"column\": \"Number_of_Created_Contracts\",\n      \"properties\": {\n        \"dtype\": \"number\",\n        \"std\": 106,\n        \"min\": 0,\n        \"max\": 9995,\n        \"num_unique_values\": 46,\n        \"samples\": [\n          86,\n          14,\n          8\n        ],\n        \"semantic_type\": \"\",\n        \"description\": \"\"\n      }\n    },\n    {\n      \"column\": \"Average_of_Unique_Received_From_Addresses\",\n      \"properties\": {\n        \"dtype\": \"number\",\n        \"std\": 757,\n        \"min\": 0,\n        \"max\": 9999,\n        \"num_unique_values\": 1376,\n        \"samples\": [\n          678,\n          4278,\n          1434\n        ],\n        \"semantic_type\": \"\",\n        \"description\": \"\"\n      }\n    },\n    {\n      \"column\": \"Average_of_Unique_Sent_To_Addresses\",\n      \"properties\": {\n        \"dtype\": \"number\",\n        \"std\": 430,\n        \"min\": 0,\n        \"max\": 9950,\n        \"num_unique_values\": 764,\n        \"samples\": [\n          309,\n          2003,\n          347\n        ],\n        \"semantic_type\": \"\",\n        \"description\": \"\"\n      }\n    },\n    {\n      \"column\": \"min_value_received\",\n      \"properties\": {\n        \"dtype\": \"number\",\n        \"std\": 461.6630367292542,\n        \"min\": 0.0,\n        \"max\": 25533.61452,\n        \"num_unique_values\": 15384,\n        \"samples\": [\n          0.0004896856575940709,\n          0.293,\n          0.06082044202930439\n        ],\n        \"semantic_type\": \"\",\n        \"description\": \"\"\n      }\n    },\n    {\n      \"column\": \"max_value_received \",\n      \"properties\": {\n        \"dtype\": \"number\",\n        \"std\": 7942.229255067899,\n        \"min\": 0.0,\n        \"max\": 800000.0,\n        \"num_unique_values\": 19715,\n        \"samples\": [\n          7.612283801146634,\n          11056.7167,\n          117.179506\n        ],\n        \"semantic_type\": \"\",\n        \"description\": \"\"\n      }\n    },\n    {\n      \"column\": \"avg_val_received\",\n      \"properties\": {\n        \"dtype\": \"number\",\n        \"std\": 1755.9376558487184,\n        \"min\": 0.0,\n        \"max\": 283618.8316,\n        \"num_unique_values\": 22879,\n        \"samples\": [\n          0.110715,\n          0.302339,\n          0.30467282236983895\n        ],\n        \"semantic_type\": \"\",\n        \"description\": \"\"\n      }\n    },\n    {\n      \"column\": \"min_val_sent\",\n      \"properties\": {\n        \"dtype\": \"number\",\n        \"std\": 233.02571604929318,\n        \"min\": 0.0,\n        \"max\": 25533.61433,\n        \"num_unique_values\": 13521,\n        \"samples\": [\n          0.21570173923207936,\n          0.8454237235812458,\n          0.841178330068211\n        ],\n        \"semantic_type\": \"\",\n        \"description\": \"\"\n      }\n    },\n    {\n      \"column\": \"max_val_sent\",\n      \"properties\": {\n        \"dtype\": \"number\",\n        \"std\": 5361.087300183107,\n        \"min\": 0.0,\n        \"max\": 611102.0145,\n        \"num_unique_values\": 19449,\n        \"samples\": [\n          59.557623651352515,\n          1573.159645,\n          3.0076059957239765\n        ],\n        \"semantic_type\": \"\",\n        \"description\": \"\"\n      }\n    },\n    {\n      \"column\": \"avg_val_sent\",\n      \"properties\": {\n        \"dtype\": \"number\",\n        \"std\": 285.5172066051236,\n        \"min\": 0.0,\n        \"max\": 25533.61433,\n        \"num_unique_values\": 21186,\n        \"samples\": [\n          0.205666,\n          0.088895,\n          0.19493\n        ],\n        \"semantic_type\": \"\",\n        \"description\": \"\"\n      }\n    },\n    {\n      \"column\": \"total_transactions_including_tnx_to_create_contract\",\n      \"properties\": {\n        \"dtype\": \"number\",\n        \"std\": 2109,\n        \"min\": 0,\n        \"max\": 19995,\n        \"num_unique_values\": 2101,\n        \"samples\": [\n          2258,\n          3942,\n          1375\n        ],\n        \"semantic_type\": \"\",\n        \"description\": \"\"\n      }\n    },\n    {\n      \"column\": \"total_Ether_sent\",\n      \"properties\": {\n        \"dtype\": \"number\",\n        \"std\": 214082.94444537323,\n        \"min\": 0.0,\n        \"max\": 28580960.89,\n        \"num_unique_values\": 21325,\n        \"samples\": [\n          10.922477825588738,\n          217.1913081993318,\n          0.136359\n        ],\n        \"semantic_type\": \"\",\n        \"description\": \"\"\n      }\n    },\n    {\n      \"column\": \"total_ether_received\",\n      \"properties\": {\n        \"dtype\": \"number\",\n        \"std\": 214265.4226135775,\n        \"min\": 0.0,\n        \"max\": 28581590.07,\n        \"num_unique_values\": 22896,\n        \"samples\": [\n          92.69996192,\n          1.98452898,\n          99.47065726\n        ],\n        \"semantic_type\": \"\",\n        \"description\": \"\"\n      }\n    },\n    {\n      \"column\": \"total_ether_balance\",\n      \"properties\": {\n        \"dtype\": \"number\",\n        \"std\": 145409.7681295606,\n        \"min\": -15605352.04,\n        \"max\": 14288636.26,\n        \"num_unique_values\": 21892,\n        \"samples\": [\n          47.3908820734128,\n          0.00485529,\n          0.003544262\n        ],\n        \"semantic_type\": \"\",\n        \"description\": \"\"\n      }\n    },\n    {\n      \"column\": \"FLAG\",\n      \"properties\": {\n        \"dtype\": \"number\",\n        \"std\": 0,\n        \"min\": 0,\n        \"max\": 1,\n        \"num_unique_values\": 2,\n        \"samples\": [\n          1,\n          0\n        ],\n        \"semantic_type\": \"\",\n        \"description\": \"\"\n      }\n    }\n  ]\n}"
            }
          },
          "metadata": {},
          "execution_count": 30
        }
      ],
      "source": [
        "resampledSmote.head(10)"
      ]
    },
    {
      "cell_type": "markdown",
      "metadata": {
        "id": "RF68dnrC9FHl"
      },
      "source": [
        "#***Rescaling***"
      ]
    },
    {
      "cell_type": "code",
      "execution_count": 31,
      "metadata": {
        "id": "14LoA_Cg72KW",
        "colab": {
          "base_uri": "https://localhost:8080/"
        },
        "outputId": "483def2d-21d6-4645-d14e-bc7143085b84"
      },
      "outputs": [
        {
          "output_type": "execute_result",
          "data": {
            "text/plain": [
              "(20302, 17)"
            ]
          },
          "metadata": {},
          "execution_count": 31
        }
      ],
      "source": [
        "X_reshaped,y_reshaped = scaled(df_filtered)\n",
        "X_reshaped.shape"
      ]
    },
    {
      "cell_type": "code",
      "execution_count": 32,
      "metadata": {
        "id": "h6FayFZmyfme",
        "colab": {
          "base_uri": "https://localhost:8080/"
        },
        "outputId": "3f46e13a-6529-49ac-acef-97a4e4abf690"
      },
      "outputs": [
        {
          "output_type": "execute_result",
          "data": {
            "text/plain": [
              "(29254, 17)"
            ]
          },
          "metadata": {},
          "execution_count": 32
        }
      ],
      "source": [
        "X_reshapedO,y_reshapedO = scaled(resampledOver)\n",
        "X_reshapedO.shape"
      ]
    },
    {
      "cell_type": "code",
      "execution_count": 33,
      "metadata": {
        "id": "l-W4MtuwyjEM",
        "colab": {
          "base_uri": "https://localhost:8080/"
        },
        "outputId": "2b7ca794-3f68-4cf0-9266-7e7c04c8f9d6"
      },
      "outputs": [
        {
          "output_type": "execute_result",
          "data": {
            "text/plain": [
              "(29254, 17)"
            ]
          },
          "metadata": {},
          "execution_count": 33
        }
      ],
      "source": [
        "X_reshapedS,y_reshapedS = scaled(resampledSmote)\n",
        "X_reshapedS.shape"
      ]
    },
    {
      "cell_type": "code",
      "execution_count": 34,
      "metadata": {
        "id": "D2j_vBLwykKM",
        "colab": {
          "base_uri": "https://localhost:8080/"
        },
        "outputId": "50c2b10c-8511-4b57-a58f-46d98c1fad96"
      },
      "outputs": [
        {
          "output_type": "execute_result",
          "data": {
            "text/plain": [
              "(11350, 17)"
            ]
          },
          "metadata": {},
          "execution_count": 34
        }
      ],
      "source": [
        "X_reshapedU,y_reshapedU= scaled(resampledUnder)\n",
        "X_reshapedU.shape"
      ]
    },
    {
      "cell_type": "code",
      "execution_count": 35,
      "metadata": {
        "id": "mDROGPprooog"
      },
      "outputs": [],
      "source": [
        "# Split the data into training and testing sets\n",
        "X_train, X_test, y_train, y_test =  train_test_split(X_reshaped, df_filtered['FLAG'], test_size=0.1, random_state=42)"
      ]
    },
    {
      "cell_type": "code",
      "execution_count": 36,
      "metadata": {
        "id": "Cd-b8SsCoqJI"
      },
      "outputs": [],
      "source": [
        "X_trainO, X_testO, y_trainO, y_testO =  train_test_split(X_reshapedO, y_reshapedO, test_size=0.1, random_state=42)"
      ]
    },
    {
      "cell_type": "code",
      "execution_count": 37,
      "metadata": {
        "id": "xIwpu_qzQKaB"
      },
      "outputs": [],
      "source": [
        "X_trainU, X_testU, y_trainU, y_testU =  train_test_split(X_reshapedS, y_reshapedS, test_size=0.1, random_state=42)"
      ]
    },
    {
      "cell_type": "code",
      "execution_count": 38,
      "metadata": {
        "id": "L5Dl-cQuotAA"
      },
      "outputs": [],
      "source": [
        "X_trainS, X_testS, y_trainS, y_testS =  train_test_split(X_reshapedU, y_reshapedU, test_size=0.1, random_state=42)"
      ]
    },
    {
      "cell_type": "code",
      "execution_count": 39,
      "metadata": {
        "id": "Zm53EFFUIGB_"
      },
      "outputs": [],
      "source": [
        "# Define the list of training/testing sets\n",
        "training_sets = [(X_train, y_train), (X_trainO, y_trainO), (X_trainU, y_trainU), (X_trainS, y_trainS)]\n",
        "testing_sets = [(X_test, y_test), (X_testO, y_testO), (X_testU, y_testU), (X_testS, y_testS)]"
      ]
    },
    {
      "cell_type": "markdown",
      "metadata": {
        "id": "2fxYuAFhMqe4"
      },
      "source": [
        "# #**Models**"
      ]
    },
    {
      "cell_type": "markdown",
      "metadata": {
        "id": "5GWpKgk_9U5k"
      },
      "source": [
        "# #**Ensemble1**\n",
        "ExrtraTrees\n",
        "\n",
        "RF\n",
        "\n",
        "XGBOOST\n",
        "\n"
      ]
    },
    {
      "cell_type": "code",
      "source": [
        "from sklearn.metrics import accuracy_score, precision_score, recall_score, f1_score, confusion_matrix, cohen_kappa_score\n",
        "from sklearn.model_selection import train_test_split, KFold\n",
        "from sklearn.metrics import roc_curve, roc_auc_score\n",
        "\n",
        "import time"
      ],
      "metadata": {
        "id": "1Ngp5LfOwPO3"
      },
      "execution_count": 40,
      "outputs": []
    },
    {
      "cell_type": "code",
      "execution_count": 41,
      "metadata": {
        "id": "-aa4Sf4AP4hZ"
      },
      "outputs": [],
      "source": [
        "from sklearn.ensemble import ExtraTreesClassifier, RandomForestClassifier\n",
        "import xgboost as xgb\n",
        "from sklearn.model_selection import KFold\n"
      ]
    },
    {
      "cell_type": "code",
      "source": [
        "kf = KFold(n_splits=10, random_state = 42, shuffle=True)\n",
        "fld = 1\n",
        "i = 1\n",
        "X = np.concatenate([X_trainO, X_testO], axis=0)\n",
        "y = np.concatenate([y_trainO, y_testO], axis=0)\n"
      ],
      "metadata": {
        "id": "7dphyf9O0o1f"
      },
      "execution_count": 42,
      "outputs": []
    },
    {
      "cell_type": "code",
      "source": [
        "X_train, X_POtest, y_train, y_POtest = train_test_split(X, y, test_size=0.2, random_state=42)"
      ],
      "metadata": {
        "id": "zHiQQcXD0j3i"
      },
      "execution_count": 43,
      "outputs": []
    },
    {
      "cell_type": "code",
      "source": [
        "\n",
        "results = {}\n"
      ],
      "metadata": {
        "id": "Xnoa0XgE3J7h"
      },
      "execution_count": 44,
      "outputs": []
    },
    {
      "cell_type": "code",
      "source": [
        "X_df = pd.DataFrame(X_train)\n",
        "y_df = pd.DataFrame(y_train)"
      ],
      "metadata": {
        "id": "vFPM7h2F3QxN"
      },
      "execution_count": 45,
      "outputs": []
    },
    {
      "cell_type": "code",
      "source": [
        "ExtraTrees = ExtraTreesClassifier(random_state=42)\n",
        "RF = RandomForestClassifier(random_state=42)\n",
        "XGB = xgb.XGBClassifier(use_label_encoder=False, eval_metric='logloss', random_state=42)\n"
      ],
      "metadata": {
        "id": "XqifjK416aT9"
      },
      "execution_count": 46,
      "outputs": []
    },
    {
      "cell_type": "code",
      "source": [
        "from sklearn.ensemble import VotingClassifier\n",
        "import time"
      ],
      "metadata": {
        "id": "J5ueOsnh6roJ"
      },
      "execution_count": 47,
      "outputs": []
    },
    {
      "cell_type": "code",
      "source": [
        "voting_clf = VotingClassifier(estimators=[\n",
        "    ('extra_trees', ExtraTrees),\n",
        "    ('XGB', XGB)],\n",
        "    voting='soft')\n",
        "fld=1"
      ],
      "metadata": {
        "id": "-IGK4Dcc6WIN"
      },
      "execution_count": 48,
      "outputs": []
    },
    {
      "cell_type": "code",
      "source": [
        "from sklearn.metrics import cohen_kappa_score\n",
        "from sklearn.metrics import roc_curve, roc_auc_score\n"
      ],
      "metadata": {
        "id": "3PXCNSFSEDg_"
      },
      "execution_count": 49,
      "outputs": []
    },
    {
      "cell_type": "code",
      "source": [
        "for train_index, test_index in kf.split(X_train):\n",
        "\n",
        "    TotalTraining_time = 0\n",
        "    TotalInference_Time = 0\n",
        "\n",
        "    X_trainV, X_testV = X_df.iloc[train_index], X_df.iloc[test_index]\n",
        "    y_trainV, y_testV = y_df.iloc[train_index, 0], y_df.iloc[test_index, 0]  # Convert to Series if y_df is single column DataFrame\n",
        "\n",
        "    start_time = time.time()\n",
        "    RF.fit(X_trainV, y_trainV)\n",
        "    TotalTraining_time += time.time() - start_time\n",
        "\n",
        "    # Use argsort directly on feature_importances_, then use .iloc for proper indexing\n",
        "    important_features = np.argsort(RF.feature_importances_)[::-1]\n",
        "\n",
        "    start_time = time.time()\n",
        "    # Adjust indexing for pandas DataFrame\n",
        "    voting_clf.fit(X_trainV.iloc[:, important_features[:]], y_trainV)  # Assuming you want to select top 10 features\n",
        "    TotalTraining_time += time.time() - start_time\n",
        "\n",
        "    start_time = time.time()\n",
        "    # Adjust indexing for pandas DataFrame in prediction as well\n",
        "    V_predictions = voting_clf.predict(X_testV.iloc[:, important_features[:]])\n",
        "    TotalInference_Time += time.time() - start_time\n",
        "\n",
        "    accuracy = accuracy_score(y_testV, V_predictions)\n",
        "    precision = precision_score(y_testV, V_predictions)\n",
        "    recall = recall_score(y_testV, V_predictions)\n",
        "    f1 = f1_score(y_testV, V_predictions)\n",
        "    kappa = cohen_kappa_score(y_testV, V_predictions)\n",
        "    #confusion_matrix = confusion_matrix(y_testV, V_predictions)\n",
        "    roc_auc = roc_auc_score(y_testV, V_predictions)\n",
        "    fpr, tpr, thresholds = roc_curve(y_testV, V_predictions)\n",
        "\n",
        "    results[f'Model_{fld}'] = { 'accuracy': accuracy, 'precision': precision, 'recall': recall, 'f1': f1,'kappa':kappa,'roc_auc':roc_auc\n",
        "                                      ,'tpr':tpr,'thresholds':thresholds,'Inference_Time':TotalInference_Time,'Training_time':TotalTraining_time}\n",
        "\n",
        "\n",
        "    print(f'Metrics for Fold {fld}:')\n",
        "    print(f\"Inference Time: {TotalInference_Time:.4f} seconds\")\n",
        "    print(f\"training Time: {TotalTraining_time:.4f} seconds\")\n",
        "    print(f\"Accuracy: {accuracy:.2f}\")\n",
        "    print(f\"Precision: {precision:.2f}\")\n",
        "    print(f\"Recall: {recall:.2f}\")\n",
        "    print(f\"F1-score: {f1:.2f}\")\n",
        "    print(f\"kappa: {kappa:.2f}\")\n",
        "    print(f\"ROC AUC: {roc_auc:.2f}\")\n",
        "    print(f\"fpr: {fpr}\")\n",
        "    print(f\"tpr: {tpr}\")\n",
        "    print(f\"thresholds: {thresholds}\")\n",
        "   # print(confusion_matrix)\n",
        "    print(\"********************************************************************\")\n",
        "\n",
        "    fld += 1\n"
      ],
      "metadata": {
        "colab": {
          "base_uri": "https://localhost:8080/"
        },
        "id": "MOwrD2VQ_zpN",
        "outputId": "3636288f-8a39-443d-d0ca-9402f34054b7"
      },
      "execution_count": 50,
      "outputs": [
        {
          "output_type": "stream",
          "name": "stdout",
          "text": [
            "Metrics for Fold 1:\n",
            "Inference Time: 0.1525 seconds\n",
            "training Time: 17.8249 seconds\n",
            "Accuracy: 0.96\n",
            "Precision: 0.95\n",
            "Recall: 0.97\n",
            "F1-score: 0.96\n",
            "kappa: 0.92\n",
            "ROC AUC: 0.96\n",
            "fpr: [0.         0.05456095 1.        ]\n",
            "tpr: [0.         0.97174658 1.        ]\n",
            "thresholds: [2 1 0]\n",
            "********************************************************************\n",
            "Metrics for Fold 2:\n",
            "Inference Time: 0.3175 seconds\n",
            "training Time: 21.8999 seconds\n",
            "Accuracy: 0.97\n",
            "Precision: 0.96\n",
            "Recall: 0.98\n",
            "F1-score: 0.97\n",
            "kappa: 0.93\n",
            "ROC AUC: 0.97\n",
            "fpr: [0.         0.04239401 1.        ]\n",
            "tpr: [0.         0.97627417 1.        ]\n",
            "thresholds: [2 1 0]\n",
            "********************************************************************\n",
            "Metrics for Fold 3:\n",
            "Inference Time: 0.0923 seconds\n",
            "training Time: 13.9981 seconds\n",
            "Accuracy: 0.96\n",
            "Precision: 0.95\n",
            "Recall: 0.97\n",
            "F1-score: 0.96\n",
            "kappa: 0.92\n",
            "ROC AUC: 0.96\n",
            "fpr: [0.         0.04753962 1.        ]\n",
            "tpr: [0.         0.97110333 1.        ]\n",
            "thresholds: [2 1 0]\n",
            "********************************************************************\n",
            "Metrics for Fold 4:\n",
            "Inference Time: 0.1327 seconds\n",
            "training Time: 9.3742 seconds\n",
            "Accuracy: 0.96\n",
            "Precision: 0.94\n",
            "Recall: 0.98\n",
            "F1-score: 0.96\n",
            "kappa: 0.91\n",
            "ROC AUC: 0.96\n",
            "fpr: [0.         0.06627018 1.        ]\n",
            "tpr: [0.         0.97678418 1.        ]\n",
            "thresholds: [2 1 0]\n",
            "********************************************************************\n",
            "Metrics for Fold 5:\n",
            "Inference Time: 0.0884 seconds\n",
            "training Time: 7.9984 seconds\n",
            "Accuracy: 0.96\n",
            "Precision: 0.94\n",
            "Recall: 0.98\n",
            "F1-score: 0.96\n",
            "kappa: 0.92\n",
            "ROC AUC: 0.96\n",
            "fpr: [0.         0.05532272 1.        ]\n",
            "tpr: [0.         0.97558849 1.        ]\n",
            "thresholds: [2 1 0]\n",
            "********************************************************************\n",
            "Metrics for Fold 6:\n",
            "Inference Time: 0.0862 seconds\n",
            "training Time: 8.8999 seconds\n",
            "Accuracy: 0.96\n",
            "Precision: 0.95\n",
            "Recall: 0.98\n",
            "F1-score: 0.96\n",
            "kappa: 0.92\n",
            "ROC AUC: 0.96\n",
            "fpr: [0.         0.05752212 1.        ]\n",
            "tpr: [0.         0.97603306 1.        ]\n",
            "thresholds: [2 1 0]\n",
            "********************************************************************\n",
            "Metrics for Fold 7:\n",
            "Inference Time: 0.1220 seconds\n",
            "training Time: 9.0062 seconds\n",
            "Accuracy: 0.97\n",
            "Precision: 0.95\n",
            "Recall: 0.98\n",
            "F1-score: 0.97\n",
            "kappa: 0.93\n",
            "ROC AUC: 0.97\n",
            "fpr: [0.        0.0498732 1.       ]\n",
            "tpr: [0.         0.98184961 1.        ]\n",
            "thresholds: [2 1 0]\n",
            "********************************************************************\n",
            "Metrics for Fold 8:\n",
            "Inference Time: 0.0864 seconds\n",
            "training Time: 8.3173 seconds\n",
            "Accuracy: 0.96\n",
            "Precision: 0.94\n",
            "Recall: 0.98\n",
            "F1-score: 0.96\n",
            "kappa: 0.91\n",
            "ROC AUC: 0.96\n",
            "fpr: [0.         0.06351931 1.        ]\n",
            "tpr: [0.         0.97787234 1.        ]\n",
            "thresholds: [2 1 0]\n",
            "********************************************************************\n",
            "Metrics for Fold 9:\n",
            "Inference Time: 0.0887 seconds\n",
            "training Time: 8.9986 seconds\n",
            "Accuracy: 0.97\n",
            "Precision: 0.95\n",
            "Recall: 0.98\n",
            "F1-score: 0.97\n",
            "kappa: 0.93\n",
            "ROC AUC: 0.96\n",
            "fpr: [0.         0.05146406 1.        ]\n",
            "tpr: [0.         0.98103875 1.        ]\n",
            "thresholds: [2 1 0]\n",
            "********************************************************************\n",
            "Metrics for Fold 10:\n",
            "Inference Time: 0.1376 seconds\n",
            "training Time: 9.0350 seconds\n",
            "Accuracy: 0.96\n",
            "Precision: 0.95\n",
            "Recall: 0.98\n",
            "F1-score: 0.97\n",
            "kappa: 0.93\n",
            "ROC AUC: 0.96\n",
            "fpr: [0.         0.04943625 1.        ]\n",
            "tpr: [0.        0.9789385 1.       ]\n",
            "thresholds: [2 1 0]\n",
            "********************************************************************\n"
          ]
        }
      ]
    },
    {
      "cell_type": "code",
      "source": [
        "V_predictions = voting_clf.predict(X_POtest[:, important_features[:]])\n",
        "accuracy_clf = accuracy_score(y_POtest, V_predictions)\n",
        "accuracy = accuracy_score(y_POtest, V_predictions)\n",
        "precision = precision_score(y_POtest, V_predictions)\n",
        "recall = recall_score(y_POtest, V_predictions)\n",
        "f1 = f1_score(y_POtest, V_predictions)\n",
        "kappa = cohen_kappa_score(y_POtest, V_predictions)\n",
        "roc_auc = roc_auc_score(y_POtest, V_predictions)\n",
        "fpr, tpr, thresholds = roc_curve(y_POtest, V_predictions)"
      ],
      "metadata": {
        "id": "pAZGoXZWAR9Y"
      },
      "execution_count": 51,
      "outputs": []
    },
    {
      "cell_type": "code",
      "source": [
        "print(f\"Accuracy: {accuracy:.2f}\")\n",
        "print(f\"Precision: {precision:.2f}\")\n",
        "print(f\"Recall: {recall:.2f}\")\n",
        "print(f\"F1-score: {f1:.2f}\")\n",
        "print(f\"kappa: {kappa:.2f}\")\n",
        "print(f\"ROC AUC: {roc_auc:.2f}\")\n",
        "print(f\"fpr: {fpr}\")\n",
        "print(f\"tpr: {tpr}\")\n",
        "print(f\"thresholds: {thresholds}\")"
      ],
      "metadata": {
        "colab": {
          "base_uri": "https://localhost:8080/"
        },
        "id": "nt3Xa4GPFV2m",
        "outputId": "ff47cc60-faab-44b2-c4be-076f929fbfc5"
      },
      "execution_count": 52,
      "outputs": [
        {
          "output_type": "stream",
          "name": "stdout",
          "text": [
            "Accuracy: 0.96\n",
            "Precision: 0.94\n",
            "Recall: 0.98\n",
            "F1-score: 0.96\n",
            "kappa: 0.92\n",
            "ROC AUC: 0.96\n",
            "fpr: [0.         0.06087551 1.        ]\n",
            "tpr: [0.        0.9795012 1.       ]\n",
            "thresholds: [2 1 0]\n"
          ]
        }
      ]
    },
    {
      "cell_type": "code",
      "source": [
        "# Initialize lists to store metric values\n",
        "accuracies = []\n",
        "precisions = []\n",
        "recalls = []\n",
        "f1_scores = []\n",
        "kappas = []\n",
        "Inference_Time = []\n",
        "Training_time = []\n",
        "roc_auc = []\n",
        "# Loop over the results dictionary\n",
        "for model, metrics in results.items():\n",
        "    accuracies.append(metrics['accuracy'])\n",
        "    precisions.append(metrics['precision'])\n",
        "    recalls.append(metrics['recall'])\n",
        "    f1_scores.append(metrics['f1'])\n",
        "    kappas.append(metrics['kappa'])\n",
        "    Inference_Time.append(metrics['Inference_Time'])\n",
        "    Training_time.append(metrics['Training_time'])\n",
        "    roc_auc.append(metrics['roc_auc'])\n",
        "\n",
        "# Calculate the best, worst, and average values for each metric\n",
        "best_accuracy = round(max(accuracies), 2)\n",
        "worst_accuracy = round(min(accuracies), 2)\n",
        "average_accuracy = round(sum(accuracies) / len(accuracies), 2)\n",
        "\n",
        "\n",
        "best_precision = round(max(precisions), 2)\n",
        "worst_precision = round(min(precisions), 2)\n",
        "average_precision = round(sum(precisions) / len(precisions), 3)\n",
        "\n",
        "best_recall = round(max(recalls), 2)\n",
        "worst_recall = round(min(recalls), 2)\n",
        "average_recall = round(sum(recalls) / len(recalls), 2)\n",
        "\n",
        "best_f1_score = round(max(f1_scores), 2)\n",
        "worst_f1_score = round(min(f1_scores), 2)\n",
        "average_f1_score = round(sum(f1_scores) / len(f1_scores), 2)\n",
        "\n",
        "best_kappa = round(max(kappas), 2)\n",
        "worst_kappa = round(min(kappas), 2)\n",
        "average_kappa = round(sum(kappas) / len(kappas), 2)\n",
        "\n",
        "best_Inference_Time = round(max(Inference_Time), 5)\n",
        "worst_Inference_Time = round(min(Inference_Time), 5)\n",
        "average_Inference_Time = round(sum(Inference_Time) / len(Inference_Time), 5)\n",
        "\n",
        "\n",
        "best_Training_time = round(max(Training_time), 5)\n",
        "worst_Training_time = round(min(Training_time), 5)\n",
        "average_Training_time = round(sum(Training_time) / len(Training_time), 5)\n",
        "\n",
        "best_roc_auc = round(max(roc_auc), 2)\n",
        "worst_roc_auc = round(min(roc_auc), 2)\n",
        "average_roc_auc = round(sum(roc_auc) / len(roc_auc), 2)\n",
        "\n",
        "# Print the results\n",
        "print(\"Best Accuracy:\", best_accuracy)\n",
        "print(\"Worst Accuracy:\", worst_accuracy)\n",
        "print(\"Average Accuracy:\", average_accuracy)\n",
        "\n",
        "print(\"************************************************\")\n",
        "\n",
        "\n",
        "print(\"Best Precision:\", best_precision)\n",
        "print(\"Worst Precision:\", worst_precision)\n",
        "print(\"Average Precision:\", average_precision)\n",
        "print(\"************************************************\")\n",
        "\n",
        "print(\"Best Recall:\", best_recall)\n",
        "print(\"Worst Recall:\", worst_recall)\n",
        "print(\"Average Recall:\", average_recall)\n",
        "print(\"************************************************\")\n",
        "\n",
        "print(\"Best F1 Score:\", best_f1_score)\n",
        "print(\"Worst F1 Score:\", worst_f1_score)\n",
        "print(\"Average F1 Score:\", average_f1_score)\n",
        "print(\"************************************************\")\n",
        "\n",
        "print(\"Best Kappa:\", best_kappa)\n",
        "print(\"Worst Kappa:\", worst_kappa)\n",
        "print(\"Average Kappa:\", average_kappa)\n",
        "\n",
        "print(\"************************************************\")\n",
        "\n",
        "print(\"Best Inference_Time:\", best_Inference_Time)\n",
        "print(\"Worst Inference_Time:\", worst_Inference_Time)\n",
        "print(\"Average Inference_Time:\", average_Inference_Time)\n",
        "print(\"************************************************\")\n",
        "\n",
        "print(\"Best Training_time:\", best_Training_time)\n",
        "print(\"Worst Training_time:\", worst_Training_time)\n",
        "print(\"Average Training_time:\", average_Training_time)\n",
        "print(\"************************************************\")\n",
        "\n",
        "print(\"Best roc_auc:\", best_roc_auc)\n",
        "print(\"Worst roc_auc:\", worst_roc_auc)\n",
        "print(\"Average roc_auc:\", average_roc_auc)\n"
      ],
      "metadata": {
        "colab": {
          "base_uri": "https://localhost:8080/"
        },
        "id": "eIdmbnxqFqLy",
        "outputId": "bef9186d-7190-4ca9-8703-8dbd42c77a53"
      },
      "execution_count": 53,
      "outputs": [
        {
          "output_type": "stream",
          "name": "stdout",
          "text": [
            "Best Accuracy: 0.97\n",
            "Worst Accuracy: 0.96\n",
            "Average Accuracy: 0.96\n",
            "************************************************\n",
            "Best Precision: 0.96\n",
            "Worst Precision: 0.94\n",
            "Average Precision: 0.948\n",
            "************************************************\n",
            "Best Recall: 0.98\n",
            "Worst Recall: 0.97\n",
            "Average Recall: 0.98\n",
            "************************************************\n",
            "Best F1 Score: 0.97\n",
            "Worst F1 Score: 0.96\n",
            "Average F1 Score: 0.96\n",
            "************************************************\n",
            "Best Kappa: 0.93\n",
            "Worst Kappa: 0.91\n",
            "Average Kappa: 0.92\n",
            "************************************************\n",
            "Best Inference_Time: 0.31746\n",
            "Worst Inference_Time: 0.08621\n",
            "Average Inference_Time: 0.13043\n",
            "************************************************\n",
            "Best Training_time: 21.89989\n",
            "Worst Training_time: 7.99838\n",
            "Average Training_time: 11.53524\n",
            "************************************************\n",
            "Best roc_auc: 0.97\n",
            "Worst roc_auc: 0.96\n",
            "Average roc_auc: 0.96\n"
          ]
        }
      ]
    }
  ],
  "metadata": {
    "colab": {
      "collapsed_sections": [
        "BLvgIhDnCd4I",
        "0l4o7Ec9CMhQ",
        "lKZvvF8DCTjK",
        "4PMLJfkuLjgJ",
        "RF68dnrC9FHl"
      ],
      "provenance": [],
      "authorship_tag": "ABX9TyNKa0njrndgCmBjH+Wugclf",
      "include_colab_link": true
    },
    "kernelspec": {
      "display_name": "Python 3",
      "name": "python3"
    },
    "language_info": {
      "name": "python"
    }
  },
  "nbformat": 4,
  "nbformat_minor": 0
}